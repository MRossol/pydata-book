{
 "cells": [
  {
   "cell_type": "markdown",
   "metadata": {},
   "source": [
    "# Introductory examples"
   ]
  },
  {
   "cell_type": "markdown",
   "metadata": {},
   "source": [
    "## 1.usa.gov data from bit.ly"
   ]
  },
  {
   "cell_type": "code",
   "execution_count": 1,
   "metadata": {
    "collapsed": false
   },
   "outputs": [
    {
     "data": {
      "text/plain": [
       "'C:\\\\Users\\\\MRossol\\\\Dropbox\\\\Python\\\\pydata-book'"
      ]
     },
     "execution_count": 1,
     "metadata": {},
     "output_type": "execute_result"
    }
   ],
   "source": [
    "%pwd"
   ]
  },
  {
   "cell_type": "code",
   "execution_count": 2,
   "metadata": {
    "collapsed": false
   },
   "outputs": [],
   "source": [
    "path = 'ch02/usagov_bitly_data2012-03-16-1331923249.txt'"
   ]
  },
  {
   "cell_type": "code",
   "execution_count": 3,
   "metadata": {
    "collapsed": false
   },
   "outputs": [
    {
     "data": {
      "text/plain": [
       "'{ \"a\": \"Mozilla\\\\/5.0 (Windows NT 6.1; WOW64) AppleWebKit\\\\/535.11 (KHTML, like Gecko) Chrome\\\\/17.0.963.78 Safari\\\\/535.11\", \"c\": \"US\", \"nk\": 1, \"tz\": \"America\\\\/New_York\", \"gr\": \"MA\", \"g\": \"A6qOVH\", \"h\": \"wfLQtf\", \"l\": \"orofrog\", \"al\": \"en-US,en;q=0.8\", \"hh\": \"1.usa.gov\", \"r\": \"http:\\\\/\\\\/www.facebook.com\\\\/l\\\\/7AQEFzjSi\\\\/1.usa.gov\\\\/wfLQtf\", \"u\": \"http:\\\\/\\\\/www.ncbi.nlm.nih.gov\\\\/pubmed\\\\/22415991\", \"t\": 1331923247, \"hc\": 1331822918, \"cy\": \"Danvers\", \"ll\": [ 42.576698, -70.954903 ] }\\n'"
      ]
     },
     "execution_count": 3,
     "metadata": {},
     "output_type": "execute_result"
    }
   ],
   "source": [
    "open(path).readline()"
   ]
  },
  {
   "cell_type": "code",
   "execution_count": 4,
   "metadata": {
    "collapsed": false
   },
   "outputs": [],
   "source": [
    "import json\n",
    "path = 'ch02/usagov_bitly_data2012-03-16-1331923249.txt'\n",
    "records = [json.loads(line) for line in open(path)]"
   ]
  },
  {
   "cell_type": "code",
   "execution_count": 5,
   "metadata": {
    "collapsed": false
   },
   "outputs": [
    {
     "data": {
      "text/plain": [
       "{'a': 'Mozilla/5.0 (Windows NT 6.1; WOW64) AppleWebKit/535.11 (KHTML, like Gecko) Chrome/17.0.963.78 Safari/535.11',\n",
       " 'al': 'en-US,en;q=0.8',\n",
       " 'c': 'US',\n",
       " 'cy': 'Danvers',\n",
       " 'g': 'A6qOVH',\n",
       " 'gr': 'MA',\n",
       " 'h': 'wfLQtf',\n",
       " 'hc': 1331822918,\n",
       " 'hh': '1.usa.gov',\n",
       " 'l': 'orofrog',\n",
       " 'll': [42.576698, -70.954903],\n",
       " 'nk': 1,\n",
       " 'r': 'http://www.facebook.com/l/7AQEFzjSi/1.usa.gov/wfLQtf',\n",
       " 't': 1331923247,\n",
       " 'tz': 'America/New_York',\n",
       " 'u': 'http://www.ncbi.nlm.nih.gov/pubmed/22415991'}"
      ]
     },
     "execution_count": 5,
     "metadata": {},
     "output_type": "execute_result"
    }
   ],
   "source": [
    "records[0]"
   ]
  },
  {
   "cell_type": "code",
   "execution_count": 6,
   "metadata": {
    "collapsed": false
   },
   "outputs": [
    {
     "data": {
      "text/plain": [
       "'America/New_York'"
      ]
     },
     "execution_count": 6,
     "metadata": {},
     "output_type": "execute_result"
    }
   ],
   "source": [
    "records[0]['tz']"
   ]
  },
  {
   "cell_type": "code",
   "execution_count": 7,
   "metadata": {
    "collapsed": false
   },
   "outputs": [
    {
     "name": "stdout",
     "output_type": "stream",
     "text": [
      "America/New_York\n"
     ]
    }
   ],
   "source": [
    "print(records[0]['tz'])"
   ]
  },
  {
   "cell_type": "markdown",
   "metadata": {},
   "source": [
    "### Counting time zones in pure Python"
   ]
  },
  {
   "cell_type": "code",
   "execution_count": 8,
   "metadata": {
    "collapsed": false
   },
   "outputs": [
    {
     "ename": "KeyError",
     "evalue": "'tz'",
     "output_type": "error",
     "traceback": [
      "\u001b[1;31m---------------------------------------------------------------------------\u001b[0m",
      "\u001b[1;31mKeyError\u001b[0m                                  Traceback (most recent call last)",
      "\u001b[1;32m<ipython-input-8-db4fbd348da9>\u001b[0m in \u001b[0;36m<module>\u001b[1;34m()\u001b[0m\n\u001b[1;32m----> 1\u001b[1;33m \u001b[0mtime_zones\u001b[0m \u001b[1;33m=\u001b[0m \u001b[1;33m[\u001b[0m\u001b[0mrec\u001b[0m\u001b[1;33m[\u001b[0m\u001b[1;34m'tz'\u001b[0m\u001b[1;33m]\u001b[0m \u001b[1;32mfor\u001b[0m \u001b[0mrec\u001b[0m \u001b[1;32min\u001b[0m \u001b[0mrecords\u001b[0m\u001b[1;33m]\u001b[0m\u001b[1;33m\u001b[0m\u001b[0m\n\u001b[0m",
      "\u001b[1;32m<ipython-input-8-db4fbd348da9>\u001b[0m in \u001b[0;36m<listcomp>\u001b[1;34m(.0)\u001b[0m\n\u001b[1;32m----> 1\u001b[1;33m \u001b[0mtime_zones\u001b[0m \u001b[1;33m=\u001b[0m \u001b[1;33m[\u001b[0m\u001b[0mrec\u001b[0m\u001b[1;33m[\u001b[0m\u001b[1;34m'tz'\u001b[0m\u001b[1;33m]\u001b[0m \u001b[1;32mfor\u001b[0m \u001b[0mrec\u001b[0m \u001b[1;32min\u001b[0m \u001b[0mrecords\u001b[0m\u001b[1;33m]\u001b[0m\u001b[1;33m\u001b[0m\u001b[0m\n\u001b[0m",
      "\u001b[1;31mKeyError\u001b[0m: 'tz'"
     ]
    }
   ],
   "source": [
    "time_zones = [rec['tz'] for rec in records]"
   ]
  },
  {
   "cell_type": "code",
   "execution_count": 9,
   "metadata": {
    "collapsed": false
   },
   "outputs": [],
   "source": [
    "time_zones = [rec['tz'] for rec in records if 'tz' in rec]"
   ]
  },
  {
   "cell_type": "code",
   "execution_count": 10,
   "metadata": {
    "collapsed": false
   },
   "outputs": [
    {
     "data": {
      "text/plain": [
       "['America/New_York',\n",
       " 'America/Denver',\n",
       " 'America/New_York',\n",
       " 'America/Sao_Paulo',\n",
       " 'America/New_York',\n",
       " 'America/New_York',\n",
       " 'Europe/Warsaw',\n",
       " '',\n",
       " '',\n",
       " '']"
      ]
     },
     "execution_count": 10,
     "metadata": {},
     "output_type": "execute_result"
    }
   ],
   "source": [
    "time_zones[:10]"
   ]
  },
  {
   "cell_type": "code",
   "execution_count": 11,
   "metadata": {
    "collapsed": false
   },
   "outputs": [],
   "source": [
    "def get_counts(sequence):\n",
    "    counts = {}\n",
    "    for x in sequence:\n",
    "        if x in counts:\n",
    "            counts[x] += 1\n",
    "        else:\n",
    "            counts[x] = 1\n",
    "    return counts"
   ]
  },
  {
   "cell_type": "code",
   "execution_count": 12,
   "metadata": {
    "collapsed": false
   },
   "outputs": [],
   "source": [
    "from collections import defaultdict\n",
    "\n",
    "def get_counts2(sequence):\n",
    "    counts = defaultdict(int) # values will initialize to 0\n",
    "    for x in sequence:\n",
    "        counts[x] += 1\n",
    "    return counts"
   ]
  },
  {
   "cell_type": "code",
   "execution_count": 13,
   "metadata": {
    "collapsed": false
   },
   "outputs": [],
   "source": [
    "counts = get_counts(time_zones)"
   ]
  },
  {
   "cell_type": "code",
   "execution_count": 14,
   "metadata": {
    "collapsed": false
   },
   "outputs": [
    {
     "data": {
      "text/plain": [
       "1251"
      ]
     },
     "execution_count": 14,
     "metadata": {},
     "output_type": "execute_result"
    }
   ],
   "source": [
    "counts['America/New_York']"
   ]
  },
  {
   "cell_type": "code",
   "execution_count": 15,
   "metadata": {
    "collapsed": false
   },
   "outputs": [
    {
     "data": {
      "text/plain": [
       "3440"
      ]
     },
     "execution_count": 15,
     "metadata": {},
     "output_type": "execute_result"
    }
   ],
   "source": [
    "len(time_zones)"
   ]
  },
  {
   "cell_type": "code",
   "execution_count": 16,
   "metadata": {
    "collapsed": false
   },
   "outputs": [],
   "source": [
    "def top_counts(count_dict, n=10):\n",
    "    value_key_pairs = [(count, tz) for tz, count in count_dict.items()]\n",
    "    value_key_pairs.sort()\n",
    "    return value_key_pairs[-n:]"
   ]
  },
  {
   "cell_type": "code",
   "execution_count": 17,
   "metadata": {
    "collapsed": false
   },
   "outputs": [
    {
     "data": {
      "text/plain": [
       "[(33, 'America/Sao_Paulo'),\n",
       " (35, 'Europe/Madrid'),\n",
       " (36, 'Pacific/Honolulu'),\n",
       " (37, 'Asia/Tokyo'),\n",
       " (74, 'Europe/London'),\n",
       " (191, 'America/Denver'),\n",
       " (382, 'America/Los_Angeles'),\n",
       " (400, 'America/Chicago'),\n",
       " (521, ''),\n",
       " (1251, 'America/New_York')]"
      ]
     },
     "execution_count": 17,
     "metadata": {},
     "output_type": "execute_result"
    }
   ],
   "source": [
    "top_counts(counts)"
   ]
  },
  {
   "cell_type": "code",
   "execution_count": 18,
   "metadata": {
    "collapsed": false
   },
   "outputs": [],
   "source": [
    "from collections import Counter"
   ]
  },
  {
   "cell_type": "code",
   "execution_count": 19,
   "metadata": {
    "collapsed": false
   },
   "outputs": [],
   "source": [
    "counts = Counter(time_zones)"
   ]
  },
  {
   "cell_type": "code",
   "execution_count": 20,
   "metadata": {
    "collapsed": false
   },
   "outputs": [
    {
     "data": {
      "text/plain": [
       "[('America/New_York', 1251),\n",
       " ('', 521),\n",
       " ('America/Chicago', 400),\n",
       " ('America/Los_Angeles', 382),\n",
       " ('America/Denver', 191),\n",
       " ('Europe/London', 74),\n",
       " ('Asia/Tokyo', 37),\n",
       " ('Pacific/Honolulu', 36),\n",
       " ('Europe/Madrid', 35),\n",
       " ('America/Sao_Paulo', 33)]"
      ]
     },
     "execution_count": 20,
     "metadata": {},
     "output_type": "execute_result"
    }
   ],
   "source": [
    "counts.most_common(10)"
   ]
  },
  {
   "cell_type": "markdown",
   "metadata": {},
   "source": [
    "### Counting time zones with pandas"
   ]
  },
  {
   "cell_type": "code",
   "execution_count": 29,
   "metadata": {
    "collapsed": false
   },
   "outputs": [],
   "source": [
    "%matplotlib inline"
   ]
  },
  {
   "cell_type": "code",
   "execution_count": 22,
   "metadata": {
    "collapsed": false
   },
   "outputs": [],
   "source": [
    "from __future__ import division\n",
    "from numpy.random import randn\n",
    "import numpy as np\n",
    "import os\n",
    "import matplotlib.pyplot as plt\n",
    "import pandas as pd\n",
    "plt.rc('figure', figsize=(10, 6))\n",
    "np.set_printoptions(precision=4)"
   ]
  },
  {
   "cell_type": "code",
   "execution_count": 23,
   "metadata": {
    "collapsed": false
   },
   "outputs": [],
   "source": [
    "import json\n",
    "path = 'ch02/usagov_bitly_data2012-03-16-1331923249.txt'\n",
    "lines = open(path).readlines()\n",
    "records = [json.loads(line) for line in lines]"
   ]
  },
  {
   "cell_type": "code",
   "execution_count": 24,
   "metadata": {
    "collapsed": false
   },
   "outputs": [
    {
     "data": {
      "text/html": [
       "<div style=\"max-height:1000px;max-width:1500px;overflow:auto;\">\n",
       "<table border=\"1\" class=\"dataframe\">\n",
       "  <thead>\n",
       "    <tr style=\"text-align: right;\">\n",
       "      <th></th>\n",
       "      <th>_heartbeat_</th>\n",
       "      <th>a</th>\n",
       "      <th>al</th>\n",
       "      <th>c</th>\n",
       "      <th>cy</th>\n",
       "      <th>g</th>\n",
       "      <th>gr</th>\n",
       "      <th>h</th>\n",
       "      <th>hc</th>\n",
       "      <th>hh</th>\n",
       "      <th>kw</th>\n",
       "      <th>l</th>\n",
       "      <th>ll</th>\n",
       "      <th>nk</th>\n",
       "      <th>r</th>\n",
       "      <th>t</th>\n",
       "      <th>tz</th>\n",
       "      <th>u</th>\n",
       "    </tr>\n",
       "  </thead>\n",
       "  <tbody>\n",
       "    <tr>\n",
       "      <th>0   </th>\n",
       "      <td>        NaN</td>\n",
       "      <td> Mozilla/5.0 (Windows NT 6.1; WOW64) AppleWebKi...</td>\n",
       "      <td>                         en-US,en;q=0.8</td>\n",
       "      <td>   US</td>\n",
       "      <td>          Danvers</td>\n",
       "      <td> A6qOVH</td>\n",
       "      <td>  MA</td>\n",
       "      <td> wfLQtf</td>\n",
       "      <td> 1331822918</td>\n",
       "      <td>   1.usa.gov</td>\n",
       "      <td> NaN</td>\n",
       "      <td>       orofrog</td>\n",
       "      <td>  [42.576698, -70.954903]</td>\n",
       "      <td>  1</td>\n",
       "      <td> http://www.facebook.com/l/7AQEFzjSi/1.usa.gov/...</td>\n",
       "      <td> 1331923247</td>\n",
       "      <td>    America/New_York</td>\n",
       "      <td>       http://www.ncbi.nlm.nih.gov/pubmed/22415991</td>\n",
       "    </tr>\n",
       "    <tr>\n",
       "      <th>1   </th>\n",
       "      <td>        NaN</td>\n",
       "      <td>                            GoogleMaps/RochesterNY</td>\n",
       "      <td>                                    NaN</td>\n",
       "      <td>   US</td>\n",
       "      <td>            Provo</td>\n",
       "      <td> mwszkS</td>\n",
       "      <td>  UT</td>\n",
       "      <td> mwszkS</td>\n",
       "      <td> 1308262393</td>\n",
       "      <td>        j.mp</td>\n",
       "      <td> NaN</td>\n",
       "      <td>         bitly</td>\n",
       "      <td> [40.218102, -111.613297]</td>\n",
       "      <td>  0</td>\n",
       "      <td>                          http://www.AwareMap.com/</td>\n",
       "      <td> 1331923249</td>\n",
       "      <td>      America/Denver</td>\n",
       "      <td>       http://www.monroecounty.gov/etc/911/rss.php</td>\n",
       "    </tr>\n",
       "    <tr>\n",
       "      <th>2   </th>\n",
       "      <td>        NaN</td>\n",
       "      <td> Mozilla/4.0 (compatible; MSIE 8.0; Windows NT ...</td>\n",
       "      <td>                                  en-US</td>\n",
       "      <td>   US</td>\n",
       "      <td>       Washington</td>\n",
       "      <td> xxr3Qb</td>\n",
       "      <td>  DC</td>\n",
       "      <td> xxr3Qb</td>\n",
       "      <td> 1331919941</td>\n",
       "      <td>   1.usa.gov</td>\n",
       "      <td> NaN</td>\n",
       "      <td>         bitly</td>\n",
       "      <td>    [38.9007, -77.043098]</td>\n",
       "      <td>  1</td>\n",
       "      <td>                              http://t.co/03elZC4Q</td>\n",
       "      <td> 1331923250</td>\n",
       "      <td>    America/New_York</td>\n",
       "      <td> http://boxer.senate.gov/en/press/releases/0316...</td>\n",
       "    </tr>\n",
       "    <tr>\n",
       "      <th>3   </th>\n",
       "      <td>        NaN</td>\n",
       "      <td> Mozilla/5.0 (Macintosh; Intel Mac OS X 10_6_8)...</td>\n",
       "      <td>                                  pt-br</td>\n",
       "      <td>   BR</td>\n",
       "      <td>             Braz</td>\n",
       "      <td> zCaLwp</td>\n",
       "      <td>  27</td>\n",
       "      <td> zUtuOu</td>\n",
       "      <td> 1331923068</td>\n",
       "      <td>   1.usa.gov</td>\n",
       "      <td> NaN</td>\n",
       "      <td>      alelex88</td>\n",
       "      <td> [-23.549999, -46.616699]</td>\n",
       "      <td>  0</td>\n",
       "      <td>                                            direct</td>\n",
       "      <td> 1331923249</td>\n",
       "      <td>   America/Sao_Paulo</td>\n",
       "      <td>           http://apod.nasa.gov/apod/ap120312.html</td>\n",
       "    </tr>\n",
       "    <tr>\n",
       "      <th>4   </th>\n",
       "      <td>        NaN</td>\n",
       "      <td> Mozilla/5.0 (Windows NT 6.1; WOW64) AppleWebKi...</td>\n",
       "      <td>                         en-US,en;q=0.8</td>\n",
       "      <td>   US</td>\n",
       "      <td>       Shrewsbury</td>\n",
       "      <td> 9b6kNl</td>\n",
       "      <td>  MA</td>\n",
       "      <td> 9b6kNl</td>\n",
       "      <td> 1273672411</td>\n",
       "      <td>      bit.ly</td>\n",
       "      <td> NaN</td>\n",
       "      <td>         bitly</td>\n",
       "      <td>  [42.286499, -71.714699]</td>\n",
       "      <td>  0</td>\n",
       "      <td>               http://www.shrewsbury-ma.gov/selco/</td>\n",
       "      <td> 1331923251</td>\n",
       "      <td>    America/New_York</td>\n",
       "      <td> http://www.shrewsbury-ma.gov/egov/gallery/1341...</td>\n",
       "    </tr>\n",
       "    <tr>\n",
       "      <th>5   </th>\n",
       "      <td>        NaN</td>\n",
       "      <td> Mozilla/5.0 (Windows NT 6.1; WOW64) AppleWebKi...</td>\n",
       "      <td>                         en-US,en;q=0.8</td>\n",
       "      <td>   US</td>\n",
       "      <td>       Shrewsbury</td>\n",
       "      <td> axNK8c</td>\n",
       "      <td>  MA</td>\n",
       "      <td> axNK8c</td>\n",
       "      <td> 1273672506</td>\n",
       "      <td>      bit.ly</td>\n",
       "      <td> NaN</td>\n",
       "      <td>         bitly</td>\n",
       "      <td>  [42.286499, -71.714699]</td>\n",
       "      <td>  0</td>\n",
       "      <td>               http://www.shrewsbury-ma.gov/selco/</td>\n",
       "      <td> 1331923252</td>\n",
       "      <td>    America/New_York</td>\n",
       "      <td> http://www.shrewsbury-ma.gov/egov/gallery/1341...</td>\n",
       "    </tr>\n",
       "    <tr>\n",
       "      <th>6   </th>\n",
       "      <td>        NaN</td>\n",
       "      <td> Mozilla/5.0 (Windows NT 5.1) AppleWebKit/535.1...</td>\n",
       "      <td>    pl-PL,pl;q=0.8,en-US;q=0.6,en;q=0.4</td>\n",
       "      <td>   PL</td>\n",
       "      <td>            Luban</td>\n",
       "      <td> wcndER</td>\n",
       "      <td>  77</td>\n",
       "      <td> zkpJBR</td>\n",
       "      <td> 1331922854</td>\n",
       "      <td>   1.usa.gov</td>\n",
       "      <td> NaN</td>\n",
       "      <td>      bnjacobs</td>\n",
       "      <td>     [51.116699, 15.2833]</td>\n",
       "      <td>  0</td>\n",
       "      <td> http://plus.url.google.com/url?sa=z&amp;n=13319232...</td>\n",
       "      <td> 1331923255</td>\n",
       "      <td>       Europe/Warsaw</td>\n",
       "      <td> http://www.nasa.gov/mission_pages/nustar/main/...</td>\n",
       "    </tr>\n",
       "    <tr>\n",
       "      <th>7   </th>\n",
       "      <td>        NaN</td>\n",
       "      <td> Mozilla/5.0 (Windows NT 6.1; rv:2.0.1) Gecko/2...</td>\n",
       "      <td>                bg,en-us;q=0.7,en;q=0.3</td>\n",
       "      <td> None</td>\n",
       "      <td>              NaN</td>\n",
       "      <td> wcndER</td>\n",
       "      <td> NaN</td>\n",
       "      <td> zkpJBR</td>\n",
       "      <td> 1331922854</td>\n",
       "      <td>   1.usa.gov</td>\n",
       "      <td> NaN</td>\n",
       "      <td>      bnjacobs</td>\n",
       "      <td>                      NaN</td>\n",
       "      <td>  0</td>\n",
       "      <td>                          http://www.facebook.com/</td>\n",
       "      <td> 1331923255</td>\n",
       "      <td>                    </td>\n",
       "      <td> http://www.nasa.gov/mission_pages/nustar/main/...</td>\n",
       "    </tr>\n",
       "    <tr>\n",
       "      <th>8   </th>\n",
       "      <td>        NaN</td>\n",
       "      <td> Opera/9.80 (X11; Linux zbov; U; en) Presto/2.1...</td>\n",
       "      <td>                              en-US, en</td>\n",
       "      <td> None</td>\n",
       "      <td>              NaN</td>\n",
       "      <td> wcndER</td>\n",
       "      <td> NaN</td>\n",
       "      <td> zkpJBR</td>\n",
       "      <td> 1331922854</td>\n",
       "      <td>   1.usa.gov</td>\n",
       "      <td> NaN</td>\n",
       "      <td>      bnjacobs</td>\n",
       "      <td>                      NaN</td>\n",
       "      <td>  0</td>\n",
       "      <td> http://www.facebook.com/l.php?u=http%3A%2F%2F1...</td>\n",
       "      <td> 1331923254</td>\n",
       "      <td>                    </td>\n",
       "      <td> http://www.nasa.gov/mission_pages/nustar/main/...</td>\n",
       "    </tr>\n",
       "    <tr>\n",
       "      <th>9   </th>\n",
       "      <td>        NaN</td>\n",
       "      <td> Mozilla/5.0 (Windows NT 6.1; WOW64) AppleWebKi...</td>\n",
       "      <td>    pt-BR,pt;q=0.8,en-US;q=0.6,en;q=0.4</td>\n",
       "      <td> None</td>\n",
       "      <td>              NaN</td>\n",
       "      <td> zCaLwp</td>\n",
       "      <td> NaN</td>\n",
       "      <td> zUtuOu</td>\n",
       "      <td> 1331923068</td>\n",
       "      <td>   1.usa.gov</td>\n",
       "      <td> NaN</td>\n",
       "      <td>      alelex88</td>\n",
       "      <td>                      NaN</td>\n",
       "      <td>  0</td>\n",
       "      <td>                              http://t.co/o1Pd0WeV</td>\n",
       "      <td> 1331923255</td>\n",
       "      <td>                    </td>\n",
       "      <td>           http://apod.nasa.gov/apod/ap120312.html</td>\n",
       "    </tr>\n",
       "    <tr>\n",
       "      <th>10  </th>\n",
       "      <td>        NaN</td>\n",
       "      <td> Mozilla/5.0 (Windows NT 6.1; WOW64; rv:10.0.2)...</td>\n",
       "      <td>                         en-us,en;q=0.5</td>\n",
       "      <td>   US</td>\n",
       "      <td>          Seattle</td>\n",
       "      <td> vNJS4H</td>\n",
       "      <td>  WA</td>\n",
       "      <td> u0uD9q</td>\n",
       "      <td> 1319563556</td>\n",
       "      <td>   1.usa.gov</td>\n",
       "      <td> NaN</td>\n",
       "      <td>  o_4us71ccioa</td>\n",
       "      <td>   [47.5951, -122.332603]</td>\n",
       "      <td>  1</td>\n",
       "      <td>                                            direct</td>\n",
       "      <td> 1331923258</td>\n",
       "      <td> America/Los_Angeles</td>\n",
       "      <td> https://www.nysdot.gov/rexdesign/design/commun...</td>\n",
       "    </tr>\n",
       "    <tr>\n",
       "      <th>11  </th>\n",
       "      <td>        NaN</td>\n",
       "      <td> Mozilla/5.0 (Macintosh; U; Intel Mac OS X 10.4...</td>\n",
       "      <td>                         en-us,en;q=0.5</td>\n",
       "      <td>   US</td>\n",
       "      <td>       Washington</td>\n",
       "      <td> wG7OIH</td>\n",
       "      <td>  DC</td>\n",
       "      <td> A0nRz4</td>\n",
       "      <td> 1331815838</td>\n",
       "      <td>   1.usa.gov</td>\n",
       "      <td> NaN</td>\n",
       "      <td>   darrellissa</td>\n",
       "      <td>  [38.937599, -77.092796]</td>\n",
       "      <td>  0</td>\n",
       "      <td>                              http://t.co/ND7SoPyo</td>\n",
       "      <td> 1331923259</td>\n",
       "      <td>    America/New_York</td>\n",
       "      <td> http://oversight.house.gov/wp-content/uploads/...</td>\n",
       "    </tr>\n",
       "    <tr>\n",
       "      <th>12  </th>\n",
       "      <td>        NaN</td>\n",
       "      <td> Mozilla/5.0 (Windows NT 6.1; WOW64; rv:10.0.2)...</td>\n",
       "      <td>                         en-us,en;q=0.5</td>\n",
       "      <td>   US</td>\n",
       "      <td>       Alexandria</td>\n",
       "      <td> vNJS4H</td>\n",
       "      <td>  VA</td>\n",
       "      <td> u0uD9q</td>\n",
       "      <td> 1319563556</td>\n",
       "      <td>   1.usa.gov</td>\n",
       "      <td> NaN</td>\n",
       "      <td>  o_4us71ccioa</td>\n",
       "      <td>  [38.790901, -77.094704]</td>\n",
       "      <td>  1</td>\n",
       "      <td>                                            direct</td>\n",
       "      <td> 1331923259</td>\n",
       "      <td>    America/New_York</td>\n",
       "      <td> https://www.nysdot.gov/rexdesign/design/commun...</td>\n",
       "    </tr>\n",
       "    <tr>\n",
       "      <th>13  </th>\n",
       "      <td> 1331923261</td>\n",
       "      <td>                                               NaN</td>\n",
       "      <td>                                    NaN</td>\n",
       "      <td>  NaN</td>\n",
       "      <td>              NaN</td>\n",
       "      <td>    NaN</td>\n",
       "      <td> NaN</td>\n",
       "      <td>    NaN</td>\n",
       "      <td>        NaN</td>\n",
       "      <td>         NaN</td>\n",
       "      <td> NaN</td>\n",
       "      <td>           NaN</td>\n",
       "      <td>                      NaN</td>\n",
       "      <td>NaN</td>\n",
       "      <td>                                               NaN</td>\n",
       "      <td>        NaN</td>\n",
       "      <td>                 NaN</td>\n",
       "      <td>                                               NaN</td>\n",
       "    </tr>\n",
       "    <tr>\n",
       "      <th>14  </th>\n",
       "      <td>        NaN</td>\n",
       "      <td> Mozilla/5.0 (Windows; U; Windows NT 6.1; en-US...</td>\n",
       "      <td>                         en-us,en;q=0.5</td>\n",
       "      <td>   US</td>\n",
       "      <td>         Marietta</td>\n",
       "      <td> 2rOUYc</td>\n",
       "      <td>  GA</td>\n",
       "      <td> 2rOUYc</td>\n",
       "      <td> 1255769846</td>\n",
       "      <td>   1.usa.gov</td>\n",
       "      <td> NaN</td>\n",
       "      <td>         bitly</td>\n",
       "      <td>    [33.953201, -84.5177]</td>\n",
       "      <td>  1</td>\n",
       "      <td>                                            direct</td>\n",
       "      <td> 1331923262</td>\n",
       "      <td>    America/New_York</td>\n",
       "      <td>              http://toxtown.nlm.nih.gov/index.php</td>\n",
       "    </tr>\n",
       "    <tr>\n",
       "      <th>15  </th>\n",
       "      <td>        NaN</td>\n",
       "      <td> Mozilla/5.0 (Windows NT 6.1) AppleWebKit/535.1...</td>\n",
       "      <td>    zh-TW,zh;q=0.8,en-US;q=0.6,en;q=0.4</td>\n",
       "      <td>   HK</td>\n",
       "      <td> Central District</td>\n",
       "      <td> nQvgJp</td>\n",
       "      <td>  00</td>\n",
       "      <td> rtrrth</td>\n",
       "      <td> 1317318030</td>\n",
       "      <td>        j.mp</td>\n",
       "      <td> NaN</td>\n",
       "      <td>    walkeryuen</td>\n",
       "      <td>    [22.2833, 114.150002]</td>\n",
       "      <td>  1</td>\n",
       "      <td> http://forum2.hkgolden.com/view.aspx?type=BW&amp;m...</td>\n",
       "      <td> 1331923263</td>\n",
       "      <td>      Asia/Hong_Kong</td>\n",
       "      <td> http://www.ssd.noaa.gov/PS/TROP/TCFP/data/curr...</td>\n",
       "    </tr>\n",
       "    <tr>\n",
       "      <th>16  </th>\n",
       "      <td>        NaN</td>\n",
       "      <td> Mozilla/5.0 (Windows NT 6.1) AppleWebKit/535.1...</td>\n",
       "      <td>    zh-TW,zh;q=0.8,en-US;q=0.6,en;q=0.4</td>\n",
       "      <td>   HK</td>\n",
       "      <td> Central District</td>\n",
       "      <td>  XdUNr</td>\n",
       "      <td>  00</td>\n",
       "      <td> qWkgbq</td>\n",
       "      <td> 1317318039</td>\n",
       "      <td>        j.mp</td>\n",
       "      <td> NaN</td>\n",
       "      <td>    walkeryuen</td>\n",
       "      <td>    [22.2833, 114.150002]</td>\n",
       "      <td>  1</td>\n",
       "      <td> http://forum2.hkgolden.com/view.aspx?type=BW&amp;m...</td>\n",
       "      <td> 1331923263</td>\n",
       "      <td>      Asia/Hong_Kong</td>\n",
       "      <td> http://www.usno.navy.mil/NOOC/nmfc-ph/RSS/jtwc...</td>\n",
       "    </tr>\n",
       "    <tr>\n",
       "      <th>17  </th>\n",
       "      <td>        NaN</td>\n",
       "      <td> Mozilla/5.0 (Macintosh; Intel Mac OS X 10.5; r...</td>\n",
       "      <td>                         en-us,en;q=0.5</td>\n",
       "      <td>   US</td>\n",
       "      <td>        Buckfield</td>\n",
       "      <td> zH1BFf</td>\n",
       "      <td>  ME</td>\n",
       "      <td> x3jOIv</td>\n",
       "      <td> 1331839576</td>\n",
       "      <td>   1.usa.gov</td>\n",
       "      <td> NaN</td>\n",
       "      <td> andyzieminski</td>\n",
       "      <td>  [44.299702, -70.369797]</td>\n",
       "      <td>  0</td>\n",
       "      <td>                              http://t.co/6Cx4ROLs</td>\n",
       "      <td> 1331923264</td>\n",
       "      <td>    America/New_York</td>\n",
       "      <td> http://www.usda.gov/wps/portal/usda/usdahome?c...</td>\n",
       "    </tr>\n",
       "    <tr>\n",
       "      <th>18  </th>\n",
       "      <td>        NaN</td>\n",
       "      <td>                            GoogleMaps/RochesterNY</td>\n",
       "      <td>                                    NaN</td>\n",
       "      <td>   US</td>\n",
       "      <td>            Provo</td>\n",
       "      <td> mwszkS</td>\n",
       "      <td>  UT</td>\n",
       "      <td> mwszkS</td>\n",
       "      <td> 1308262393</td>\n",
       "      <td>   1.usa.gov</td>\n",
       "      <td> NaN</td>\n",
       "      <td>         bitly</td>\n",
       "      <td> [40.218102, -111.613297]</td>\n",
       "      <td>  0</td>\n",
       "      <td>                          http://www.AwareMap.com/</td>\n",
       "      <td> 1331923262</td>\n",
       "      <td>      America/Denver</td>\n",
       "      <td>       http://www.monroecounty.gov/etc/911/rss.php</td>\n",
       "    </tr>\n",
       "    <tr>\n",
       "      <th>19  </th>\n",
       "      <td>        NaN</td>\n",
       "      <td> Mozilla/5.0 (Windows NT 6.1; WOW64) AppleWebKi...</td>\n",
       "      <td>    it-IT,it;q=0.8,en-US;q=0.6,en;q=0.4</td>\n",
       "      <td>   IT</td>\n",
       "      <td>           Venice</td>\n",
       "      <td> wcndER</td>\n",
       "      <td>  20</td>\n",
       "      <td> zkpJBR</td>\n",
       "      <td> 1331922854</td>\n",
       "      <td>   1.usa.gov</td>\n",
       "      <td> NaN</td>\n",
       "      <td>      bnjacobs</td>\n",
       "      <td>     [45.438599, 12.3267]</td>\n",
       "      <td>  0</td>\n",
       "      <td>                          http://www.facebook.com/</td>\n",
       "      <td> 1331923264</td>\n",
       "      <td>         Europe/Rome</td>\n",
       "      <td> http://www.nasa.gov/mission_pages/nustar/main/...</td>\n",
       "    </tr>\n",
       "    <tr>\n",
       "      <th>20  </th>\n",
       "      <td>        NaN</td>\n",
       "      <td> Mozilla/5.0 (compatible; MSIE 9.0; Windows NT ...</td>\n",
       "      <td>                                  es-ES</td>\n",
       "      <td>   ES</td>\n",
       "      <td>            Alcal</td>\n",
       "      <td> zQ95Hi</td>\n",
       "      <td>  51</td>\n",
       "      <td> ytZYWR</td>\n",
       "      <td> 1331670549</td>\n",
       "      <td>   bitly.com</td>\n",
       "      <td> NaN</td>\n",
       "      <td>       jplnews</td>\n",
       "      <td>     [37.516701, -5.9833]</td>\n",
       "      <td>  0</td>\n",
       "      <td>                          http://www.facebook.com/</td>\n",
       "      <td> 1331923265</td>\n",
       "      <td>        Africa/Ceuta</td>\n",
       "      <td> http://voyager.jpl.nasa.gov/imagesvideo/uranus...</td>\n",
       "    </tr>\n",
       "    <tr>\n",
       "      <th>21  </th>\n",
       "      <td>        NaN</td>\n",
       "      <td> Mozilla/5.0 (Macintosh; U; Intel Mac OS X 10.6...</td>\n",
       "      <td>                         en-us,en;q=0.5</td>\n",
       "      <td>   US</td>\n",
       "      <td>    Davidsonville</td>\n",
       "      <td> wcndER</td>\n",
       "      <td>  MD</td>\n",
       "      <td> zkpJBR</td>\n",
       "      <td> 1331922854</td>\n",
       "      <td>   1.usa.gov</td>\n",
       "      <td> NaN</td>\n",
       "      <td>      bnjacobs</td>\n",
       "      <td>  [38.939201, -76.635002]</td>\n",
       "      <td>  0</td>\n",
       "      <td>                          http://www.facebook.com/</td>\n",
       "      <td> 1331923267</td>\n",
       "      <td>    America/New_York</td>\n",
       "      <td> http://www.nasa.gov/mission_pages/nustar/main/...</td>\n",
       "    </tr>\n",
       "    <tr>\n",
       "      <th>22  </th>\n",
       "      <td>        NaN</td>\n",
       "      <td> Mozilla/4.0 (compatible; MSIE 8.0; Windows NT ...</td>\n",
       "      <td>                                  en-us</td>\n",
       "      <td>   US</td>\n",
       "      <td>        Hockessin</td>\n",
       "      <td> y3ZImz</td>\n",
       "      <td>  DE</td>\n",
       "      <td> y3ZImz</td>\n",
       "      <td> 1331064158</td>\n",
       "      <td>   1.usa.gov</td>\n",
       "      <td> NaN</td>\n",
       "      <td>         bitly</td>\n",
       "      <td>     [39.785, -75.682297]</td>\n",
       "      <td>  0</td>\n",
       "      <td>                                            direct</td>\n",
       "      <td> 1331923267</td>\n",
       "      <td>    America/New_York</td>\n",
       "      <td> http://portal.hud.gov/hudportal/documents/hudd...</td>\n",
       "    </tr>\n",
       "    <tr>\n",
       "      <th>23  </th>\n",
       "      <td>        NaN</td>\n",
       "      <td> Mozilla/5.0 (Macintosh; Intel Mac OS X 10_7_3)...</td>\n",
       "      <td>                                  en-us</td>\n",
       "      <td>   US</td>\n",
       "      <td>           Lititz</td>\n",
       "      <td> wWiOiD</td>\n",
       "      <td>  PA</td>\n",
       "      <td> wWiOiD</td>\n",
       "      <td> 1330217829</td>\n",
       "      <td>   1.usa.gov</td>\n",
       "      <td> NaN</td>\n",
       "      <td>         bitly</td>\n",
       "      <td>    [40.174999, -76.3078]</td>\n",
       "      <td>  0</td>\n",
       "      <td> http://www.facebook.com/l.php?u=http%3A%2F%2F1...</td>\n",
       "      <td> 1331923267</td>\n",
       "      <td>    America/New_York</td>\n",
       "      <td> http://www.tricare.mil/mybenefit/ProfileFilter...</td>\n",
       "    </tr>\n",
       "    <tr>\n",
       "      <th>24  </th>\n",
       "      <td>        NaN</td>\n",
       "      <td> Mozilla/5.0 (Windows; U; Windows NT 5.1; es-ES...</td>\n",
       "      <td>    es-es,es;q=0.8,en-us;q=0.5,en;q=0.3</td>\n",
       "      <td>   ES</td>\n",
       "      <td>           Bilbao</td>\n",
       "      <td> wcndER</td>\n",
       "      <td>  59</td>\n",
       "      <td> zkpJBR</td>\n",
       "      <td> 1331922854</td>\n",
       "      <td>   1.usa.gov</td>\n",
       "      <td> NaN</td>\n",
       "      <td>      bnjacobs</td>\n",
       "      <td>         [43.25, -2.9667]</td>\n",
       "      <td>  0</td>\n",
       "      <td>                          http://www.facebook.com/</td>\n",
       "      <td> 1331923268</td>\n",
       "      <td>       Europe/Madrid</td>\n",
       "      <td> http://www.nasa.gov/mission_pages/nustar/main/...</td>\n",
       "    </tr>\n",
       "    <tr>\n",
       "      <th>25  </th>\n",
       "      <td>        NaN</td>\n",
       "      <td> Mozilla/5.0 (Windows NT 6.1) AppleWebKit/535.1...</td>\n",
       "      <td> en-GB,en;q=0.8,en-US;q=0.6,en-AU;q=0.4</td>\n",
       "      <td>   MY</td>\n",
       "      <td>     Kuala Lumpur</td>\n",
       "      <td> wcndER</td>\n",
       "      <td>  14</td>\n",
       "      <td> zkpJBR</td>\n",
       "      <td> 1331922854</td>\n",
       "      <td>   1.usa.gov</td>\n",
       "      <td> NaN</td>\n",
       "      <td>      bnjacobs</td>\n",
       "      <td>     [3.1667, 101.699997]</td>\n",
       "      <td>  0</td>\n",
       "      <td>                          http://www.facebook.com/</td>\n",
       "      <td> 1331923269</td>\n",
       "      <td>   Asia/Kuala_Lumpur</td>\n",
       "      <td> http://www.nasa.gov/mission_pages/nustar/main/...</td>\n",
       "    </tr>\n",
       "    <tr>\n",
       "      <th>26  </th>\n",
       "      <td>        NaN</td>\n",
       "      <td> Mozilla/5.0 (Windows NT 6.1) AppleWebKit/535.1...</td>\n",
       "      <td>    ro-RO,ro;q=0.8,en-US;q=0.6,en;q=0.4</td>\n",
       "      <td>   CY</td>\n",
       "      <td>          Nicosia</td>\n",
       "      <td> wcndER</td>\n",
       "      <td>  04</td>\n",
       "      <td> zkpJBR</td>\n",
       "      <td> 1331922854</td>\n",
       "      <td>   1.usa.gov</td>\n",
       "      <td> NaN</td>\n",
       "      <td>      bnjacobs</td>\n",
       "      <td>   [35.166698, 33.366699]</td>\n",
       "      <td>  0</td>\n",
       "      <td>              http://www.facebook.com/?ref=tn_tnmn</td>\n",
       "      <td> 1331923268</td>\n",
       "      <td>        Asia/Nicosia</td>\n",
       "      <td> http://www.nasa.gov/mission_pages/nustar/main/...</td>\n",
       "    </tr>\n",
       "    <tr>\n",
       "      <th>27  </th>\n",
       "      <td>        NaN</td>\n",
       "      <td> Mozilla/5.0 (Macintosh; Intel Mac OS X 10_6_8)...</td>\n",
       "      <td>                         en-US,en;q=0.8</td>\n",
       "      <td>   BR</td>\n",
       "      <td>           SPaulo</td>\n",
       "      <td> zCaLwp</td>\n",
       "      <td>  27</td>\n",
       "      <td> zUtuOu</td>\n",
       "      <td> 1331923068</td>\n",
       "      <td>   1.usa.gov</td>\n",
       "      <td> NaN</td>\n",
       "      <td>      alelex88</td>\n",
       "      <td>   [-23.5333, -46.616699]</td>\n",
       "      <td>  0</td>\n",
       "      <td>                                            direct</td>\n",
       "      <td> 1331923269</td>\n",
       "      <td>   America/Sao_Paulo</td>\n",
       "      <td>           http://apod.nasa.gov/apod/ap120312.html</td>\n",
       "    </tr>\n",
       "    <tr>\n",
       "      <th>28  </th>\n",
       "      <td>        NaN</td>\n",
       "      <td> Mozilla/5.0 (iPad; CPU OS 5_0_1 like Mac OS X)...</td>\n",
       "      <td>                                  en-us</td>\n",
       "      <td> None</td>\n",
       "      <td>              NaN</td>\n",
       "      <td> vNJS4H</td>\n",
       "      <td> NaN</td>\n",
       "      <td> u0uD9q</td>\n",
       "      <td> 1319563556</td>\n",
       "      <td>   1.usa.gov</td>\n",
       "      <td> NaN</td>\n",
       "      <td>  o_4us71ccioa</td>\n",
       "      <td>                      NaN</td>\n",
       "      <td>  0</td>\n",
       "      <td>                                            direct</td>\n",
       "      <td> 1331923270</td>\n",
       "      <td>                    </td>\n",
       "      <td> https://www.nysdot.gov/rexdesign/design/commun...</td>\n",
       "    </tr>\n",
       "    <tr>\n",
       "      <th>29  </th>\n",
       "      <td>        NaN</td>\n",
       "      <td> Mozilla/5.0 (iPad; U; CPU OS 3_2 like Mac OS X...</td>\n",
       "      <td>                                  en-us</td>\n",
       "      <td> None</td>\n",
       "      <td>              NaN</td>\n",
       "      <td> FPX0IM</td>\n",
       "      <td> NaN</td>\n",
       "      <td> FPX0IL</td>\n",
       "      <td> 1331922978</td>\n",
       "      <td>   1.usa.gov</td>\n",
       "      <td> NaN</td>\n",
       "      <td>  twittershare</td>\n",
       "      <td>                      NaN</td>\n",
       "      <td>  1</td>\n",
       "      <td>                              http://t.co/5xlp0B34</td>\n",
       "      <td> 1331923270</td>\n",
       "      <td>                    </td>\n",
       "      <td> http://www.ed.gov/news/media-advisories/us-dep...</td>\n",
       "    </tr>\n",
       "    <tr>\n",
       "      <th>...</th>\n",
       "      <td>...</td>\n",
       "      <td>...</td>\n",
       "      <td>...</td>\n",
       "      <td>...</td>\n",
       "      <td>...</td>\n",
       "      <td>...</td>\n",
       "      <td>...</td>\n",
       "      <td>...</td>\n",
       "      <td>...</td>\n",
       "      <td>...</td>\n",
       "      <td>...</td>\n",
       "      <td>...</td>\n",
       "      <td>...</td>\n",
       "      <td>...</td>\n",
       "      <td>...</td>\n",
       "      <td>...</td>\n",
       "      <td>...</td>\n",
       "      <td>...</td>\n",
       "    </tr>\n",
       "    <tr>\n",
       "      <th>3530</th>\n",
       "      <td>        NaN</td>\n",
       "      <td> Mozilla/5.0 (Windows NT 6.0) AppleWebKit/535.1...</td>\n",
       "      <td>                         en-US,en;q=0.8</td>\n",
       "      <td>   US</td>\n",
       "      <td>    San Francisco</td>\n",
       "      <td> xVZg4P</td>\n",
       "      <td>  CA</td>\n",
       "      <td> wqUkTo</td>\n",
       "      <td> 1331908247</td>\n",
       "      <td> go.nasa.gov</td>\n",
       "      <td> NaN</td>\n",
       "      <td>   nasatwitter</td>\n",
       "      <td>   [37.7645, -122.429398]</td>\n",
       "      <td>  0</td>\n",
       "      <td> http://www.facebook.com/l.php?u=http%3A%2F%2Fg...</td>\n",
       "      <td> 1331926815</td>\n",
       "      <td> America/Los_Angeles</td>\n",
       "      <td> http://www.nasa.gov/multimedia/imagegallery/im...</td>\n",
       "    </tr>\n",
       "    <tr>\n",
       "      <th>3531</th>\n",
       "      <td>        NaN</td>\n",
       "      <td> Mozilla/5.0 (Macintosh; U; Intel Mac OS X 10_6...</td>\n",
       "      <td>                                  en-US</td>\n",
       "      <td> None</td>\n",
       "      <td>              NaN</td>\n",
       "      <td> wcndER</td>\n",
       "      <td> NaN</td>\n",
       "      <td> zkpJBR</td>\n",
       "      <td> 1331922854</td>\n",
       "      <td>   1.usa.gov</td>\n",
       "      <td> NaN</td>\n",
       "      <td>      bnjacobs</td>\n",
       "      <td>                      NaN</td>\n",
       "      <td>  0</td>\n",
       "      <td>                                            direct</td>\n",
       "      <td> 1331926816</td>\n",
       "      <td>                    </td>\n",
       "      <td> http://www.nasa.gov/mission_pages/nustar/main/...</td>\n",
       "    </tr>\n",
       "    <tr>\n",
       "      <th>3532</th>\n",
       "      <td>        NaN</td>\n",
       "      <td> Mozilla/5.0 (Windows NT 6.1; WOW64; rv:10.0.2)...</td>\n",
       "      <td>                         en-us,en;q=0.5</td>\n",
       "      <td>   US</td>\n",
       "      <td>       Washington</td>\n",
       "      <td> Au3aUS</td>\n",
       "      <td>  DC</td>\n",
       "      <td> A9ct6C</td>\n",
       "      <td> 1331926420</td>\n",
       "      <td>   1.usa.gov</td>\n",
       "      <td> NaN</td>\n",
       "      <td>         ncsha</td>\n",
       "      <td>  [38.904202, -77.031998]</td>\n",
       "      <td>  1</td>\n",
       "      <td>                             http://www.ncsha.org/</td>\n",
       "      <td> 1331926817</td>\n",
       "      <td>    America/New_York</td>\n",
       "      <td> http://portal.hud.gov/hudportal/HUD?src=/press...</td>\n",
       "    </tr>\n",
       "    <tr>\n",
       "      <th>3533</th>\n",
       "      <td>        NaN</td>\n",
       "      <td> Mozilla/5.0 (iPad; CPU OS 5_1 like Mac OS X) A...</td>\n",
       "      <td>                                  en-us</td>\n",
       "      <td>   US</td>\n",
       "      <td>     Jacksonville</td>\n",
       "      <td> b2UtUJ</td>\n",
       "      <td>  FL</td>\n",
       "      <td> ieCdgH</td>\n",
       "      <td> 1301393171</td>\n",
       "      <td> go.nasa.gov</td>\n",
       "      <td> NaN</td>\n",
       "      <td>   nasatwitter</td>\n",
       "      <td>  [30.279301, -81.585098]</td>\n",
       "      <td>  1</td>\n",
       "      <td>                                            direct</td>\n",
       "      <td> 1331926818</td>\n",
       "      <td>    America/New_York</td>\n",
       "      <td>                        http://apod.nasa.gov/apod/</td>\n",
       "    </tr>\n",
       "    <tr>\n",
       "      <th>3534</th>\n",
       "      <td>        NaN</td>\n",
       "      <td> Mozilla/5.0 (Macintosh; Intel Mac OS X 10_6_8)...</td>\n",
       "      <td>                                  en-us</td>\n",
       "      <td>   US</td>\n",
       "      <td>           Frisco</td>\n",
       "      <td> vNJS4H</td>\n",
       "      <td>  TX</td>\n",
       "      <td> u0uD9q</td>\n",
       "      <td> 1319563556</td>\n",
       "      <td>   1.usa.gov</td>\n",
       "      <td> NaN</td>\n",
       "      <td>  o_4us71ccioa</td>\n",
       "      <td>  [33.149899, -96.855499]</td>\n",
       "      <td>  1</td>\n",
       "      <td>                                            direct</td>\n",
       "      <td> 1331926820</td>\n",
       "      <td>     America/Chicago</td>\n",
       "      <td> https://www.nysdot.gov/rexdesign/design/commun...</td>\n",
       "    </tr>\n",
       "    <tr>\n",
       "      <th>3535</th>\n",
       "      <td>        NaN</td>\n",
       "      <td> Mozilla/5.0 (Windows NT 5.1; rv:10.0.2) Gecko/...</td>\n",
       "      <td>                                  en-us</td>\n",
       "      <td>   US</td>\n",
       "      <td>          Houston</td>\n",
       "      <td> zIgLx8</td>\n",
       "      <td>  TX</td>\n",
       "      <td> yrPaLt</td>\n",
       "      <td> 1331903484</td>\n",
       "      <td>     aash.to</td>\n",
       "      <td> NaN</td>\n",
       "      <td>        aashto</td>\n",
       "      <td>  [29.775499, -95.415199]</td>\n",
       "      <td>  1</td>\n",
       "      <td>                                            direct</td>\n",
       "      <td> 1331926823</td>\n",
       "      <td>     America/Chicago</td>\n",
       "      <td> http://ntl.bts.gov/lib/44000/44300/44374/FHWA-...</td>\n",
       "    </tr>\n",
       "    <tr>\n",
       "      <th>3536</th>\n",
       "      <td>        NaN</td>\n",
       "      <td> Mozilla/5.0 (BlackBerry; U; BlackBerry 9800; e...</td>\n",
       "      <td>                         en-US,en;q=0.5</td>\n",
       "      <td> None</td>\n",
       "      <td>              NaN</td>\n",
       "      <td> xIcyim</td>\n",
       "      <td> NaN</td>\n",
       "      <td> yG1TTf</td>\n",
       "      <td> 1331728309</td>\n",
       "      <td> go.nasa.gov</td>\n",
       "      <td> NaN</td>\n",
       "      <td>   nasatwitter</td>\n",
       "      <td>                      NaN</td>\n",
       "      <td>  0</td>\n",
       "      <td>                              http://t.co/g1VKE8zS</td>\n",
       "      <td> 1331926824</td>\n",
       "      <td>                    </td>\n",
       "      <td> http://www.nasa.gov/mission_pages/hurricanes/a...</td>\n",
       "    </tr>\n",
       "    <tr>\n",
       "      <th>3537</th>\n",
       "      <td>        NaN</td>\n",
       "      <td> Mozilla/5.0 (Windows NT 6.1; WOW64; rv:10.0.2)...</td>\n",
       "      <td>    es-es,es;q=0.8,en-us;q=0.5,en;q=0.3</td>\n",
       "      <td>   HN</td>\n",
       "      <td>      Tegucigalpa</td>\n",
       "      <td> zCaLwp</td>\n",
       "      <td>  08</td>\n",
       "      <td> w63FZW</td>\n",
       "      <td> 1331546756</td>\n",
       "      <td>   1.usa.gov</td>\n",
       "      <td> NaN</td>\n",
       "      <td>     bufferapp</td>\n",
       "      <td>       [14.1, -87.216698]</td>\n",
       "      <td>  0</td>\n",
       "      <td>                              http://t.co/A8TJyibE</td>\n",
       "      <td> 1331926825</td>\n",
       "      <td> America/Tegucigalpa</td>\n",
       "      <td>           http://apod.nasa.gov/apod/ap120312.html</td>\n",
       "    </tr>\n",
       "    <tr>\n",
       "      <th>3538</th>\n",
       "      <td>        NaN</td>\n",
       "      <td> Mozilla/5.0 (iPhone; CPU iPhone OS 5_1 like Ma...</td>\n",
       "      <td>                                  en-us</td>\n",
       "      <td>   US</td>\n",
       "      <td>      Los Angeles</td>\n",
       "      <td> qMac9k</td>\n",
       "      <td>  CA</td>\n",
       "      <td> qds1Ge</td>\n",
       "      <td> 1310473559</td>\n",
       "      <td>   1.usa.gov</td>\n",
       "      <td> NaN</td>\n",
       "      <td> healthypeople</td>\n",
       "      <td> [34.041599, -118.298798]</td>\n",
       "      <td>  0</td>\n",
       "      <td>                                            direct</td>\n",
       "      <td> 1331926825</td>\n",
       "      <td> America/Los_Angeles</td>\n",
       "      <td> http://healthypeople.gov/2020/connect/webinars...</td>\n",
       "    </tr>\n",
       "    <tr>\n",
       "      <th>3539</th>\n",
       "      <td>        NaN</td>\n",
       "      <td>   Mozilla/5.0 (compatible; Fedora Core 3) FC3 KDE</td>\n",
       "      <td>                                    NaN</td>\n",
       "      <td>   US</td>\n",
       "      <td>         Bellevue</td>\n",
       "      <td> zu2M5o</td>\n",
       "      <td>  WA</td>\n",
       "      <td> zDhdro</td>\n",
       "      <td> 1331586192</td>\n",
       "      <td>      bit.ly</td>\n",
       "      <td> NaN</td>\n",
       "      <td>      glimtwin</td>\n",
       "      <td> [47.615398, -122.210297]</td>\n",
       "      <td>  0</td>\n",
       "      <td>                                            direct</td>\n",
       "      <td> 1331926827</td>\n",
       "      <td> America/Los_Angeles</td>\n",
       "      <td> http://www.federalreserve.gov/newsevents/press...</td>\n",
       "    </tr>\n",
       "    <tr>\n",
       "      <th>3540</th>\n",
       "      <td>        NaN</td>\n",
       "      <td> Mozilla/5.0 (Windows NT 6.1; WOW64) AppleWebKi...</td>\n",
       "      <td>                         en-US,en;q=0.8</td>\n",
       "      <td>   US</td>\n",
       "      <td>           Payson</td>\n",
       "      <td> wcndER</td>\n",
       "      <td>  UT</td>\n",
       "      <td> zkpJBR</td>\n",
       "      <td> 1331922854</td>\n",
       "      <td>   1.usa.gov</td>\n",
       "      <td> NaN</td>\n",
       "      <td>      bnjacobs</td>\n",
       "      <td> [40.014198, -111.738899]</td>\n",
       "      <td>  0</td>\n",
       "      <td> http://www.facebook.com/l.php?u=http%3A%2F%2F1...</td>\n",
       "      <td> 1331926828</td>\n",
       "      <td>      America/Denver</td>\n",
       "      <td> http://www.nasa.gov/mission_pages/nustar/main/...</td>\n",
       "    </tr>\n",
       "    <tr>\n",
       "      <th>3541</th>\n",
       "      <td>        NaN</td>\n",
       "      <td> Mozilla/5.0 (X11; U; OpenVMS AlphaServer_ES40;...</td>\n",
       "      <td>                                    NaN</td>\n",
       "      <td>   US</td>\n",
       "      <td>         Bellevue</td>\n",
       "      <td> zu2M5o</td>\n",
       "      <td>  WA</td>\n",
       "      <td> zDhdro</td>\n",
       "      <td> 1331586192</td>\n",
       "      <td>   1.usa.gov</td>\n",
       "      <td> NaN</td>\n",
       "      <td>      glimtwin</td>\n",
       "      <td> [47.615398, -122.210297]</td>\n",
       "      <td>  0</td>\n",
       "      <td>                                            direct</td>\n",
       "      <td> 1331926828</td>\n",
       "      <td> America/Los_Angeles</td>\n",
       "      <td> http://www.federalreserve.gov/newsevents/press...</td>\n",
       "    </tr>\n",
       "    <tr>\n",
       "      <th>3542</th>\n",
       "      <td>        NaN</td>\n",
       "      <td> Mozilla/5.0 (compatible; MSIE 9.0; Windows NT ...</td>\n",
       "      <td>                                  en-us</td>\n",
       "      <td>   US</td>\n",
       "      <td>        Pittsburg</td>\n",
       "      <td> y3reI1</td>\n",
       "      <td>  CA</td>\n",
       "      <td> y3reI1</td>\n",
       "      <td> 1331926120</td>\n",
       "      <td>   1.usa.gov</td>\n",
       "      <td> NaN</td>\n",
       "      <td>         bitly</td>\n",
       "      <td>   [38.0051, -121.838699]</td>\n",
       "      <td>  0</td>\n",
       "      <td> http://www.facebook.com/l.php?u=http%3A%2F%2F1...</td>\n",
       "      <td> 1331926829</td>\n",
       "      <td> America/Los_Angeles</td>\n",
       "      <td> http://www.sba.gov/community/blogs/community-b...</td>\n",
       "    </tr>\n",
       "    <tr>\n",
       "      <th>3543</th>\n",
       "      <td> 1331926831</td>\n",
       "      <td>                                               NaN</td>\n",
       "      <td>                                    NaN</td>\n",
       "      <td>  NaN</td>\n",
       "      <td>              NaN</td>\n",
       "      <td>    NaN</td>\n",
       "      <td> NaN</td>\n",
       "      <td>    NaN</td>\n",
       "      <td>        NaN</td>\n",
       "      <td>         NaN</td>\n",
       "      <td> NaN</td>\n",
       "      <td>           NaN</td>\n",
       "      <td>                      NaN</td>\n",
       "      <td>NaN</td>\n",
       "      <td>                                               NaN</td>\n",
       "      <td>        NaN</td>\n",
       "      <td>                 NaN</td>\n",
       "      <td>                                               NaN</td>\n",
       "    </tr>\n",
       "    <tr>\n",
       "      <th>3544</th>\n",
       "      <td>        NaN</td>\n",
       "      <td> Mozilla/5.0 (Windows NT 6.1; WOW64; rv:5.0.1) ...</td>\n",
       "      <td>                         en-us,en;q=0.5</td>\n",
       "      <td>   US</td>\n",
       "      <td>       Wentzville</td>\n",
       "      <td> vNJS4H</td>\n",
       "      <td>  MO</td>\n",
       "      <td> u0uD9q</td>\n",
       "      <td> 1319563556</td>\n",
       "      <td>   1.usa.gov</td>\n",
       "      <td> NaN</td>\n",
       "      <td>  o_4us71ccioa</td>\n",
       "      <td>  [38.790001, -90.854897]</td>\n",
       "      <td>  1</td>\n",
       "      <td>                                            direct</td>\n",
       "      <td> 1331926831</td>\n",
       "      <td>     America/Chicago</td>\n",
       "      <td> https://www.nysdot.gov/rexdesign/design/commun...</td>\n",
       "    </tr>\n",
       "    <tr>\n",
       "      <th>3545</th>\n",
       "      <td>        NaN</td>\n",
       "      <td> Mozilla/5.0 (Windows NT 6.1; WOW64; rv:10.0.2)...</td>\n",
       "      <td>                         en-us,en;q=0.5</td>\n",
       "      <td>   US</td>\n",
       "      <td>    Saint Charles</td>\n",
       "      <td> vNJS4H</td>\n",
       "      <td>  IL</td>\n",
       "      <td> u0uD9q</td>\n",
       "      <td> 1319563556</td>\n",
       "      <td>   1.usa.gov</td>\n",
       "      <td> NaN</td>\n",
       "      <td>  o_4us71ccioa</td>\n",
       "      <td>    [41.9352, -88.290901]</td>\n",
       "      <td>  1</td>\n",
       "      <td>                                            direct</td>\n",
       "      <td> 1331926832</td>\n",
       "      <td>     America/Chicago</td>\n",
       "      <td> https://www.nysdot.gov/rexdesign/design/commun...</td>\n",
       "    </tr>\n",
       "    <tr>\n",
       "      <th>3546</th>\n",
       "      <td>        NaN</td>\n",
       "      <td> Mozilla/5.0 (iPhone; CPU iPhone OS 5_1 like Ma...</td>\n",
       "      <td>                                  en-us</td>\n",
       "      <td>   US</td>\n",
       "      <td>      Los Angeles</td>\n",
       "      <td> qMac9k</td>\n",
       "      <td>  CA</td>\n",
       "      <td> qds1Ge</td>\n",
       "      <td> 1310473559</td>\n",
       "      <td>   1.usa.gov</td>\n",
       "      <td> NaN</td>\n",
       "      <td> healthypeople</td>\n",
       "      <td> [34.041599, -118.298798]</td>\n",
       "      <td>  1</td>\n",
       "      <td>                                            direct</td>\n",
       "      <td> 1331926833</td>\n",
       "      <td> America/Los_Angeles</td>\n",
       "      <td> http://healthypeople.gov/2020/connect/webinars...</td>\n",
       "    </tr>\n",
       "    <tr>\n",
       "      <th>3547</th>\n",
       "      <td>        NaN</td>\n",
       "      <td> Mozilla/5.0 (Macintosh; Intel Mac OS X 10_6_8)...</td>\n",
       "      <td>                                  en-us</td>\n",
       "      <td>   US</td>\n",
       "      <td>    Silver Spring</td>\n",
       "      <td> y0jYkg</td>\n",
       "      <td>  MD</td>\n",
       "      <td> y0jYkg</td>\n",
       "      <td> 1331851811</td>\n",
       "      <td>   1.usa.gov</td>\n",
       "      <td> NaN</td>\n",
       "      <td>         bitly</td>\n",
       "      <td>  [39.052101, -77.014999]</td>\n",
       "      <td>  1</td>\n",
       "      <td>                                            direct</td>\n",
       "      <td> 1331926836</td>\n",
       "      <td>    America/New_York</td>\n",
       "      <td> http://www.epa.gov/otaq/regs/fuels/additive/e1...</td>\n",
       "    </tr>\n",
       "    <tr>\n",
       "      <th>3548</th>\n",
       "      <td>        NaN</td>\n",
       "      <td> Mozilla/5.0 (iPhone; CPU iPhone OS 5_1 like Ma...</td>\n",
       "      <td>                                  en-us</td>\n",
       "      <td>   US</td>\n",
       "      <td>          Mcgehee</td>\n",
       "      <td> y5rMac</td>\n",
       "      <td>  AR</td>\n",
       "      <td> xANY6O</td>\n",
       "      <td> 1331916302</td>\n",
       "      <td>   1.usa.gov</td>\n",
       "      <td> NaN</td>\n",
       "      <td>   twitterfeed</td>\n",
       "      <td>  [33.628399, -91.356903]</td>\n",
       "      <td>  1</td>\n",
       "      <td> https://twitter.com/fdarecalls/status/18069759...</td>\n",
       "      <td> 1331926836</td>\n",
       "      <td>     America/Chicago</td>\n",
       "      <td>   http://www.fda.gov/Safety/Recalls/ucm296326.htm</td>\n",
       "    </tr>\n",
       "    <tr>\n",
       "      <th>3549</th>\n",
       "      <td>        NaN</td>\n",
       "      <td> Mozilla/5.0 (Windows NT 6.1; WOW64) AppleWebKi...</td>\n",
       "      <td>    sv-SE,sv;q=0.8,en-US;q=0.6,en;q=0.4</td>\n",
       "      <td>   SE</td>\n",
       "      <td>         Sollefte</td>\n",
       "      <td>  eH8wu</td>\n",
       "      <td>  24</td>\n",
       "      <td> 7dtjei</td>\n",
       "      <td> 1260316355</td>\n",
       "      <td>   1.usa.gov</td>\n",
       "      <td> NaN</td>\n",
       "      <td>  tweetdeckapi</td>\n",
       "      <td>   [63.166698, 17.266701]</td>\n",
       "      <td>  1</td>\n",
       "      <td>                                            direct</td>\n",
       "      <td> 1331926834</td>\n",
       "      <td>    Europe/Stockholm</td>\n",
       "      <td> http://www.nasa.gov/mission_pages/WISE/main/in...</td>\n",
       "    </tr>\n",
       "    <tr>\n",
       "      <th>3550</th>\n",
       "      <td>        NaN</td>\n",
       "      <td> Mozilla/4.0 (compatible; MSIE 8.0; Windows NT ...</td>\n",
       "      <td>                                  en-us</td>\n",
       "      <td>   US</td>\n",
       "      <td>     Conshohocken</td>\n",
       "      <td> A00b72</td>\n",
       "      <td>  PA</td>\n",
       "      <td> yGSwzn</td>\n",
       "      <td> 1331917632</td>\n",
       "      <td>   1.usa.gov</td>\n",
       "      <td> NaN</td>\n",
       "      <td>       addthis</td>\n",
       "      <td>      [40.0798, -75.2855]</td>\n",
       "      <td>  0</td>\n",
       "      <td>  http://www.linkedin.com/home?trk=hb_tab_home_top</td>\n",
       "      <td> 1331926837</td>\n",
       "      <td>    America/New_York</td>\n",
       "      <td> http://www.nlm.nih.gov/medlineplus/news/fullst...</td>\n",
       "    </tr>\n",
       "    <tr>\n",
       "      <th>3551</th>\n",
       "      <td>        NaN</td>\n",
       "      <td> Mozilla/5.0 (Windows NT 6.1; WOW64) AppleWebKi...</td>\n",
       "      <td>                         en-US,en;q=0.8</td>\n",
       "      <td> None</td>\n",
       "      <td>              NaN</td>\n",
       "      <td> wcndER</td>\n",
       "      <td> NaN</td>\n",
       "      <td> zkpJBR</td>\n",
       "      <td> 1331922854</td>\n",
       "      <td>   1.usa.gov</td>\n",
       "      <td> NaN</td>\n",
       "      <td>      bnjacobs</td>\n",
       "      <td>                      NaN</td>\n",
       "      <td>  0</td>\n",
       "      <td> http://plus.url.google.com/url?sa=z&amp;n=13319268...</td>\n",
       "      <td> 1331926837</td>\n",
       "      <td>                    </td>\n",
       "      <td> http://www.nasa.gov/mission_pages/nustar/main/...</td>\n",
       "    </tr>\n",
       "    <tr>\n",
       "      <th>3552</th>\n",
       "      <td>        NaN</td>\n",
       "      <td> Mozilla/5.0 (Windows; U; Windows NT 6.1; en-US...</td>\n",
       "      <td>                                    NaN</td>\n",
       "      <td>   US</td>\n",
       "      <td>          Decatur</td>\n",
       "      <td> rqgJuE</td>\n",
       "      <td>  AL</td>\n",
       "      <td> xcz8vt</td>\n",
       "      <td> 1331227417</td>\n",
       "      <td>   1.usa.gov</td>\n",
       "      <td> NaN</td>\n",
       "      <td>     bootsnall</td>\n",
       "      <td>  [34.572701, -86.940598]</td>\n",
       "      <td>  0</td>\n",
       "      <td>                                            direct</td>\n",
       "      <td> 1331926839</td>\n",
       "      <td>     America/Chicago</td>\n",
       "      <td> http://travel.state.gov/passport/passport_5535...</td>\n",
       "    </tr>\n",
       "    <tr>\n",
       "      <th>3553</th>\n",
       "      <td>        NaN</td>\n",
       "      <td> Mozilla/4.0 (compatible; MSIE 7.0; Windows NT ...</td>\n",
       "      <td>                                  en-us</td>\n",
       "      <td>   US</td>\n",
       "      <td>       Shrewsbury</td>\n",
       "      <td> 9b6kNl</td>\n",
       "      <td>  MA</td>\n",
       "      <td> 9b6kNl</td>\n",
       "      <td> 1273672411</td>\n",
       "      <td>      bit.ly</td>\n",
       "      <td> NaN</td>\n",
       "      <td>         bitly</td>\n",
       "      <td>  [42.286499, -71.714699]</td>\n",
       "      <td>  0</td>\n",
       "      <td>               http://www.shrewsbury-ma.gov/selco/</td>\n",
       "      <td> 1331926840</td>\n",
       "      <td>    America/New_York</td>\n",
       "      <td> http://www.shrewsbury-ma.gov/egov/gallery/1341...</td>\n",
       "    </tr>\n",
       "    <tr>\n",
       "      <th>3554</th>\n",
       "      <td>        NaN</td>\n",
       "      <td> Mozilla/4.0 (compatible; MSIE 7.0; Windows NT ...</td>\n",
       "      <td>                                  en-us</td>\n",
       "      <td>   US</td>\n",
       "      <td>       Shrewsbury</td>\n",
       "      <td> axNK8c</td>\n",
       "      <td>  MA</td>\n",
       "      <td> axNK8c</td>\n",
       "      <td> 1273672506</td>\n",
       "      <td>      bit.ly</td>\n",
       "      <td> NaN</td>\n",
       "      <td>         bitly</td>\n",
       "      <td>  [42.286499, -71.714699]</td>\n",
       "      <td>  0</td>\n",
       "      <td>               http://www.shrewsbury-ma.gov/selco/</td>\n",
       "      <td> 1331926840</td>\n",
       "      <td>    America/New_York</td>\n",
       "      <td> http://www.shrewsbury-ma.gov/egov/gallery/1341...</td>\n",
       "    </tr>\n",
       "    <tr>\n",
       "      <th>3555</th>\n",
       "      <td>        NaN</td>\n",
       "      <td> Mozilla/4.0 (compatible; MSIE 9.0; Windows NT ...</td>\n",
       "      <td>                                     en</td>\n",
       "      <td>   US</td>\n",
       "      <td>          Paramus</td>\n",
       "      <td> e5SvKE</td>\n",
       "      <td>  NJ</td>\n",
       "      <td> fqPSr9</td>\n",
       "      <td> 1301298479</td>\n",
       "      <td>   1.usa.gov</td>\n",
       "      <td> NaN</td>\n",
       "      <td>  tweetdeckapi</td>\n",
       "      <td>        [40.9445, -74.07]</td>\n",
       "      <td>  1</td>\n",
       "      <td>                                            direct</td>\n",
       "      <td> 1331926841</td>\n",
       "      <td>    America/New_York</td>\n",
       "      <td> http://www.fda.gov/AdvisoryCommittees/Committe...</td>\n",
       "    </tr>\n",
       "    <tr>\n",
       "      <th>3556</th>\n",
       "      <td>        NaN</td>\n",
       "      <td> Mozilla/5.0 (Windows NT 5.1) AppleWebKit/535.1...</td>\n",
       "      <td>                         en-US,en;q=0.8</td>\n",
       "      <td>   US</td>\n",
       "      <td>    Oklahoma City</td>\n",
       "      <td> jQLtP4</td>\n",
       "      <td>  OK</td>\n",
       "      <td> jQLtP4</td>\n",
       "      <td> 1307530247</td>\n",
       "      <td>   1.usa.gov</td>\n",
       "      <td> NaN</td>\n",
       "      <td>         bitly</td>\n",
       "      <td>    [35.4715, -97.518997]</td>\n",
       "      <td>  0</td>\n",
       "      <td> http://www.facebook.com/l.php?u=http%3A%2F%2F1...</td>\n",
       "      <td> 1331926844</td>\n",
       "      <td>     America/Chicago</td>\n",
       "      <td> http://www.okc.gov/PublicNotificationSystem/Fo...</td>\n",
       "    </tr>\n",
       "    <tr>\n",
       "      <th>3557</th>\n",
       "      <td>        NaN</td>\n",
       "      <td>                            GoogleMaps/RochesterNY</td>\n",
       "      <td>                                    NaN</td>\n",
       "      <td>   US</td>\n",
       "      <td>            Provo</td>\n",
       "      <td> mwszkS</td>\n",
       "      <td>  UT</td>\n",
       "      <td> mwszkS</td>\n",
       "      <td> 1308262393</td>\n",
       "      <td>        j.mp</td>\n",
       "      <td> NaN</td>\n",
       "      <td>         bitly</td>\n",
       "      <td> [40.218102, -111.613297]</td>\n",
       "      <td>  0</td>\n",
       "      <td>                          http://www.AwareMap.com/</td>\n",
       "      <td> 1331926846</td>\n",
       "      <td>      America/Denver</td>\n",
       "      <td>       http://www.monroecounty.gov/etc/911/rss.php</td>\n",
       "    </tr>\n",
       "    <tr>\n",
       "      <th>3558</th>\n",
       "      <td>        NaN</td>\n",
       "      <td>                                    GoogleProducer</td>\n",
       "      <td>                                    NaN</td>\n",
       "      <td>   US</td>\n",
       "      <td>    Mountain View</td>\n",
       "      <td> zjtI4X</td>\n",
       "      <td>  CA</td>\n",
       "      <td> zjtI4X</td>\n",
       "      <td> 1327528527</td>\n",
       "      <td>   1.usa.gov</td>\n",
       "      <td> NaN</td>\n",
       "      <td>         bitly</td>\n",
       "      <td> [37.419201, -122.057404]</td>\n",
       "      <td>  0</td>\n",
       "      <td>                                            direct</td>\n",
       "      <td> 1331926847</td>\n",
       "      <td> America/Los_Angeles</td>\n",
       "      <td>               http://www.ahrq.gov/qual/qitoolkit/</td>\n",
       "    </tr>\n",
       "    <tr>\n",
       "      <th>3559</th>\n",
       "      <td>        NaN</td>\n",
       "      <td> Mozilla/4.0 (compatible; MSIE 8.0; Windows NT ...</td>\n",
       "      <td>                                  en-US</td>\n",
       "      <td>   US</td>\n",
       "      <td>          Mc Lean</td>\n",
       "      <td> qxKrTK</td>\n",
       "      <td>  VA</td>\n",
       "      <td> qxKrTK</td>\n",
       "      <td> 1312897670</td>\n",
       "      <td>   1.usa.gov</td>\n",
       "      <td> NaN</td>\n",
       "      <td>         bitly</td>\n",
       "      <td>  [38.935799, -77.162102]</td>\n",
       "      <td>  0</td>\n",
       "      <td>                              http://t.co/OEEEvwjU</td>\n",
       "      <td> 1331926849</td>\n",
       "      <td>    America/New_York</td>\n",
       "      <td> http://herndon-va.gov/Content/public_safety/Pu...</td>\n",
       "    </tr>\n",
       "  </tbody>\n",
       "</table>\n",
       "<p>3560 rows × 18 columns</p>\n",
       "</div>"
      ],
      "text/plain": [
       "      _heartbeat_                                                  a  \\\n",
       "0             NaN  Mozilla/5.0 (Windows NT 6.1; WOW64) AppleWebKi...   \n",
       "1             NaN                             GoogleMaps/RochesterNY   \n",
       "2             NaN  Mozilla/4.0 (compatible; MSIE 8.0; Windows NT ...   \n",
       "3             NaN  Mozilla/5.0 (Macintosh; Intel Mac OS X 10_6_8)...   \n",
       "4             NaN  Mozilla/5.0 (Windows NT 6.1; WOW64) AppleWebKi...   \n",
       "5             NaN  Mozilla/5.0 (Windows NT 6.1; WOW64) AppleWebKi...   \n",
       "6             NaN  Mozilla/5.0 (Windows NT 5.1) AppleWebKit/535.1...   \n",
       "7             NaN  Mozilla/5.0 (Windows NT 6.1; rv:2.0.1) Gecko/2...   \n",
       "8             NaN  Opera/9.80 (X11; Linux zbov; U; en) Presto/2.1...   \n",
       "9             NaN  Mozilla/5.0 (Windows NT 6.1; WOW64) AppleWebKi...   \n",
       "10            NaN  Mozilla/5.0 (Windows NT 6.1; WOW64; rv:10.0.2)...   \n",
       "11            NaN  Mozilla/5.0 (Macintosh; U; Intel Mac OS X 10.4...   \n",
       "12            NaN  Mozilla/5.0 (Windows NT 6.1; WOW64; rv:10.0.2)...   \n",
       "13     1331923261                                                NaN   \n",
       "14            NaN  Mozilla/5.0 (Windows; U; Windows NT 6.1; en-US...   \n",
       "15            NaN  Mozilla/5.0 (Windows NT 6.1) AppleWebKit/535.1...   \n",
       "16            NaN  Mozilla/5.0 (Windows NT 6.1) AppleWebKit/535.1...   \n",
       "17            NaN  Mozilla/5.0 (Macintosh; Intel Mac OS X 10.5; r...   \n",
       "18            NaN                             GoogleMaps/RochesterNY   \n",
       "19            NaN  Mozilla/5.0 (Windows NT 6.1; WOW64) AppleWebKi...   \n",
       "20            NaN  Mozilla/5.0 (compatible; MSIE 9.0; Windows NT ...   \n",
       "21            NaN  Mozilla/5.0 (Macintosh; U; Intel Mac OS X 10.6...   \n",
       "22            NaN  Mozilla/4.0 (compatible; MSIE 8.0; Windows NT ...   \n",
       "23            NaN  Mozilla/5.0 (Macintosh; Intel Mac OS X 10_7_3)...   \n",
       "24            NaN  Mozilla/5.0 (Windows; U; Windows NT 5.1; es-ES...   \n",
       "25            NaN  Mozilla/5.0 (Windows NT 6.1) AppleWebKit/535.1...   \n",
       "26            NaN  Mozilla/5.0 (Windows NT 6.1) AppleWebKit/535.1...   \n",
       "27            NaN  Mozilla/5.0 (Macintosh; Intel Mac OS X 10_6_8)...   \n",
       "28            NaN  Mozilla/5.0 (iPad; CPU OS 5_0_1 like Mac OS X)...   \n",
       "29            NaN  Mozilla/5.0 (iPad; U; CPU OS 3_2 like Mac OS X...   \n",
       "...           ...                                                ...   \n",
       "3530          NaN  Mozilla/5.0 (Windows NT 6.0) AppleWebKit/535.1...   \n",
       "3531          NaN  Mozilla/5.0 (Macintosh; U; Intel Mac OS X 10_6...   \n",
       "3532          NaN  Mozilla/5.0 (Windows NT 6.1; WOW64; rv:10.0.2)...   \n",
       "3533          NaN  Mozilla/5.0 (iPad; CPU OS 5_1 like Mac OS X) A...   \n",
       "3534          NaN  Mozilla/5.0 (Macintosh; Intel Mac OS X 10_6_8)...   \n",
       "3535          NaN  Mozilla/5.0 (Windows NT 5.1; rv:10.0.2) Gecko/...   \n",
       "3536          NaN  Mozilla/5.0 (BlackBerry; U; BlackBerry 9800; e...   \n",
       "3537          NaN  Mozilla/5.0 (Windows NT 6.1; WOW64; rv:10.0.2)...   \n",
       "3538          NaN  Mozilla/5.0 (iPhone; CPU iPhone OS 5_1 like Ma...   \n",
       "3539          NaN    Mozilla/5.0 (compatible; Fedora Core 3) FC3 KDE   \n",
       "3540          NaN  Mozilla/5.0 (Windows NT 6.1; WOW64) AppleWebKi...   \n",
       "3541          NaN  Mozilla/5.0 (X11; U; OpenVMS AlphaServer_ES40;...   \n",
       "3542          NaN  Mozilla/5.0 (compatible; MSIE 9.0; Windows NT ...   \n",
       "3543   1331926831                                                NaN   \n",
       "3544          NaN  Mozilla/5.0 (Windows NT 6.1; WOW64; rv:5.0.1) ...   \n",
       "3545          NaN  Mozilla/5.0 (Windows NT 6.1; WOW64; rv:10.0.2)...   \n",
       "3546          NaN  Mozilla/5.0 (iPhone; CPU iPhone OS 5_1 like Ma...   \n",
       "3547          NaN  Mozilla/5.0 (Macintosh; Intel Mac OS X 10_6_8)...   \n",
       "3548          NaN  Mozilla/5.0 (iPhone; CPU iPhone OS 5_1 like Ma...   \n",
       "3549          NaN  Mozilla/5.0 (Windows NT 6.1; WOW64) AppleWebKi...   \n",
       "3550          NaN  Mozilla/4.0 (compatible; MSIE 8.0; Windows NT ...   \n",
       "3551          NaN  Mozilla/5.0 (Windows NT 6.1; WOW64) AppleWebKi...   \n",
       "3552          NaN  Mozilla/5.0 (Windows; U; Windows NT 6.1; en-US...   \n",
       "3553          NaN  Mozilla/4.0 (compatible; MSIE 7.0; Windows NT ...   \n",
       "3554          NaN  Mozilla/4.0 (compatible; MSIE 7.0; Windows NT ...   \n",
       "3555          NaN  Mozilla/4.0 (compatible; MSIE 9.0; Windows NT ...   \n",
       "3556          NaN  Mozilla/5.0 (Windows NT 5.1) AppleWebKit/535.1...   \n",
       "3557          NaN                             GoogleMaps/RochesterNY   \n",
       "3558          NaN                                     GoogleProducer   \n",
       "3559          NaN  Mozilla/4.0 (compatible; MSIE 8.0; Windows NT ...   \n",
       "\n",
       "                                          al     c                cy       g  \\\n",
       "0                             en-US,en;q=0.8    US           Danvers  A6qOVH   \n",
       "1                                        NaN    US             Provo  mwszkS   \n",
       "2                                      en-US    US        Washington  xxr3Qb   \n",
       "3                                      pt-br    BR              Braz  zCaLwp   \n",
       "4                             en-US,en;q=0.8    US        Shrewsbury  9b6kNl   \n",
       "5                             en-US,en;q=0.8    US        Shrewsbury  axNK8c   \n",
       "6        pl-PL,pl;q=0.8,en-US;q=0.6,en;q=0.4    PL             Luban  wcndER   \n",
       "7                    bg,en-us;q=0.7,en;q=0.3  None               NaN  wcndER   \n",
       "8                                  en-US, en  None               NaN  wcndER   \n",
       "9        pt-BR,pt;q=0.8,en-US;q=0.6,en;q=0.4  None               NaN  zCaLwp   \n",
       "10                            en-us,en;q=0.5    US           Seattle  vNJS4H   \n",
       "11                            en-us,en;q=0.5    US        Washington  wG7OIH   \n",
       "12                            en-us,en;q=0.5    US        Alexandria  vNJS4H   \n",
       "13                                       NaN   NaN               NaN     NaN   \n",
       "14                            en-us,en;q=0.5    US          Marietta  2rOUYc   \n",
       "15       zh-TW,zh;q=0.8,en-US;q=0.6,en;q=0.4    HK  Central District  nQvgJp   \n",
       "16       zh-TW,zh;q=0.8,en-US;q=0.6,en;q=0.4    HK  Central District   XdUNr   \n",
       "17                            en-us,en;q=0.5    US         Buckfield  zH1BFf   \n",
       "18                                       NaN    US             Provo  mwszkS   \n",
       "19       it-IT,it;q=0.8,en-US;q=0.6,en;q=0.4    IT            Venice  wcndER   \n",
       "20                                     es-ES    ES             Alcal  zQ95Hi   \n",
       "21                            en-us,en;q=0.5    US     Davidsonville  wcndER   \n",
       "22                                     en-us    US         Hockessin  y3ZImz   \n",
       "23                                     en-us    US            Lititz  wWiOiD   \n",
       "24       es-es,es;q=0.8,en-us;q=0.5,en;q=0.3    ES            Bilbao  wcndER   \n",
       "25    en-GB,en;q=0.8,en-US;q=0.6,en-AU;q=0.4    MY      Kuala Lumpur  wcndER   \n",
       "26       ro-RO,ro;q=0.8,en-US;q=0.6,en;q=0.4    CY           Nicosia  wcndER   \n",
       "27                            en-US,en;q=0.8    BR            SPaulo  zCaLwp   \n",
       "28                                     en-us  None               NaN  vNJS4H   \n",
       "29                                     en-us  None               NaN  FPX0IM   \n",
       "...                                      ...   ...               ...     ...   \n",
       "3530                          en-US,en;q=0.8    US     San Francisco  xVZg4P   \n",
       "3531                                   en-US  None               NaN  wcndER   \n",
       "3532                          en-us,en;q=0.5    US        Washington  Au3aUS   \n",
       "3533                                   en-us    US      Jacksonville  b2UtUJ   \n",
       "3534                                   en-us    US            Frisco  vNJS4H   \n",
       "3535                                   en-us    US           Houston  zIgLx8   \n",
       "3536                          en-US,en;q=0.5  None               NaN  xIcyim   \n",
       "3537     es-es,es;q=0.8,en-us;q=0.5,en;q=0.3    HN       Tegucigalpa  zCaLwp   \n",
       "3538                                   en-us    US       Los Angeles  qMac9k   \n",
       "3539                                     NaN    US          Bellevue  zu2M5o   \n",
       "3540                          en-US,en;q=0.8    US            Payson  wcndER   \n",
       "3541                                     NaN    US          Bellevue  zu2M5o   \n",
       "3542                                   en-us    US         Pittsburg  y3reI1   \n",
       "3543                                     NaN   NaN               NaN     NaN   \n",
       "3544                          en-us,en;q=0.5    US        Wentzville  vNJS4H   \n",
       "3545                          en-us,en;q=0.5    US     Saint Charles  vNJS4H   \n",
       "3546                                   en-us    US       Los Angeles  qMac9k   \n",
       "3547                                   en-us    US     Silver Spring  y0jYkg   \n",
       "3548                                   en-us    US           Mcgehee  y5rMac   \n",
       "3549     sv-SE,sv;q=0.8,en-US;q=0.6,en;q=0.4    SE          Sollefte   eH8wu   \n",
       "3550                                   en-us    US      Conshohocken  A00b72   \n",
       "3551                          en-US,en;q=0.8  None               NaN  wcndER   \n",
       "3552                                     NaN    US           Decatur  rqgJuE   \n",
       "3553                                   en-us    US        Shrewsbury  9b6kNl   \n",
       "3554                                   en-us    US        Shrewsbury  axNK8c   \n",
       "3555                                      en    US           Paramus  e5SvKE   \n",
       "3556                          en-US,en;q=0.8    US     Oklahoma City  jQLtP4   \n",
       "3557                                     NaN    US             Provo  mwszkS   \n",
       "3558                                     NaN    US     Mountain View  zjtI4X   \n",
       "3559                                   en-US    US           Mc Lean  qxKrTK   \n",
       "\n",
       "       gr       h          hc           hh   kw              l  \\\n",
       "0      MA  wfLQtf  1331822918    1.usa.gov  NaN        orofrog   \n",
       "1      UT  mwszkS  1308262393         j.mp  NaN          bitly   \n",
       "2      DC  xxr3Qb  1331919941    1.usa.gov  NaN          bitly   \n",
       "3      27  zUtuOu  1331923068    1.usa.gov  NaN       alelex88   \n",
       "4      MA  9b6kNl  1273672411       bit.ly  NaN          bitly   \n",
       "5      MA  axNK8c  1273672506       bit.ly  NaN          bitly   \n",
       "6      77  zkpJBR  1331922854    1.usa.gov  NaN       bnjacobs   \n",
       "7     NaN  zkpJBR  1331922854    1.usa.gov  NaN       bnjacobs   \n",
       "8     NaN  zkpJBR  1331922854    1.usa.gov  NaN       bnjacobs   \n",
       "9     NaN  zUtuOu  1331923068    1.usa.gov  NaN       alelex88   \n",
       "10     WA  u0uD9q  1319563556    1.usa.gov  NaN   o_4us71ccioa   \n",
       "11     DC  A0nRz4  1331815838    1.usa.gov  NaN    darrellissa   \n",
       "12     VA  u0uD9q  1319563556    1.usa.gov  NaN   o_4us71ccioa   \n",
       "13    NaN     NaN         NaN          NaN  NaN            NaN   \n",
       "14     GA  2rOUYc  1255769846    1.usa.gov  NaN          bitly   \n",
       "15     00  rtrrth  1317318030         j.mp  NaN     walkeryuen   \n",
       "16     00  qWkgbq  1317318039         j.mp  NaN     walkeryuen   \n",
       "17     ME  x3jOIv  1331839576    1.usa.gov  NaN  andyzieminski   \n",
       "18     UT  mwszkS  1308262393    1.usa.gov  NaN          bitly   \n",
       "19     20  zkpJBR  1331922854    1.usa.gov  NaN       bnjacobs   \n",
       "20     51  ytZYWR  1331670549    bitly.com  NaN        jplnews   \n",
       "21     MD  zkpJBR  1331922854    1.usa.gov  NaN       bnjacobs   \n",
       "22     DE  y3ZImz  1331064158    1.usa.gov  NaN          bitly   \n",
       "23     PA  wWiOiD  1330217829    1.usa.gov  NaN          bitly   \n",
       "24     59  zkpJBR  1331922854    1.usa.gov  NaN       bnjacobs   \n",
       "25     14  zkpJBR  1331922854    1.usa.gov  NaN       bnjacobs   \n",
       "26     04  zkpJBR  1331922854    1.usa.gov  NaN       bnjacobs   \n",
       "27     27  zUtuOu  1331923068    1.usa.gov  NaN       alelex88   \n",
       "28    NaN  u0uD9q  1319563556    1.usa.gov  NaN   o_4us71ccioa   \n",
       "29    NaN  FPX0IL  1331922978    1.usa.gov  NaN   twittershare   \n",
       "...   ...     ...         ...          ...  ...            ...   \n",
       "3530   CA  wqUkTo  1331908247  go.nasa.gov  NaN    nasatwitter   \n",
       "3531  NaN  zkpJBR  1331922854    1.usa.gov  NaN       bnjacobs   \n",
       "3532   DC  A9ct6C  1331926420    1.usa.gov  NaN          ncsha   \n",
       "3533   FL  ieCdgH  1301393171  go.nasa.gov  NaN    nasatwitter   \n",
       "3534   TX  u0uD9q  1319563556    1.usa.gov  NaN   o_4us71ccioa   \n",
       "3535   TX  yrPaLt  1331903484      aash.to  NaN         aashto   \n",
       "3536  NaN  yG1TTf  1331728309  go.nasa.gov  NaN    nasatwitter   \n",
       "3537   08  w63FZW  1331546756    1.usa.gov  NaN      bufferapp   \n",
       "3538   CA  qds1Ge  1310473559    1.usa.gov  NaN  healthypeople   \n",
       "3539   WA  zDhdro  1331586192       bit.ly  NaN       glimtwin   \n",
       "3540   UT  zkpJBR  1331922854    1.usa.gov  NaN       bnjacobs   \n",
       "3541   WA  zDhdro  1331586192    1.usa.gov  NaN       glimtwin   \n",
       "3542   CA  y3reI1  1331926120    1.usa.gov  NaN          bitly   \n",
       "3543  NaN     NaN         NaN          NaN  NaN            NaN   \n",
       "3544   MO  u0uD9q  1319563556    1.usa.gov  NaN   o_4us71ccioa   \n",
       "3545   IL  u0uD9q  1319563556    1.usa.gov  NaN   o_4us71ccioa   \n",
       "3546   CA  qds1Ge  1310473559    1.usa.gov  NaN  healthypeople   \n",
       "3547   MD  y0jYkg  1331851811    1.usa.gov  NaN          bitly   \n",
       "3548   AR  xANY6O  1331916302    1.usa.gov  NaN    twitterfeed   \n",
       "3549   24  7dtjei  1260316355    1.usa.gov  NaN   tweetdeckapi   \n",
       "3550   PA  yGSwzn  1331917632    1.usa.gov  NaN        addthis   \n",
       "3551  NaN  zkpJBR  1331922854    1.usa.gov  NaN       bnjacobs   \n",
       "3552   AL  xcz8vt  1331227417    1.usa.gov  NaN      bootsnall   \n",
       "3553   MA  9b6kNl  1273672411       bit.ly  NaN          bitly   \n",
       "3554   MA  axNK8c  1273672506       bit.ly  NaN          bitly   \n",
       "3555   NJ  fqPSr9  1301298479    1.usa.gov  NaN   tweetdeckapi   \n",
       "3556   OK  jQLtP4  1307530247    1.usa.gov  NaN          bitly   \n",
       "3557   UT  mwszkS  1308262393         j.mp  NaN          bitly   \n",
       "3558   CA  zjtI4X  1327528527    1.usa.gov  NaN          bitly   \n",
       "3559   VA  qxKrTK  1312897670    1.usa.gov  NaN          bitly   \n",
       "\n",
       "                            ll  nk  \\\n",
       "0      [42.576698, -70.954903]   1   \n",
       "1     [40.218102, -111.613297]   0   \n",
       "2        [38.9007, -77.043098]   1   \n",
       "3     [-23.549999, -46.616699]   0   \n",
       "4      [42.286499, -71.714699]   0   \n",
       "5      [42.286499, -71.714699]   0   \n",
       "6         [51.116699, 15.2833]   0   \n",
       "7                          NaN   0   \n",
       "8                          NaN   0   \n",
       "9                          NaN   0   \n",
       "10      [47.5951, -122.332603]   1   \n",
       "11     [38.937599, -77.092796]   0   \n",
       "12     [38.790901, -77.094704]   1   \n",
       "13                         NaN NaN   \n",
       "14       [33.953201, -84.5177]   1   \n",
       "15       [22.2833, 114.150002]   1   \n",
       "16       [22.2833, 114.150002]   1   \n",
       "17     [44.299702, -70.369797]   0   \n",
       "18    [40.218102, -111.613297]   0   \n",
       "19        [45.438599, 12.3267]   0   \n",
       "20        [37.516701, -5.9833]   0   \n",
       "21     [38.939201, -76.635002]   0   \n",
       "22        [39.785, -75.682297]   0   \n",
       "23       [40.174999, -76.3078]   0   \n",
       "24            [43.25, -2.9667]   0   \n",
       "25        [3.1667, 101.699997]   0   \n",
       "26      [35.166698, 33.366699]   0   \n",
       "27      [-23.5333, -46.616699]   0   \n",
       "28                         NaN   0   \n",
       "29                         NaN   1   \n",
       "...                        ...  ..   \n",
       "3530    [37.7645, -122.429398]   0   \n",
       "3531                       NaN   0   \n",
       "3532   [38.904202, -77.031998]   1   \n",
       "3533   [30.279301, -81.585098]   1   \n",
       "3534   [33.149899, -96.855499]   1   \n",
       "3535   [29.775499, -95.415199]   1   \n",
       "3536                       NaN   0   \n",
       "3537        [14.1, -87.216698]   0   \n",
       "3538  [34.041599, -118.298798]   0   \n",
       "3539  [47.615398, -122.210297]   0   \n",
       "3540  [40.014198, -111.738899]   0   \n",
       "3541  [47.615398, -122.210297]   0   \n",
       "3542    [38.0051, -121.838699]   0   \n",
       "3543                       NaN NaN   \n",
       "3544   [38.790001, -90.854897]   1   \n",
       "3545     [41.9352, -88.290901]   1   \n",
       "3546  [34.041599, -118.298798]   1   \n",
       "3547   [39.052101, -77.014999]   1   \n",
       "3548   [33.628399, -91.356903]   1   \n",
       "3549    [63.166698, 17.266701]   1   \n",
       "3550       [40.0798, -75.2855]   0   \n",
       "3551                       NaN   0   \n",
       "3552   [34.572701, -86.940598]   0   \n",
       "3553   [42.286499, -71.714699]   0   \n",
       "3554   [42.286499, -71.714699]   0   \n",
       "3555         [40.9445, -74.07]   1   \n",
       "3556     [35.4715, -97.518997]   0   \n",
       "3557  [40.218102, -111.613297]   0   \n",
       "3558  [37.419201, -122.057404]   0   \n",
       "3559   [38.935799, -77.162102]   0   \n",
       "\n",
       "                                                      r           t  \\\n",
       "0     http://www.facebook.com/l/7AQEFzjSi/1.usa.gov/...  1331923247   \n",
       "1                              http://www.AwareMap.com/  1331923249   \n",
       "2                                  http://t.co/03elZC4Q  1331923250   \n",
       "3                                                direct  1331923249   \n",
       "4                   http://www.shrewsbury-ma.gov/selco/  1331923251   \n",
       "5                   http://www.shrewsbury-ma.gov/selco/  1331923252   \n",
       "6     http://plus.url.google.com/url?sa=z&n=13319232...  1331923255   \n",
       "7                              http://www.facebook.com/  1331923255   \n",
       "8     http://www.facebook.com/l.php?u=http%3A%2F%2F1...  1331923254   \n",
       "9                                  http://t.co/o1Pd0WeV  1331923255   \n",
       "10                                               direct  1331923258   \n",
       "11                                 http://t.co/ND7SoPyo  1331923259   \n",
       "12                                               direct  1331923259   \n",
       "13                                                  NaN         NaN   \n",
       "14                                               direct  1331923262   \n",
       "15    http://forum2.hkgolden.com/view.aspx?type=BW&m...  1331923263   \n",
       "16    http://forum2.hkgolden.com/view.aspx?type=BW&m...  1331923263   \n",
       "17                                 http://t.co/6Cx4ROLs  1331923264   \n",
       "18                             http://www.AwareMap.com/  1331923262   \n",
       "19                             http://www.facebook.com/  1331923264   \n",
       "20                             http://www.facebook.com/  1331923265   \n",
       "21                             http://www.facebook.com/  1331923267   \n",
       "22                                               direct  1331923267   \n",
       "23    http://www.facebook.com/l.php?u=http%3A%2F%2F1...  1331923267   \n",
       "24                             http://www.facebook.com/  1331923268   \n",
       "25                             http://www.facebook.com/  1331923269   \n",
       "26                 http://www.facebook.com/?ref=tn_tnmn  1331923268   \n",
       "27                                               direct  1331923269   \n",
       "28                                               direct  1331923270   \n",
       "29                                 http://t.co/5xlp0B34  1331923270   \n",
       "...                                                 ...         ...   \n",
       "3530  http://www.facebook.com/l.php?u=http%3A%2F%2Fg...  1331926815   \n",
       "3531                                             direct  1331926816   \n",
       "3532                              http://www.ncsha.org/  1331926817   \n",
       "3533                                             direct  1331926818   \n",
       "3534                                             direct  1331926820   \n",
       "3535                                             direct  1331926823   \n",
       "3536                               http://t.co/g1VKE8zS  1331926824   \n",
       "3537                               http://t.co/A8TJyibE  1331926825   \n",
       "3538                                             direct  1331926825   \n",
       "3539                                             direct  1331926827   \n",
       "3540  http://www.facebook.com/l.php?u=http%3A%2F%2F1...  1331926828   \n",
       "3541                                             direct  1331926828   \n",
       "3542  http://www.facebook.com/l.php?u=http%3A%2F%2F1...  1331926829   \n",
       "3543                                                NaN         NaN   \n",
       "3544                                             direct  1331926831   \n",
       "3545                                             direct  1331926832   \n",
       "3546                                             direct  1331926833   \n",
       "3547                                             direct  1331926836   \n",
       "3548  https://twitter.com/fdarecalls/status/18069759...  1331926836   \n",
       "3549                                             direct  1331926834   \n",
       "3550   http://www.linkedin.com/home?trk=hb_tab_home_top  1331926837   \n",
       "3551  http://plus.url.google.com/url?sa=z&n=13319268...  1331926837   \n",
       "3552                                             direct  1331926839   \n",
       "3553                http://www.shrewsbury-ma.gov/selco/  1331926840   \n",
       "3554                http://www.shrewsbury-ma.gov/selco/  1331926840   \n",
       "3555                                             direct  1331926841   \n",
       "3556  http://www.facebook.com/l.php?u=http%3A%2F%2F1...  1331926844   \n",
       "3557                           http://www.AwareMap.com/  1331926846   \n",
       "3558                                             direct  1331926847   \n",
       "3559                               http://t.co/OEEEvwjU  1331926849   \n",
       "\n",
       "                       tz                                                  u  \n",
       "0        America/New_York        http://www.ncbi.nlm.nih.gov/pubmed/22415991  \n",
       "1          America/Denver        http://www.monroecounty.gov/etc/911/rss.php  \n",
       "2        America/New_York  http://boxer.senate.gov/en/press/releases/0316...  \n",
       "3       America/Sao_Paulo            http://apod.nasa.gov/apod/ap120312.html  \n",
       "4        America/New_York  http://www.shrewsbury-ma.gov/egov/gallery/1341...  \n",
       "5        America/New_York  http://www.shrewsbury-ma.gov/egov/gallery/1341...  \n",
       "6           Europe/Warsaw  http://www.nasa.gov/mission_pages/nustar/main/...  \n",
       "7                          http://www.nasa.gov/mission_pages/nustar/main/...  \n",
       "8                          http://www.nasa.gov/mission_pages/nustar/main/...  \n",
       "9                                    http://apod.nasa.gov/apod/ap120312.html  \n",
       "10    America/Los_Angeles  https://www.nysdot.gov/rexdesign/design/commun...  \n",
       "11       America/New_York  http://oversight.house.gov/wp-content/uploads/...  \n",
       "12       America/New_York  https://www.nysdot.gov/rexdesign/design/commun...  \n",
       "13                    NaN                                                NaN  \n",
       "14       America/New_York               http://toxtown.nlm.nih.gov/index.php  \n",
       "15         Asia/Hong_Kong  http://www.ssd.noaa.gov/PS/TROP/TCFP/data/curr...  \n",
       "16         Asia/Hong_Kong  http://www.usno.navy.mil/NOOC/nmfc-ph/RSS/jtwc...  \n",
       "17       America/New_York  http://www.usda.gov/wps/portal/usda/usdahome?c...  \n",
       "18         America/Denver        http://www.monroecounty.gov/etc/911/rss.php  \n",
       "19            Europe/Rome  http://www.nasa.gov/mission_pages/nustar/main/...  \n",
       "20           Africa/Ceuta  http://voyager.jpl.nasa.gov/imagesvideo/uranus...  \n",
       "21       America/New_York  http://www.nasa.gov/mission_pages/nustar/main/...  \n",
       "22       America/New_York  http://portal.hud.gov/hudportal/documents/hudd...  \n",
       "23       America/New_York  http://www.tricare.mil/mybenefit/ProfileFilter...  \n",
       "24          Europe/Madrid  http://www.nasa.gov/mission_pages/nustar/main/...  \n",
       "25      Asia/Kuala_Lumpur  http://www.nasa.gov/mission_pages/nustar/main/...  \n",
       "26           Asia/Nicosia  http://www.nasa.gov/mission_pages/nustar/main/...  \n",
       "27      America/Sao_Paulo            http://apod.nasa.gov/apod/ap120312.html  \n",
       "28                         https://www.nysdot.gov/rexdesign/design/commun...  \n",
       "29                         http://www.ed.gov/news/media-advisories/us-dep...  \n",
       "...                   ...                                                ...  \n",
       "3530  America/Los_Angeles  http://www.nasa.gov/multimedia/imagegallery/im...  \n",
       "3531                       http://www.nasa.gov/mission_pages/nustar/main/...  \n",
       "3532     America/New_York  http://portal.hud.gov/hudportal/HUD?src=/press...  \n",
       "3533     America/New_York                         http://apod.nasa.gov/apod/  \n",
       "3534      America/Chicago  https://www.nysdot.gov/rexdesign/design/commun...  \n",
       "3535      America/Chicago  http://ntl.bts.gov/lib/44000/44300/44374/FHWA-...  \n",
       "3536                       http://www.nasa.gov/mission_pages/hurricanes/a...  \n",
       "3537  America/Tegucigalpa            http://apod.nasa.gov/apod/ap120312.html  \n",
       "3538  America/Los_Angeles  http://healthypeople.gov/2020/connect/webinars...  \n",
       "3539  America/Los_Angeles  http://www.federalreserve.gov/newsevents/press...  \n",
       "3540       America/Denver  http://www.nasa.gov/mission_pages/nustar/main/...  \n",
       "3541  America/Los_Angeles  http://www.federalreserve.gov/newsevents/press...  \n",
       "3542  America/Los_Angeles  http://www.sba.gov/community/blogs/community-b...  \n",
       "3543                  NaN                                                NaN  \n",
       "3544      America/Chicago  https://www.nysdot.gov/rexdesign/design/commun...  \n",
       "3545      America/Chicago  https://www.nysdot.gov/rexdesign/design/commun...  \n",
       "3546  America/Los_Angeles  http://healthypeople.gov/2020/connect/webinars...  \n",
       "3547     America/New_York  http://www.epa.gov/otaq/regs/fuels/additive/e1...  \n",
       "3548      America/Chicago    http://www.fda.gov/Safety/Recalls/ucm296326.htm  \n",
       "3549     Europe/Stockholm  http://www.nasa.gov/mission_pages/WISE/main/in...  \n",
       "3550     America/New_York  http://www.nlm.nih.gov/medlineplus/news/fullst...  \n",
       "3551                       http://www.nasa.gov/mission_pages/nustar/main/...  \n",
       "3552      America/Chicago  http://travel.state.gov/passport/passport_5535...  \n",
       "3553     America/New_York  http://www.shrewsbury-ma.gov/egov/gallery/1341...  \n",
       "3554     America/New_York  http://www.shrewsbury-ma.gov/egov/gallery/1341...  \n",
       "3555     America/New_York  http://www.fda.gov/AdvisoryCommittees/Committe...  \n",
       "3556      America/Chicago  http://www.okc.gov/PublicNotificationSystem/Fo...  \n",
       "3557       America/Denver        http://www.monroecounty.gov/etc/911/rss.php  \n",
       "3558  America/Los_Angeles                http://www.ahrq.gov/qual/qitoolkit/  \n",
       "3559     America/New_York  http://herndon-va.gov/Content/public_safety/Pu...  \n",
       "\n",
       "[3560 rows x 18 columns]"
      ]
     },
     "execution_count": 24,
     "metadata": {},
     "output_type": "execute_result"
    }
   ],
   "source": [
    "from pandas import DataFrame, Series\n",
    "import pandas as pd\n",
    "\n",
    "frame = DataFrame(records)\n",
    "frame"
   ]
  },
  {
   "cell_type": "code",
   "execution_count": 25,
   "metadata": {
    "collapsed": false
   },
   "outputs": [
    {
     "data": {
      "text/plain": [
       "0     America/New_York\n",
       "1       America/Denver\n",
       "2     America/New_York\n",
       "3    America/Sao_Paulo\n",
       "4     America/New_York\n",
       "5     America/New_York\n",
       "6        Europe/Warsaw\n",
       "7                     \n",
       "8                     \n",
       "9                     \n",
       "Name: tz, dtype: object"
      ]
     },
     "execution_count": 25,
     "metadata": {},
     "output_type": "execute_result"
    }
   ],
   "source": [
    "frame['tz'][:10]"
   ]
  },
  {
   "cell_type": "code",
   "execution_count": 26,
   "metadata": {
    "collapsed": false
   },
   "outputs": [
    {
     "data": {
      "text/plain": [
       "America/New_York       1251\n",
       "                        521\n",
       "America/Chicago         400\n",
       "America/Los_Angeles     382\n",
       "America/Denver          191\n",
       "Europe/London            74\n",
       "Asia/Tokyo               37\n",
       "Pacific/Honolulu         36\n",
       "Europe/Madrid            35\n",
       "America/Sao_Paulo        33\n",
       "dtype: int64"
      ]
     },
     "execution_count": 26,
     "metadata": {},
     "output_type": "execute_result"
    }
   ],
   "source": [
    "tz_counts = frame['tz'].value_counts()\n",
    "tz_counts[:10]"
   ]
  },
  {
   "cell_type": "code",
   "execution_count": 27,
   "metadata": {
    "collapsed": false
   },
   "outputs": [
    {
     "data": {
      "text/plain": [
       "America/New_York       1251\n",
       "Unknown                 521\n",
       "America/Chicago         400\n",
       "America/Los_Angeles     382\n",
       "America/Denver          191\n",
       "Missing                 120\n",
       "Europe/London            74\n",
       "Asia/Tokyo               37\n",
       "Pacific/Honolulu         36\n",
       "Europe/Madrid            35\n",
       "dtype: int64"
      ]
     },
     "execution_count": 27,
     "metadata": {},
     "output_type": "execute_result"
    }
   ],
   "source": [
    "clean_tz = frame['tz'].fillna('Missing')\n",
    "clean_tz[clean_tz == ''] = 'Unknown'\n",
    "tz_counts = clean_tz.value_counts()\n",
    "tz_counts[:10]"
   ]
  },
  {
   "cell_type": "code",
   "execution_count": 30,
   "metadata": {
    "collapsed": false
   },
   "outputs": [
    {
     "data": {
      "text/plain": [
       "<matplotlib.axes._subplots.AxesSubplot at 0x9904080>"
      ]
     },
     "execution_count": 30,
     "metadata": {},
     "output_type": "execute_result"
    },
    {
     "data": {
      "image/png": "[encoded data removed]",
      "text/plain": [
       "<matplotlib.figure.Figure at 0x99049b0>"
      ]
     },
     "metadata": {},
     "output_type": "display_data"
    }
   ],
   "source": [
    "plt.figure(figsize=(10, 4))\n",
    "tz_counts[:10].plot(kind='barh', rot=0)"
   ]
  },
  {
   "cell_type": "code",
   "execution_count": 31,
   "metadata": {
    "collapsed": false
   },
   "outputs": [
    {
     "data": {
      "text/plain": [
       "'GoogleMaps/RochesterNY'"
      ]
     },
     "execution_count": 31,
     "metadata": {},
     "output_type": "execute_result"
    }
   ],
   "source": [
    "frame['a'][1]"
   ]
  },
  {
   "cell_type": "code",
   "execution_count": 32,
   "metadata": {
    "collapsed": false
   },
   "outputs": [
    {
     "data": {
      "text/plain": [
       "'Mozilla/5.0 (Windows NT 5.1; rv:10.0.2) Gecko/20100101 Firefox/10.0.2'"
      ]
     },
     "execution_count": 32,
     "metadata": {},
     "output_type": "execute_result"
    }
   ],
   "source": [
    "frame['a'][50]"
   ]
  },
  {
   "cell_type": "code",
   "execution_count": 33,
   "metadata": {
    "collapsed": false
   },
   "outputs": [
    {
     "data": {
      "text/plain": [
       "'Mozilla/5.0 (Linux; U; Android 2.2.2; en-us; LG-P925/V10e Build/FRG83G) AppleWebKit/533.1 (KHTML, like Gecko) Version/4.0 Mobile Safari/533.1'"
      ]
     },
     "execution_count": 33,
     "metadata": {},
     "output_type": "execute_result"
    }
   ],
   "source": [
    "frame['a'][51]"
   ]
  },
  {
   "cell_type": "code",
   "execution_count": 34,
   "metadata": {
    "collapsed": false
   },
   "outputs": [
    {
     "data": {
      "text/plain": [
       "0               Mozilla/5.0\n",
       "1    GoogleMaps/RochesterNY\n",
       "2               Mozilla/4.0\n",
       "3               Mozilla/5.0\n",
       "4               Mozilla/5.0\n",
       "dtype: object"
      ]
     },
     "execution_count": 34,
     "metadata": {},
     "output_type": "execute_result"
    }
   ],
   "source": [
    "results = Series([x.split()[0] for x in frame.a.dropna()])\n",
    "results[:5]"
   ]
  },
  {
   "cell_type": "code",
   "execution_count": 35,
   "metadata": {
    "collapsed": false
   },
   "outputs": [
    {
     "data": {
      "text/plain": [
       "Mozilla/5.0                 2594\n",
       "Mozilla/4.0                  601\n",
       "GoogleMaps/RochesterNY       121\n",
       "Opera/9.80                    34\n",
       "TEST_INTERNET_AGENT           24\n",
       "GoogleProducer                21\n",
       "Mozilla/6.0                    5\n",
       "BlackBerry8520/5.0.0.681       4\n",
       "dtype: int64"
      ]
     },
     "execution_count": 35,
     "metadata": {},
     "output_type": "execute_result"
    }
   ],
   "source": [
    "results.value_counts()[:8]"
   ]
  },
  {
   "cell_type": "code",
   "execution_count": 49,
   "metadata": {
    "collapsed": false
   },
   "outputs": [
    {
     "data": {
      "text/html": [
       "<div style=\"max-height:1000px;max-width:1500px;overflow:auto;\">\n",
       "<table border=\"1\" class=\"dataframe\">\n",
       "  <thead>\n",
       "    <tr style=\"text-align: right;\">\n",
       "      <th></th>\n",
       "      <th>_heartbeat_</th>\n",
       "      <th>a</th>\n",
       "      <th>al</th>\n",
       "      <th>c</th>\n",
       "      <th>cy</th>\n",
       "      <th>g</th>\n",
       "      <th>gr</th>\n",
       "      <th>h</th>\n",
       "      <th>hc</th>\n",
       "      <th>hh</th>\n",
       "      <th>kw</th>\n",
       "      <th>l</th>\n",
       "      <th>ll</th>\n",
       "      <th>nk</th>\n",
       "      <th>r</th>\n",
       "      <th>t</th>\n",
       "      <th>tz</th>\n",
       "      <th>u</th>\n",
       "    </tr>\n",
       "  </thead>\n",
       "  <tbody>\n",
       "    <tr>\n",
       "      <th>0</th>\n",
       "      <td>NaN</td>\n",
       "      <td> Mozilla/5.0 (Windows NT 6.1; WOW64) AppleWebKi...</td>\n",
       "      <td> en-US,en;q=0.8</td>\n",
       "      <td> US</td>\n",
       "      <td>    Danvers</td>\n",
       "      <td> A6qOVH</td>\n",
       "      <td> MA</td>\n",
       "      <td> wfLQtf</td>\n",
       "      <td> 1331822918</td>\n",
       "      <td> 1.usa.gov</td>\n",
       "      <td> NaN</td>\n",
       "      <td>  orofrog</td>\n",
       "      <td>  [42.576698, -70.954903]</td>\n",
       "      <td> 1</td>\n",
       "      <td> http://www.facebook.com/l/7AQEFzjSi/1.usa.gov/...</td>\n",
       "      <td> 1331923247</td>\n",
       "      <td>  America/New_York</td>\n",
       "      <td>       http://www.ncbi.nlm.nih.gov/pubmed/22415991</td>\n",
       "    </tr>\n",
       "    <tr>\n",
       "      <th>1</th>\n",
       "      <td>NaN</td>\n",
       "      <td>                            GoogleMaps/RochesterNY</td>\n",
       "      <td>            NaN</td>\n",
       "      <td> US</td>\n",
       "      <td>      Provo</td>\n",
       "      <td> mwszkS</td>\n",
       "      <td> UT</td>\n",
       "      <td> mwszkS</td>\n",
       "      <td> 1308262393</td>\n",
       "      <td>      j.mp</td>\n",
       "      <td> NaN</td>\n",
       "      <td>    bitly</td>\n",
       "      <td> [40.218102, -111.613297]</td>\n",
       "      <td> 0</td>\n",
       "      <td>                          http://www.AwareMap.com/</td>\n",
       "      <td> 1331923249</td>\n",
       "      <td>    America/Denver</td>\n",
       "      <td>       http://www.monroecounty.gov/etc/911/rss.php</td>\n",
       "    </tr>\n",
       "    <tr>\n",
       "      <th>2</th>\n",
       "      <td>NaN</td>\n",
       "      <td> Mozilla/4.0 (compatible; MSIE 8.0; Windows NT ...</td>\n",
       "      <td>          en-US</td>\n",
       "      <td> US</td>\n",
       "      <td> Washington</td>\n",
       "      <td> xxr3Qb</td>\n",
       "      <td> DC</td>\n",
       "      <td> xxr3Qb</td>\n",
       "      <td> 1331919941</td>\n",
       "      <td> 1.usa.gov</td>\n",
       "      <td> NaN</td>\n",
       "      <td>    bitly</td>\n",
       "      <td>    [38.9007, -77.043098]</td>\n",
       "      <td> 1</td>\n",
       "      <td>                              http://t.co/03elZC4Q</td>\n",
       "      <td> 1331923250</td>\n",
       "      <td>  America/New_York</td>\n",
       "      <td> http://boxer.senate.gov/en/press/releases/0316...</td>\n",
       "    </tr>\n",
       "    <tr>\n",
       "      <th>3</th>\n",
       "      <td>NaN</td>\n",
       "      <td> Mozilla/5.0 (Macintosh; Intel Mac OS X 10_6_8)...</td>\n",
       "      <td>          pt-br</td>\n",
       "      <td> BR</td>\n",
       "      <td>       Braz</td>\n",
       "      <td> zCaLwp</td>\n",
       "      <td> 27</td>\n",
       "      <td> zUtuOu</td>\n",
       "      <td> 1331923068</td>\n",
       "      <td> 1.usa.gov</td>\n",
       "      <td> NaN</td>\n",
       "      <td> alelex88</td>\n",
       "      <td> [-23.549999, -46.616699]</td>\n",
       "      <td> 0</td>\n",
       "      <td>                                            direct</td>\n",
       "      <td> 1331923249</td>\n",
       "      <td> America/Sao_Paulo</td>\n",
       "      <td>           http://apod.nasa.gov/apod/ap120312.html</td>\n",
       "    </tr>\n",
       "    <tr>\n",
       "      <th>4</th>\n",
       "      <td>NaN</td>\n",
       "      <td> Mozilla/5.0 (Windows NT 6.1; WOW64) AppleWebKi...</td>\n",
       "      <td> en-US,en;q=0.8</td>\n",
       "      <td> US</td>\n",
       "      <td> Shrewsbury</td>\n",
       "      <td> 9b6kNl</td>\n",
       "      <td> MA</td>\n",
       "      <td> 9b6kNl</td>\n",
       "      <td> 1273672411</td>\n",
       "      <td>    bit.ly</td>\n",
       "      <td> NaN</td>\n",
       "      <td>    bitly</td>\n",
       "      <td>  [42.286499, -71.714699]</td>\n",
       "      <td> 0</td>\n",
       "      <td>               http://www.shrewsbury-ma.gov/selco/</td>\n",
       "      <td> 1331923251</td>\n",
       "      <td>  America/New_York</td>\n",
       "      <td> http://www.shrewsbury-ma.gov/egov/gallery/1341...</td>\n",
       "    </tr>\n",
       "  </tbody>\n",
       "</table>\n",
       "</div>"
      ],
      "text/plain": [
       "   _heartbeat_                                                  a  \\\n",
       "0          NaN  Mozilla/5.0 (Windows NT 6.1; WOW64) AppleWebKi...   \n",
       "1          NaN                             GoogleMaps/RochesterNY   \n",
       "2          NaN  Mozilla/4.0 (compatible; MSIE 8.0; Windows NT ...   \n",
       "3          NaN  Mozilla/5.0 (Macintosh; Intel Mac OS X 10_6_8)...   \n",
       "4          NaN  Mozilla/5.0 (Windows NT 6.1; WOW64) AppleWebKi...   \n",
       "\n",
       "               al   c          cy       g  gr       h          hc         hh  \\\n",
       "0  en-US,en;q=0.8  US     Danvers  A6qOVH  MA  wfLQtf  1331822918  1.usa.gov   \n",
       "1             NaN  US       Provo  mwszkS  UT  mwszkS  1308262393       j.mp   \n",
       "2           en-US  US  Washington  xxr3Qb  DC  xxr3Qb  1331919941  1.usa.gov   \n",
       "3           pt-br  BR        Braz  zCaLwp  27  zUtuOu  1331923068  1.usa.gov   \n",
       "4  en-US,en;q=0.8  US  Shrewsbury  9b6kNl  MA  9b6kNl  1273672411     bit.ly   \n",
       "\n",
       "    kw         l                        ll  nk  \\\n",
       "0  NaN   orofrog   [42.576698, -70.954903]   1   \n",
       "1  NaN     bitly  [40.218102, -111.613297]   0   \n",
       "2  NaN     bitly     [38.9007, -77.043098]   1   \n",
       "3  NaN  alelex88  [-23.549999, -46.616699]   0   \n",
       "4  NaN     bitly   [42.286499, -71.714699]   0   \n",
       "\n",
       "                                                   r           t  \\\n",
       "0  http://www.facebook.com/l/7AQEFzjSi/1.usa.gov/...  1331923247   \n",
       "1                           http://www.AwareMap.com/  1331923249   \n",
       "2                               http://t.co/03elZC4Q  1331923250   \n",
       "3                                             direct  1331923249   \n",
       "4                http://www.shrewsbury-ma.gov/selco/  1331923251   \n",
       "\n",
       "                  tz                                                  u  \n",
       "0   America/New_York        http://www.ncbi.nlm.nih.gov/pubmed/22415991  \n",
       "1     America/Denver        http://www.monroecounty.gov/etc/911/rss.php  \n",
       "2   America/New_York  http://boxer.senate.gov/en/press/releases/0316...  \n",
       "3  America/Sao_Paulo            http://apod.nasa.gov/apod/ap120312.html  \n",
       "4   America/New_York  http://www.shrewsbury-ma.gov/egov/gallery/1341...  "
      ]
     },
     "execution_count": 49,
     "metadata": {},
     "output_type": "execute_result"
    }
   ],
   "source": [
    "cframe = frame[frame.a.notnull()]\n",
    "cframe[:5]"
   ]
  },
  {
   "cell_type": "code",
   "execution_count": 51,
   "metadata": {
    "collapsed": false
   },
   "outputs": [
    {
     "data": {
      "text/plain": [
       "array(['Windows', 'Not Windows', 'Windows', 'Not Windows', 'Windows'], \n",
       "      dtype='<U11')"
      ]
     },
     "execution_count": 51,
     "metadata": {},
     "output_type": "execute_result"
    }
   ],
   "source": [
    "operating_system = np.where(cframe['a'].str.contains('Windows'),\n",
    "                            'Windows', 'Not Windows')\n",
    "operating_system[:5]"
   ]
  },
  {
   "cell_type": "code",
   "execution_count": 63,
   "metadata": {
    "collapsed": false
   },
   "outputs": [],
   "source": [
    "by_tz_os = cframe.groupby(['tz', operating_system])"
   ]
  },
  {
   "cell_type": "code",
   "execution_count": 41,
   "metadata": {
    "collapsed": false
   },
   "outputs": [
    {
     "data": {
      "text/html": [
       "<div style=\"max-height:1000px;max-width:1500px;overflow:auto;\">\n",
       "<table border=\"1\" class=\"dataframe\">\n",
       "  <thead>\n",
       "    <tr style=\"text-align: right;\">\n",
       "      <th></th>\n",
       "      <th>Not Windows</th>\n",
       "      <th>Windows</th>\n",
       "    </tr>\n",
       "    <tr>\n",
       "      <th>tz</th>\n",
       "      <th></th>\n",
       "      <th></th>\n",
       "    </tr>\n",
       "  </thead>\n",
       "  <tbody>\n",
       "    <tr>\n",
       "      <th></th>\n",
       "      <td> 245</td>\n",
       "      <td> 276</td>\n",
       "    </tr>\n",
       "    <tr>\n",
       "      <th>Africa/Cairo</th>\n",
       "      <td>   0</td>\n",
       "      <td>   3</td>\n",
       "    </tr>\n",
       "    <tr>\n",
       "      <th>Africa/Casablanca</th>\n",
       "      <td>   0</td>\n",
       "      <td>   1</td>\n",
       "    </tr>\n",
       "    <tr>\n",
       "      <th>Africa/Ceuta</th>\n",
       "      <td>   0</td>\n",
       "      <td>   2</td>\n",
       "    </tr>\n",
       "    <tr>\n",
       "      <th>Africa/Johannesburg</th>\n",
       "      <td>   0</td>\n",
       "      <td>   1</td>\n",
       "    </tr>\n",
       "    <tr>\n",
       "      <th>Africa/Lusaka</th>\n",
       "      <td>   0</td>\n",
       "      <td>   1</td>\n",
       "    </tr>\n",
       "    <tr>\n",
       "      <th>America/Anchorage</th>\n",
       "      <td>   4</td>\n",
       "      <td>   1</td>\n",
       "    </tr>\n",
       "    <tr>\n",
       "      <th>America/Argentina/Buenos_Aires</th>\n",
       "      <td>   1</td>\n",
       "      <td>   0</td>\n",
       "    </tr>\n",
       "    <tr>\n",
       "      <th>America/Argentina/Cordoba</th>\n",
       "      <td>   0</td>\n",
       "      <td>   1</td>\n",
       "    </tr>\n",
       "    <tr>\n",
       "      <th>America/Argentina/Mendoza</th>\n",
       "      <td>   0</td>\n",
       "      <td>   1</td>\n",
       "    </tr>\n",
       "  </tbody>\n",
       "</table>\n",
       "</div>"
      ],
      "text/plain": [
       "                                Not Windows  Windows\n",
       "tz                                                  \n",
       "                                        245      276\n",
       "Africa/Cairo                              0        3\n",
       "Africa/Casablanca                         0        1\n",
       "Africa/Ceuta                              0        2\n",
       "Africa/Johannesburg                       0        1\n",
       "Africa/Lusaka                             0        1\n",
       "America/Anchorage                         4        1\n",
       "America/Argentina/Buenos_Aires            1        0\n",
       "America/Argentina/Cordoba                 0        1\n",
       "America/Argentina/Mendoza                 0        1"
      ]
     },
     "execution_count": 41,
     "metadata": {},
     "output_type": "execute_result"
    }
   ],
   "source": [
    "agg_counts = by_tz_os.size().unstack().fillna(0)\n",
    "agg_counts[:10]"
   ]
  },
  {
   "cell_type": "code",
   "execution_count": 73,
   "metadata": {
    "collapsed": false
   },
   "outputs": [
    {
     "data": {
      "text/plain": [
       "tz\n",
       "                                  24\n",
       "Africa/Cairo                      20\n",
       "Africa/Casablanca                 21\n",
       "Africa/Ceuta                      92\n",
       "Africa/Johannesburg               87\n",
       "Africa/Lusaka                     53\n",
       "America/Anchorage                 54\n",
       "America/Argentina/Buenos_Aires    57\n",
       "America/Argentina/Cordoba         26\n",
       "America/Argentina/Mendoza         55\n",
       "dtype: int64"
      ]
     },
     "execution_count": 73,
     "metadata": {},
     "output_type": "execute_result"
    }
   ],
   "source": [
    "# Use to sort in ascending order\n",
    "indexer = agg_counts.sum(1).argsort()\n",
    "indexer[:10]"
   ]
  },
  {
   "cell_type": "code",
   "execution_count": 46,
   "metadata": {
    "collapsed": false
   },
   "outputs": [
    {
     "data": {
      "text/html": [
       "<div style=\"max-height:1000px;max-width:1500px;overflow:auto;\">\n",
       "<table border=\"1\" class=\"dataframe\">\n",
       "  <thead>\n",
       "    <tr style=\"text-align: right;\">\n",
       "      <th></th>\n",
       "      <th>Not Windows</th>\n",
       "      <th>Windows</th>\n",
       "    </tr>\n",
       "    <tr>\n",
       "      <th>tz</th>\n",
       "      <th></th>\n",
       "      <th></th>\n",
       "    </tr>\n",
       "  </thead>\n",
       "  <tbody>\n",
       "    <tr>\n",
       "      <th>America/Sao_Paulo</th>\n",
       "      <td>  13</td>\n",
       "      <td>  20</td>\n",
       "    </tr>\n",
       "    <tr>\n",
       "      <th>Europe/Madrid</th>\n",
       "      <td>  16</td>\n",
       "      <td>  19</td>\n",
       "    </tr>\n",
       "    <tr>\n",
       "      <th>Pacific/Honolulu</th>\n",
       "      <td>   0</td>\n",
       "      <td>  36</td>\n",
       "    </tr>\n",
       "    <tr>\n",
       "      <th>Asia/Tokyo</th>\n",
       "      <td>   2</td>\n",
       "      <td>  35</td>\n",
       "    </tr>\n",
       "    <tr>\n",
       "      <th>Europe/London</th>\n",
       "      <td>  43</td>\n",
       "      <td>  31</td>\n",
       "    </tr>\n",
       "    <tr>\n",
       "      <th>America/Denver</th>\n",
       "      <td> 132</td>\n",
       "      <td>  59</td>\n",
       "    </tr>\n",
       "    <tr>\n",
       "      <th>America/Los_Angeles</th>\n",
       "      <td> 130</td>\n",
       "      <td> 252</td>\n",
       "    </tr>\n",
       "    <tr>\n",
       "      <th>America/Chicago</th>\n",
       "      <td> 115</td>\n",
       "      <td> 285</td>\n",
       "    </tr>\n",
       "    <tr>\n",
       "      <th></th>\n",
       "      <td> 245</td>\n",
       "      <td> 276</td>\n",
       "    </tr>\n",
       "    <tr>\n",
       "      <th>America/New_York</th>\n",
       "      <td> 339</td>\n",
       "      <td> 912</td>\n",
       "    </tr>\n",
       "  </tbody>\n",
       "</table>\n",
       "</div>"
      ],
      "text/plain": [
       "                     Not Windows  Windows\n",
       "tz                                       \n",
       "America/Sao_Paulo             13       20\n",
       "Europe/Madrid                 16       19\n",
       "Pacific/Honolulu               0       36\n",
       "Asia/Tokyo                     2       35\n",
       "Europe/London                 43       31\n",
       "America/Denver               132       59\n",
       "America/Los_Angeles          130      252\n",
       "America/Chicago              115      285\n",
       "                             245      276\n",
       "America/New_York             339      912"
      ]
     },
     "execution_count": 46,
     "metadata": {},
     "output_type": "execute_result"
    }
   ],
   "source": [
    "count_subset = agg_counts.take(indexer)[-10:]\n",
    "count_subset"
   ]
  },
  {
   "cell_type": "code",
   "execution_count": 75,
   "metadata": {
    "collapsed": false
   },
   "outputs": [
    {
     "data": {
      "text/plain": [
       "<matplotlib.axes._subplots.AxesSubplot at 0x682d898>"
      ]
     },
     "execution_count": 75,
     "metadata": {},
     "output_type": "execute_result"
    },
    {
     "data": {
      "image/png": "[encoded data removed]",
      "text/plain": [
       "<matplotlib.figure.Figure at 0x684e0f0>"
      ]
     },
     "metadata": {},
     "output_type": "display_data"
    }
   ],
   "source": [
    "plt.figure()\n",
    "count_subset.plot(kind='barh', stacked=True)"
   ]
  },
  {
   "cell_type": "code",
   "execution_count": 77,
   "metadata": {
    "collapsed": false
   },
   "outputs": [
    {
     "data": {
      "text/plain": [
       "<matplotlib.axes._subplots.AxesSubplot at 0x5f177b8>"
      ]
     },
     "execution_count": 77,
     "metadata": {},
     "output_type": "execute_result"
    },
    {
     "data": {
      "image/png": "[encoded data removed]",
      "text/plain": [
       "<matplotlib.figure.Figure at 0x5e67048>"
      ]
     },
     "metadata": {},
     "output_type": "display_data"
    }
   ],
   "source": [
    "plt.figure()\n",
    "normed_subset = count_subset.div(count_subset.sum(1), axis=0)\n",
    "normed_subset.plot(kind='barh', stacked=True)"
   ]
  },
  {
   "cell_type": "markdown",
   "metadata": {},
   "source": [
    "## MovieLens 1M data set"
   ]
  },
  {
   "cell_type": "code",
   "execution_count": 1,
   "metadata": {
    "collapsed": false
   },
   "outputs": [
    {
     "name": "stderr",
     "output_type": "stream",
     "text": [
      "c:\\Users\\MRossol\\Anaconda3\\lib\\site-packages\\pandas\\io\\parsers.py:639: ParserWarning: Falling back to the 'python' engine because the 'c' engine does not support regex separators; you can avoid this warning by specifying engine='python'.\n",
      "  ParserWarning)\n"
     ]
    }
   ],
   "source": [
    "import pandas as pd\n",
    "import os\n",
    "encoding = 'latin1'\n",
    "\n",
    "upath = os.path.expanduser('ch02/movielens/users.dat')\n",
    "rpath = os.path.expanduser('ch02/movielens/ratings.dat')\n",
    "mpath = os.path.expanduser('ch02/movielens/movies.dat')\n",
    "\n",
    "unames = ['user_id', 'gender', 'age', 'occupation', 'zip']\n",
    "rnames = ['user_id', 'movie_id', 'rating', 'timestamp']\n",
    "mnames = ['movie_id', 'title', 'genres']\n",
    "\n",
    "users = pd.read_csv(upath, sep='::', header=None, names=unames, encoding=encoding)\n",
    "ratings = pd.read_csv(rpath, sep='::', header=None, names=rnames, encoding=encoding)\n",
    "movies = pd.read_csv(mpath, sep='::', header=None, names=mnames, encoding=encoding)"
   ]
  },
  {
   "cell_type": "code",
   "execution_count": 2,
   "metadata": {
    "collapsed": false
   },
   "outputs": [
    {
     "data": {
      "text/html": [
       "<div style=\"max-height:1000px;max-width:1500px;overflow:auto;\">\n",
       "<table border=\"1\" class=\"dataframe\">\n",
       "  <thead>\n",
       "    <tr style=\"text-align: right;\">\n",
       "      <th></th>\n",
       "      <th>user_id</th>\n",
       "      <th>gender</th>\n",
       "      <th>age</th>\n",
       "      <th>occupation</th>\n",
       "      <th>zip</th>\n",
       "    </tr>\n",
       "  </thead>\n",
       "  <tbody>\n",
       "    <tr>\n",
       "      <th>0</th>\n",
       "      <td> 1</td>\n",
       "      <td> F</td>\n",
       "      <td>  1</td>\n",
       "      <td> 10</td>\n",
       "      <td> 48067</td>\n",
       "    </tr>\n",
       "    <tr>\n",
       "      <th>1</th>\n",
       "      <td> 2</td>\n",
       "      <td> M</td>\n",
       "      <td> 56</td>\n",
       "      <td> 16</td>\n",
       "      <td> 70072</td>\n",
       "    </tr>\n",
       "    <tr>\n",
       "      <th>2</th>\n",
       "      <td> 3</td>\n",
       "      <td> M</td>\n",
       "      <td> 25</td>\n",
       "      <td> 15</td>\n",
       "      <td> 55117</td>\n",
       "    </tr>\n",
       "    <tr>\n",
       "      <th>3</th>\n",
       "      <td> 4</td>\n",
       "      <td> M</td>\n",
       "      <td> 45</td>\n",
       "      <td>  7</td>\n",
       "      <td> 02460</td>\n",
       "    </tr>\n",
       "    <tr>\n",
       "      <th>4</th>\n",
       "      <td> 5</td>\n",
       "      <td> M</td>\n",
       "      <td> 25</td>\n",
       "      <td> 20</td>\n",
       "      <td> 55455</td>\n",
       "    </tr>\n",
       "  </tbody>\n",
       "</table>\n",
       "</div>"
      ],
      "text/plain": [
       "   user_id gender  age  occupation    zip\n",
       "0        1      F    1          10  48067\n",
       "1        2      M   56          16  70072\n",
       "2        3      M   25          15  55117\n",
       "3        4      M   45           7  02460\n",
       "4        5      M   25          20  55455"
      ]
     },
     "execution_count": 2,
     "metadata": {},
     "output_type": "execute_result"
    }
   ],
   "source": [
    "users[:5]"
   ]
  },
  {
   "cell_type": "code",
   "execution_count": 3,
   "metadata": {
    "collapsed": false
   },
   "outputs": [
    {
     "data": {
      "text/html": [
       "<div style=\"max-height:1000px;max-width:1500px;overflow:auto;\">\n",
       "<table border=\"1\" class=\"dataframe\">\n",
       "  <thead>\n",
       "    <tr style=\"text-align: right;\">\n",
       "      <th></th>\n",
       "      <th>user_id</th>\n",
       "      <th>movie_id</th>\n",
       "      <th>rating</th>\n",
       "      <th>timestamp</th>\n",
       "    </tr>\n",
       "  </thead>\n",
       "  <tbody>\n",
       "    <tr>\n",
       "      <th>0</th>\n",
       "      <td> 1</td>\n",
       "      <td> 1193</td>\n",
       "      <td> 5</td>\n",
       "      <td> 978300760</td>\n",
       "    </tr>\n",
       "    <tr>\n",
       "      <th>1</th>\n",
       "      <td> 1</td>\n",
       "      <td>  661</td>\n",
       "      <td> 3</td>\n",
       "      <td> 978302109</td>\n",
       "    </tr>\n",
       "    <tr>\n",
       "      <th>2</th>\n",
       "      <td> 1</td>\n",
       "      <td>  914</td>\n",
       "      <td> 3</td>\n",
       "      <td> 978301968</td>\n",
       "    </tr>\n",
       "    <tr>\n",
       "      <th>3</th>\n",
       "      <td> 1</td>\n",
       "      <td> 3408</td>\n",
       "      <td> 4</td>\n",
       "      <td> 978300275</td>\n",
       "    </tr>\n",
       "    <tr>\n",
       "      <th>4</th>\n",
       "      <td> 1</td>\n",
       "      <td> 2355</td>\n",
       "      <td> 5</td>\n",
       "      <td> 978824291</td>\n",
       "    </tr>\n",
       "  </tbody>\n",
       "</table>\n",
       "</div>"
      ],
      "text/plain": [
       "   user_id  movie_id  rating  timestamp\n",
       "0        1      1193       5  978300760\n",
       "1        1       661       3  978302109\n",
       "2        1       914       3  978301968\n",
       "3        1      3408       4  978300275\n",
       "4        1      2355       5  978824291"
      ]
     },
     "execution_count": 3,
     "metadata": {},
     "output_type": "execute_result"
    }
   ],
   "source": [
    "ratings[:5]"
   ]
  },
  {
   "cell_type": "code",
   "execution_count": 4,
   "metadata": {
    "collapsed": false
   },
   "outputs": [
    {
     "data": {
      "text/html": [
       "<div style=\"max-height:1000px;max-width:1500px;overflow:auto;\">\n",
       "<table border=\"1\" class=\"dataframe\">\n",
       "  <thead>\n",
       "    <tr style=\"text-align: right;\">\n",
       "      <th></th>\n",
       "      <th>movie_id</th>\n",
       "      <th>title</th>\n",
       "      <th>genres</th>\n",
       "    </tr>\n",
       "  </thead>\n",
       "  <tbody>\n",
       "    <tr>\n",
       "      <th>0</th>\n",
       "      <td> 1</td>\n",
       "      <td>                   Toy Story (1995)</td>\n",
       "      <td>  Animation|Children's|Comedy</td>\n",
       "    </tr>\n",
       "    <tr>\n",
       "      <th>1</th>\n",
       "      <td> 2</td>\n",
       "      <td>                     Jumanji (1995)</td>\n",
       "      <td> Adventure|Children's|Fantasy</td>\n",
       "    </tr>\n",
       "    <tr>\n",
       "      <th>2</th>\n",
       "      <td> 3</td>\n",
       "      <td>            Grumpier Old Men (1995)</td>\n",
       "      <td>               Comedy|Romance</td>\n",
       "    </tr>\n",
       "    <tr>\n",
       "      <th>3</th>\n",
       "      <td> 4</td>\n",
       "      <td>           Waiting to Exhale (1995)</td>\n",
       "      <td>                 Comedy|Drama</td>\n",
       "    </tr>\n",
       "    <tr>\n",
       "      <th>4</th>\n",
       "      <td> 5</td>\n",
       "      <td> Father of the Bride Part II (1995)</td>\n",
       "      <td>                       Comedy</td>\n",
       "    </tr>\n",
       "  </tbody>\n",
       "</table>\n",
       "</div>"
      ],
      "text/plain": [
       "   movie_id                               title                        genres\n",
       "0         1                    Toy Story (1995)   Animation|Children's|Comedy\n",
       "1         2                      Jumanji (1995)  Adventure|Children's|Fantasy\n",
       "2         3             Grumpier Old Men (1995)                Comedy|Romance\n",
       "3         4            Waiting to Exhale (1995)                  Comedy|Drama\n",
       "4         5  Father of the Bride Part II (1995)                        Comedy"
      ]
     },
     "execution_count": 4,
     "metadata": {},
     "output_type": "execute_result"
    }
   ],
   "source": [
    "movies[:5]"
   ]
  },
  {
   "cell_type": "code",
   "execution_count": 5,
   "metadata": {
    "collapsed": false
   },
   "outputs": [
    {
     "data": {
      "text/html": [
       "<div style=\"max-height:1000px;max-width:1500px;overflow:auto;\">\n",
       "<table border=\"1\" class=\"dataframe\">\n",
       "  <thead>\n",
       "    <tr style=\"text-align: right;\">\n",
       "      <th></th>\n",
       "      <th>user_id</th>\n",
       "      <th>movie_id</th>\n",
       "      <th>rating</th>\n",
       "      <th>timestamp</th>\n",
       "      <th>gender</th>\n",
       "      <th>age</th>\n",
       "      <th>occupation</th>\n",
       "      <th>zip</th>\n",
       "      <th>title</th>\n",
       "      <th>genres</th>\n",
       "    </tr>\n",
       "  </thead>\n",
       "  <tbody>\n",
       "    <tr>\n",
       "      <th>0</th>\n",
       "      <td>  1</td>\n",
       "      <td> 1193</td>\n",
       "      <td> 5</td>\n",
       "      <td> 978300760</td>\n",
       "      <td> F</td>\n",
       "      <td>  1</td>\n",
       "      <td> 10</td>\n",
       "      <td> 48067</td>\n",
       "      <td> One Flew Over the Cuckoo's Nest (1975)</td>\n",
       "      <td> Drama</td>\n",
       "    </tr>\n",
       "    <tr>\n",
       "      <th>1</th>\n",
       "      <td>  2</td>\n",
       "      <td> 1193</td>\n",
       "      <td> 5</td>\n",
       "      <td> 978298413</td>\n",
       "      <td> M</td>\n",
       "      <td> 56</td>\n",
       "      <td> 16</td>\n",
       "      <td> 70072</td>\n",
       "      <td> One Flew Over the Cuckoo's Nest (1975)</td>\n",
       "      <td> Drama</td>\n",
       "    </tr>\n",
       "    <tr>\n",
       "      <th>2</th>\n",
       "      <td> 12</td>\n",
       "      <td> 1193</td>\n",
       "      <td> 4</td>\n",
       "      <td> 978220179</td>\n",
       "      <td> M</td>\n",
       "      <td> 25</td>\n",
       "      <td> 12</td>\n",
       "      <td> 32793</td>\n",
       "      <td> One Flew Over the Cuckoo's Nest (1975)</td>\n",
       "      <td> Drama</td>\n",
       "    </tr>\n",
       "    <tr>\n",
       "      <th>3</th>\n",
       "      <td> 15</td>\n",
       "      <td> 1193</td>\n",
       "      <td> 4</td>\n",
       "      <td> 978199279</td>\n",
       "      <td> M</td>\n",
       "      <td> 25</td>\n",
       "      <td>  7</td>\n",
       "      <td> 22903</td>\n",
       "      <td> One Flew Over the Cuckoo's Nest (1975)</td>\n",
       "      <td> Drama</td>\n",
       "    </tr>\n",
       "    <tr>\n",
       "      <th>4</th>\n",
       "      <td> 17</td>\n",
       "      <td> 1193</td>\n",
       "      <td> 5</td>\n",
       "      <td> 978158471</td>\n",
       "      <td> M</td>\n",
       "      <td> 50</td>\n",
       "      <td>  1</td>\n",
       "      <td> 95350</td>\n",
       "      <td> One Flew Over the Cuckoo's Nest (1975)</td>\n",
       "      <td> Drama</td>\n",
       "    </tr>\n",
       "  </tbody>\n",
       "</table>\n",
       "</div>"
      ],
      "text/plain": [
       "   user_id  movie_id  rating  timestamp gender  age  occupation    zip  \\\n",
       "0        1      1193       5  978300760      F    1          10  48067   \n",
       "1        2      1193       5  978298413      M   56          16  70072   \n",
       "2       12      1193       4  978220179      M   25          12  32793   \n",
       "3       15      1193       4  978199279      M   25           7  22903   \n",
       "4       17      1193       5  978158471      M   50           1  95350   \n",
       "\n",
       "                                    title genres  \n",
       "0  One Flew Over the Cuckoo's Nest (1975)  Drama  \n",
       "1  One Flew Over the Cuckoo's Nest (1975)  Drama  \n",
       "2  One Flew Over the Cuckoo's Nest (1975)  Drama  \n",
       "3  One Flew Over the Cuckoo's Nest (1975)  Drama  \n",
       "4  One Flew Over the Cuckoo's Nest (1975)  Drama  "
      ]
     },
     "execution_count": 5,
     "metadata": {},
     "output_type": "execute_result"
    }
   ],
   "source": [
    "data = pd.merge(pd.merge(ratings, users), movies)\n",
    "data[:5]"
   ]
  },
  {
   "cell_type": "code",
   "execution_count": 6,
   "metadata": {
    "collapsed": false
   },
   "outputs": [
    {
     "data": {
      "text/plain": [
       "user_id                                            1\n",
       "movie_id                                        1193\n",
       "rating                                             5\n",
       "timestamp                                  978300760\n",
       "gender                                             F\n",
       "age                                                1\n",
       "occupation                                        10\n",
       "zip                                            48067\n",
       "title         One Flew Over the Cuckoo's Nest (1975)\n",
       "genres                                         Drama\n",
       "Name: 0, dtype: object"
      ]
     },
     "execution_count": 6,
     "metadata": {},
     "output_type": "execute_result"
    }
   ],
   "source": [
    "data.ix[0]"
   ]
  },
  {
   "cell_type": "code",
   "execution_count": 7,
   "metadata": {
    "collapsed": false
   },
   "outputs": [
    {
     "data": {
      "text/html": [
       "<div style=\"max-height:1000px;max-width:1500px;overflow:auto;\">\n",
       "<table border=\"1\" class=\"dataframe\">\n",
       "  <thead>\n",
       "    <tr style=\"text-align: right;\">\n",
       "      <th>gender</th>\n",
       "      <th>F</th>\n",
       "      <th>M</th>\n",
       "    </tr>\n",
       "    <tr>\n",
       "      <th>title</th>\n",
       "      <th></th>\n",
       "      <th></th>\n",
       "    </tr>\n",
       "  </thead>\n",
       "  <tbody>\n",
       "    <tr>\n",
       "      <th>$1,000,000 Duck (1971)</th>\n",
       "      <td> 3.375000</td>\n",
       "      <td> 2.761905</td>\n",
       "    </tr>\n",
       "    <tr>\n",
       "      <th>'Night Mother (1986)</th>\n",
       "      <td> 3.388889</td>\n",
       "      <td> 3.352941</td>\n",
       "    </tr>\n",
       "    <tr>\n",
       "      <th>'Til There Was You (1997)</th>\n",
       "      <td> 2.675676</td>\n",
       "      <td> 2.733333</td>\n",
       "    </tr>\n",
       "    <tr>\n",
       "      <th>'burbs, The (1989)</th>\n",
       "      <td> 2.793478</td>\n",
       "      <td> 2.962085</td>\n",
       "    </tr>\n",
       "    <tr>\n",
       "      <th>...And Justice for All (1979)</th>\n",
       "      <td> 3.828571</td>\n",
       "      <td> 3.689024</td>\n",
       "    </tr>\n",
       "  </tbody>\n",
       "</table>\n",
       "</div>"
      ],
      "text/plain": [
       "gender                                F         M\n",
       "title                                            \n",
       "$1,000,000 Duck (1971)         3.375000  2.761905\n",
       "'Night Mother (1986)           3.388889  3.352941\n",
       "'Til There Was You (1997)      2.675676  2.733333\n",
       "'burbs, The (1989)             2.793478  2.962085\n",
       "...And Justice for All (1979)  3.828571  3.689024"
      ]
     },
     "execution_count": 7,
     "metadata": {},
     "output_type": "execute_result"
    }
   ],
   "source": [
    "mean_ratings = data.pivot_table('rating', index='title',\n",
    "                                columns='gender', aggfunc='mean')\n",
    "mean_ratings[:5]"
   ]
  },
  {
   "cell_type": "code",
   "execution_count": 8,
   "metadata": {
    "collapsed": false
   },
   "outputs": [
    {
     "data": {
      "text/plain": [
       "title\n",
       "$1,000,000 Duck (1971)            37\n",
       "'Night Mother (1986)              70\n",
       "'Til There Was You (1997)         52\n",
       "'burbs, The (1989)               303\n",
       "...And Justice for All (1979)    199\n",
       "dtype: int64"
      ]
     },
     "execution_count": 8,
     "metadata": {},
     "output_type": "execute_result"
    }
   ],
   "source": [
    "ratings_by_title = data.groupby('title').size()\n",
    "ratings_by_title[:5]"
   ]
  },
  {
   "cell_type": "code",
   "execution_count": 9,
   "metadata": {
    "collapsed": false
   },
   "outputs": [
    {
     "data": {
      "text/plain": [
       "Index([''burbs, The (1989)', '10 Things I Hate About You (1999)', '101 Dalmatians (1961)', '101 Dalmatians (1996)', '12 Angry Men (1957)', '13th Warrior, The (1999)', '2 Days in the Valley (1996)', '20,000 Leagues Under the Sea (1954)', '2001: A Space Odyssey (1968)', '2010 (1984)'], dtype='object')"
      ]
     },
     "execution_count": 9,
     "metadata": {},
     "output_type": "execute_result"
    }
   ],
   "source": [
    "active_titles = ratings_by_title.index[ratings_by_title >= 250]\n",
    "active_titles[:10]"
   ]
  },
  {
   "cell_type": "code",
   "execution_count": 10,
   "metadata": {
    "collapsed": false
   },
   "outputs": [
    {
     "data": {
      "text/html": [
       "<div style=\"max-height:1000px;max-width:1500px;overflow:auto;\">\n",
       "<table border=\"1\" class=\"dataframe\">\n",
       "  <thead>\n",
       "    <tr style=\"text-align: right;\">\n",
       "      <th>gender</th>\n",
       "      <th>F</th>\n",
       "      <th>M</th>\n",
       "    </tr>\n",
       "    <tr>\n",
       "      <th>title</th>\n",
       "      <th></th>\n",
       "      <th></th>\n",
       "    </tr>\n",
       "  </thead>\n",
       "  <tbody>\n",
       "    <tr>\n",
       "      <th>'burbs, The (1989)</th>\n",
       "      <td> 2.793478</td>\n",
       "      <td> 2.962085</td>\n",
       "    </tr>\n",
       "    <tr>\n",
       "      <th>10 Things I Hate About You (1999)</th>\n",
       "      <td> 3.646552</td>\n",
       "      <td> 3.311966</td>\n",
       "    </tr>\n",
       "    <tr>\n",
       "      <th>101 Dalmatians (1961)</th>\n",
       "      <td> 3.791444</td>\n",
       "      <td> 3.500000</td>\n",
       "    </tr>\n",
       "    <tr>\n",
       "      <th>101 Dalmatians (1996)</th>\n",
       "      <td> 3.240000</td>\n",
       "      <td> 2.911215</td>\n",
       "    </tr>\n",
       "    <tr>\n",
       "      <th>12 Angry Men (1957)</th>\n",
       "      <td> 4.184397</td>\n",
       "      <td> 4.328421</td>\n",
       "    </tr>\n",
       "  </tbody>\n",
       "</table>\n",
       "</div>"
      ],
      "text/plain": [
       "gender                                    F         M\n",
       "title                                                \n",
       "'burbs, The (1989)                 2.793478  2.962085\n",
       "10 Things I Hate About You (1999)  3.646552  3.311966\n",
       "101 Dalmatians (1961)              3.791444  3.500000\n",
       "101 Dalmatians (1996)              3.240000  2.911215\n",
       "12 Angry Men (1957)                4.184397  4.328421"
      ]
     },
     "execution_count": 10,
     "metadata": {},
     "output_type": "execute_result"
    }
   ],
   "source": [
    "mean_ratings = mean_ratings.ix[active_titles]\n",
    "mean_ratings[:5]"
   ]
  },
  {
   "cell_type": "code",
   "execution_count": 11,
   "metadata": {
    "collapsed": false
   },
   "outputs": [
    {
     "data": {
      "text/html": [
       "<div style=\"max-height:1000px;max-width:1500px;overflow:auto;\">\n",
       "<table border=\"1\" class=\"dataframe\">\n",
       "  <thead>\n",
       "    <tr style=\"text-align: right;\">\n",
       "      <th>gender</th>\n",
       "      <th>F</th>\n",
       "      <th>M</th>\n",
       "    </tr>\n",
       "    <tr>\n",
       "      <th>title</th>\n",
       "      <th></th>\n",
       "      <th></th>\n",
       "    </tr>\n",
       "  </thead>\n",
       "  <tbody>\n",
       "    <tr>\n",
       "      <th>'burbs, The (1989)</th>\n",
       "      <td> 2.793478</td>\n",
       "      <td> 2.962085</td>\n",
       "    </tr>\n",
       "    <tr>\n",
       "      <th>10 Things I Hate About You (1999)</th>\n",
       "      <td> 3.646552</td>\n",
       "      <td> 3.311966</td>\n",
       "    </tr>\n",
       "    <tr>\n",
       "      <th>101 Dalmatians (1961)</th>\n",
       "      <td> 3.791444</td>\n",
       "      <td> 3.500000</td>\n",
       "    </tr>\n",
       "    <tr>\n",
       "      <th>101 Dalmatians (1996)</th>\n",
       "      <td> 3.240000</td>\n",
       "      <td> 2.911215</td>\n",
       "    </tr>\n",
       "    <tr>\n",
       "      <th>12 Angry Men (1957)</th>\n",
       "      <td> 4.184397</td>\n",
       "      <td> 4.328421</td>\n",
       "    </tr>\n",
       "  </tbody>\n",
       "</table>\n",
       "</div>"
      ],
      "text/plain": [
       "gender                                    F         M\n",
       "title                                                \n",
       "'burbs, The (1989)                 2.793478  2.962085\n",
       "10 Things I Hate About You (1999)  3.646552  3.311966\n",
       "101 Dalmatians (1961)              3.791444  3.500000\n",
       "101 Dalmatians (1996)              3.240000  2.911215\n",
       "12 Angry Men (1957)                4.184397  4.328421"
      ]
     },
     "execution_count": 11,
     "metadata": {},
     "output_type": "execute_result"
    }
   ],
   "source": [
    "mean_ratings = mean_ratings.rename(index={'Seven Samurai (The Magnificent Seven) (Shichinin no samurai) (1954)':\n",
    "                           'Seven Samurai (Shichinin no samurai) (1954)'})\n",
    "mean_ratings[:5]"
   ]
  },
  {
   "cell_type": "code",
   "execution_count": 107,
   "metadata": {
    "collapsed": false
   },
   "outputs": [
    {
     "data": {
      "text/html": [
       "<div style=\"max-height:1000px;max-width:1500px;overflow:auto;\">\n",
       "<table border=\"1\" class=\"dataframe\">\n",
       "  <thead>\n",
       "    <tr style=\"text-align: right;\">\n",
       "      <th>gender</th>\n",
       "      <th>F</th>\n",
       "      <th>M</th>\n",
       "    </tr>\n",
       "    <tr>\n",
       "      <th>title</th>\n",
       "      <th></th>\n",
       "      <th></th>\n",
       "    </tr>\n",
       "  </thead>\n",
       "  <tbody>\n",
       "    <tr>\n",
       "      <th>Close Shave, A (1995)</th>\n",
       "      <td> 4.644444</td>\n",
       "      <td> 4.473795</td>\n",
       "    </tr>\n",
       "    <tr>\n",
       "      <th>Wrong Trousers, The (1993)</th>\n",
       "      <td> 4.588235</td>\n",
       "      <td> 4.478261</td>\n",
       "    </tr>\n",
       "    <tr>\n",
       "      <th>Sunset Blvd. (a.k.a. Sunset Boulevard) (1950)</th>\n",
       "      <td> 4.572650</td>\n",
       "      <td> 4.464589</td>\n",
       "    </tr>\n",
       "    <tr>\n",
       "      <th>Wallace &amp; Gromit: The Best of Aardman Animation (1996)</th>\n",
       "      <td> 4.563107</td>\n",
       "      <td> 4.385075</td>\n",
       "    </tr>\n",
       "    <tr>\n",
       "      <th>Schindler's List (1993)</th>\n",
       "      <td> 4.562602</td>\n",
       "      <td> 4.491415</td>\n",
       "    </tr>\n",
       "    <tr>\n",
       "      <th>Shawshank Redemption, The (1994)</th>\n",
       "      <td> 4.539075</td>\n",
       "      <td> 4.560625</td>\n",
       "    </tr>\n",
       "    <tr>\n",
       "      <th>Grand Day Out, A (1992)</th>\n",
       "      <td> 4.537879</td>\n",
       "      <td> 4.293255</td>\n",
       "    </tr>\n",
       "    <tr>\n",
       "      <th>To Kill a Mockingbird (1962)</th>\n",
       "      <td> 4.536667</td>\n",
       "      <td> 4.372611</td>\n",
       "    </tr>\n",
       "    <tr>\n",
       "      <th>Creature Comforts (1990)</th>\n",
       "      <td> 4.513889</td>\n",
       "      <td> 4.272277</td>\n",
       "    </tr>\n",
       "    <tr>\n",
       "      <th>Usual Suspects, The (1995)</th>\n",
       "      <td> 4.513317</td>\n",
       "      <td> 4.518248</td>\n",
       "    </tr>\n",
       "  </tbody>\n",
       "</table>\n",
       "</div>"
      ],
      "text/plain": [
       "gender                                                         F         M\n",
       "title                                                                     \n",
       "Close Shave, A (1995)                                   4.644444  4.473795\n",
       "Wrong Trousers, The (1993)                              4.588235  4.478261\n",
       "Sunset Blvd. (a.k.a. Sunset Boulevard) (1950)           4.572650  4.464589\n",
       "Wallace & Gromit: The Best of Aardman Animation (1996)  4.563107  4.385075\n",
       "Schindler's List (1993)                                 4.562602  4.491415\n",
       "Shawshank Redemption, The (1994)                        4.539075  4.560625\n",
       "Grand Day Out, A (1992)                                 4.537879  4.293255\n",
       "To Kill a Mockingbird (1962)                            4.536667  4.372611\n",
       "Creature Comforts (1990)                                4.513889  4.272277\n",
       "Usual Suspects, The (1995)                              4.513317  4.518248"
      ]
     },
     "execution_count": 107,
     "metadata": {},
     "output_type": "execute_result"
    }
   ],
   "source": [
    "top_female_ratings = mean_ratings.sort_index(by='F', ascending=False)\n",
    "top_female_ratings[:10]"
   ]
  },
  {
   "cell_type": "markdown",
   "metadata": {},
   "source": [
    "### Measuring rating disagreement"
   ]
  },
  {
   "cell_type": "code",
   "execution_count": 109,
   "metadata": {
    "collapsed": false
   },
   "outputs": [
    {
     "data": {
      "text/html": [
       "<div style=\"max-height:1000px;max-width:1500px;overflow:auto;\">\n",
       "<table border=\"1\" class=\"dataframe\">\n",
       "  <thead>\n",
       "    <tr style=\"text-align: right;\">\n",
       "      <th>gender</th>\n",
       "      <th>F</th>\n",
       "      <th>M</th>\n",
       "      <th>diff</th>\n",
       "    </tr>\n",
       "    <tr>\n",
       "      <th>title</th>\n",
       "      <th></th>\n",
       "      <th></th>\n",
       "      <th></th>\n",
       "    </tr>\n",
       "  </thead>\n",
       "  <tbody>\n",
       "    <tr>\n",
       "      <th>'burbs, The (1989)</th>\n",
       "      <td> 2.793478</td>\n",
       "      <td> 2.962085</td>\n",
       "      <td> 0.168607</td>\n",
       "    </tr>\n",
       "    <tr>\n",
       "      <th>10 Things I Hate About You (1999)</th>\n",
       "      <td> 3.646552</td>\n",
       "      <td> 3.311966</td>\n",
       "      <td>-0.334586</td>\n",
       "    </tr>\n",
       "    <tr>\n",
       "      <th>101 Dalmatians (1961)</th>\n",
       "      <td> 3.791444</td>\n",
       "      <td> 3.500000</td>\n",
       "      <td>-0.291444</td>\n",
       "    </tr>\n",
       "    <tr>\n",
       "      <th>101 Dalmatians (1996)</th>\n",
       "      <td> 3.240000</td>\n",
       "      <td> 2.911215</td>\n",
       "      <td>-0.328785</td>\n",
       "    </tr>\n",
       "    <tr>\n",
       "      <th>12 Angry Men (1957)</th>\n",
       "      <td> 4.184397</td>\n",
       "      <td> 4.328421</td>\n",
       "      <td> 0.144024</td>\n",
       "    </tr>\n",
       "    <tr>\n",
       "      <th>13th Warrior, The (1999)</th>\n",
       "      <td> 3.112000</td>\n",
       "      <td> 3.168000</td>\n",
       "      <td> 0.056000</td>\n",
       "    </tr>\n",
       "    <tr>\n",
       "      <th>2 Days in the Valley (1996)</th>\n",
       "      <td> 3.488889</td>\n",
       "      <td> 3.244813</td>\n",
       "      <td>-0.244076</td>\n",
       "    </tr>\n",
       "    <tr>\n",
       "      <th>20,000 Leagues Under the Sea (1954)</th>\n",
       "      <td> 3.670103</td>\n",
       "      <td> 3.709205</td>\n",
       "      <td> 0.039102</td>\n",
       "    </tr>\n",
       "    <tr>\n",
       "      <th>2001: A Space Odyssey (1968)</th>\n",
       "      <td> 3.825581</td>\n",
       "      <td> 4.129738</td>\n",
       "      <td> 0.304156</td>\n",
       "    </tr>\n",
       "    <tr>\n",
       "      <th>2010 (1984)</th>\n",
       "      <td> 3.446809</td>\n",
       "      <td> 3.413712</td>\n",
       "      <td>-0.033097</td>\n",
       "    </tr>\n",
       "  </tbody>\n",
       "</table>\n",
       "</div>"
      ],
      "text/plain": [
       "gender                                      F         M      diff\n",
       "title                                                            \n",
       "'burbs, The (1989)                   2.793478  2.962085  0.168607\n",
       "10 Things I Hate About You (1999)    3.646552  3.311966 -0.334586\n",
       "101 Dalmatians (1961)                3.791444  3.500000 -0.291444\n",
       "101 Dalmatians (1996)                3.240000  2.911215 -0.328785\n",
       "12 Angry Men (1957)                  4.184397  4.328421  0.144024\n",
       "13th Warrior, The (1999)             3.112000  3.168000  0.056000\n",
       "2 Days in the Valley (1996)          3.488889  3.244813 -0.244076\n",
       "20,000 Leagues Under the Sea (1954)  3.670103  3.709205  0.039102\n",
       "2001: A Space Odyssey (1968)         3.825581  4.129738  0.304156\n",
       "2010 (1984)                          3.446809  3.413712 -0.033097"
      ]
     },
     "execution_count": 109,
     "metadata": {},
     "output_type": "execute_result"
    }
   ],
   "source": [
    "mean_ratings['diff'] = mean_ratings['M'] - mean_ratings['F']\n",
    "mean_ratings[:10]"
   ]
  },
  {
   "cell_type": "code",
   "execution_count": 110,
   "metadata": {
    "collapsed": false
   },
   "outputs": [
    {
     "data": {
      "text/html": [
       "<div style=\"max-height:1000px;max-width:1500px;overflow:auto;\">\n",
       "<table border=\"1\" class=\"dataframe\">\n",
       "  <thead>\n",
       "    <tr style=\"text-align: right;\">\n",
       "      <th>gender</th>\n",
       "      <th>F</th>\n",
       "      <th>M</th>\n",
       "      <th>diff</th>\n",
       "    </tr>\n",
       "    <tr>\n",
       "      <th>title</th>\n",
       "      <th></th>\n",
       "      <th></th>\n",
       "      <th></th>\n",
       "    </tr>\n",
       "  </thead>\n",
       "  <tbody>\n",
       "    <tr>\n",
       "      <th>Dirty Dancing (1987)</th>\n",
       "      <td> 3.790378</td>\n",
       "      <td> 2.959596</td>\n",
       "      <td>-0.830782</td>\n",
       "    </tr>\n",
       "    <tr>\n",
       "      <th>Jumpin' Jack Flash (1986)</th>\n",
       "      <td> 3.254717</td>\n",
       "      <td> 2.578358</td>\n",
       "      <td>-0.676359</td>\n",
       "    </tr>\n",
       "    <tr>\n",
       "      <th>Grease (1978)</th>\n",
       "      <td> 3.975265</td>\n",
       "      <td> 3.367041</td>\n",
       "      <td>-0.608224</td>\n",
       "    </tr>\n",
       "    <tr>\n",
       "      <th>Little Women (1994)</th>\n",
       "      <td> 3.870588</td>\n",
       "      <td> 3.321739</td>\n",
       "      <td>-0.548849</td>\n",
       "    </tr>\n",
       "    <tr>\n",
       "      <th>Steel Magnolias (1989)</th>\n",
       "      <td> 3.901734</td>\n",
       "      <td> 3.365957</td>\n",
       "      <td>-0.535777</td>\n",
       "    </tr>\n",
       "    <tr>\n",
       "      <th>Anastasia (1997)</th>\n",
       "      <td> 3.800000</td>\n",
       "      <td> 3.281609</td>\n",
       "      <td>-0.518391</td>\n",
       "    </tr>\n",
       "    <tr>\n",
       "      <th>Rocky Horror Picture Show, The (1975)</th>\n",
       "      <td> 3.673016</td>\n",
       "      <td> 3.160131</td>\n",
       "      <td>-0.512885</td>\n",
       "    </tr>\n",
       "    <tr>\n",
       "      <th>Color Purple, The (1985)</th>\n",
       "      <td> 4.158192</td>\n",
       "      <td> 3.659341</td>\n",
       "      <td>-0.498851</td>\n",
       "    </tr>\n",
       "    <tr>\n",
       "      <th>Age of Innocence, The (1993)</th>\n",
       "      <td> 3.827068</td>\n",
       "      <td> 3.339506</td>\n",
       "      <td>-0.487561</td>\n",
       "    </tr>\n",
       "    <tr>\n",
       "      <th>Free Willy (1993)</th>\n",
       "      <td> 2.921348</td>\n",
       "      <td> 2.438776</td>\n",
       "      <td>-0.482573</td>\n",
       "    </tr>\n",
       "    <tr>\n",
       "      <th>French Kiss (1995)</th>\n",
       "      <td> 3.535714</td>\n",
       "      <td> 3.056962</td>\n",
       "      <td>-0.478752</td>\n",
       "    </tr>\n",
       "    <tr>\n",
       "      <th>Little Shop of Horrors, The (1960)</th>\n",
       "      <td> 3.650000</td>\n",
       "      <td> 3.179688</td>\n",
       "      <td>-0.470312</td>\n",
       "    </tr>\n",
       "    <tr>\n",
       "      <th>Guys and Dolls (1955)</th>\n",
       "      <td> 4.051724</td>\n",
       "      <td> 3.583333</td>\n",
       "      <td>-0.468391</td>\n",
       "    </tr>\n",
       "    <tr>\n",
       "      <th>Mary Poppins (1964)</th>\n",
       "      <td> 4.197740</td>\n",
       "      <td> 3.730594</td>\n",
       "      <td>-0.467147</td>\n",
       "    </tr>\n",
       "    <tr>\n",
       "      <th>Patch Adams (1998)</th>\n",
       "      <td> 3.473282</td>\n",
       "      <td> 3.008746</td>\n",
       "      <td>-0.464536</td>\n",
       "    </tr>\n",
       "  </tbody>\n",
       "</table>\n",
       "</div>"
      ],
      "text/plain": [
       "gender                                        F         M      diff\n",
       "title                                                              \n",
       "Dirty Dancing (1987)                   3.790378  2.959596 -0.830782\n",
       "Jumpin' Jack Flash (1986)              3.254717  2.578358 -0.676359\n",
       "Grease (1978)                          3.975265  3.367041 -0.608224\n",
       "Little Women (1994)                    3.870588  3.321739 -0.548849\n",
       "Steel Magnolias (1989)                 3.901734  3.365957 -0.535777\n",
       "Anastasia (1997)                       3.800000  3.281609 -0.518391\n",
       "Rocky Horror Picture Show, The (1975)  3.673016  3.160131 -0.512885\n",
       "Color Purple, The (1985)               4.158192  3.659341 -0.498851\n",
       "Age of Innocence, The (1993)           3.827068  3.339506 -0.487561\n",
       "Free Willy (1993)                      2.921348  2.438776 -0.482573\n",
       "French Kiss (1995)                     3.535714  3.056962 -0.478752\n",
       "Little Shop of Horrors, The (1960)     3.650000  3.179688 -0.470312\n",
       "Guys and Dolls (1955)                  4.051724  3.583333 -0.468391\n",
       "Mary Poppins (1964)                    4.197740  3.730594 -0.467147\n",
       "Patch Adams (1998)                     3.473282  3.008746 -0.464536"
      ]
     },
     "execution_count": 110,
     "metadata": {},
     "output_type": "execute_result"
    }
   ],
   "source": [
    "sorted_by_diff = mean_ratings.sort_index(by='diff')\n",
    "sorted_by_diff[:15]"
   ]
  },
  {
   "cell_type": "code",
   "execution_count": 111,
   "metadata": {
    "collapsed": false
   },
   "outputs": [
    {
     "data": {
      "text/html": [
       "<div style=\"max-height:1000px;max-width:1500px;overflow:auto;\">\n",
       "<table border=\"1\" class=\"dataframe\">\n",
       "  <thead>\n",
       "    <tr style=\"text-align: right;\">\n",
       "      <th>gender</th>\n",
       "      <th>F</th>\n",
       "      <th>M</th>\n",
       "      <th>diff</th>\n",
       "    </tr>\n",
       "    <tr>\n",
       "      <th>title</th>\n",
       "      <th></th>\n",
       "      <th></th>\n",
       "      <th></th>\n",
       "    </tr>\n",
       "  </thead>\n",
       "  <tbody>\n",
       "    <tr>\n",
       "      <th>Good, The Bad and The Ugly, The (1966)</th>\n",
       "      <td> 3.494949</td>\n",
       "      <td> 4.221300</td>\n",
       "      <td> 0.726351</td>\n",
       "    </tr>\n",
       "    <tr>\n",
       "      <th>Kentucky Fried Movie, The (1977)</th>\n",
       "      <td> 2.878788</td>\n",
       "      <td> 3.555147</td>\n",
       "      <td> 0.676359</td>\n",
       "    </tr>\n",
       "    <tr>\n",
       "      <th>Dumb &amp; Dumber (1994)</th>\n",
       "      <td> 2.697987</td>\n",
       "      <td> 3.336595</td>\n",
       "      <td> 0.638608</td>\n",
       "    </tr>\n",
       "    <tr>\n",
       "      <th>Longest Day, The (1962)</th>\n",
       "      <td> 3.411765</td>\n",
       "      <td> 4.031447</td>\n",
       "      <td> 0.619682</td>\n",
       "    </tr>\n",
       "    <tr>\n",
       "      <th>Cable Guy, The (1996)</th>\n",
       "      <td> 2.250000</td>\n",
       "      <td> 2.863787</td>\n",
       "      <td> 0.613787</td>\n",
       "    </tr>\n",
       "    <tr>\n",
       "      <th>Evil Dead II (Dead By Dawn) (1987)</th>\n",
       "      <td> 3.297297</td>\n",
       "      <td> 3.909283</td>\n",
       "      <td> 0.611985</td>\n",
       "    </tr>\n",
       "    <tr>\n",
       "      <th>Hidden, The (1987)</th>\n",
       "      <td> 3.137931</td>\n",
       "      <td> 3.745098</td>\n",
       "      <td> 0.607167</td>\n",
       "    </tr>\n",
       "    <tr>\n",
       "      <th>Rocky III (1982)</th>\n",
       "      <td> 2.361702</td>\n",
       "      <td> 2.943503</td>\n",
       "      <td> 0.581801</td>\n",
       "    </tr>\n",
       "    <tr>\n",
       "      <th>Caddyshack (1980)</th>\n",
       "      <td> 3.396135</td>\n",
       "      <td> 3.969737</td>\n",
       "      <td> 0.573602</td>\n",
       "    </tr>\n",
       "    <tr>\n",
       "      <th>For a Few Dollars More (1965)</th>\n",
       "      <td> 3.409091</td>\n",
       "      <td> 3.953795</td>\n",
       "      <td> 0.544704</td>\n",
       "    </tr>\n",
       "    <tr>\n",
       "      <th>Porky's (1981)</th>\n",
       "      <td> 2.296875</td>\n",
       "      <td> 2.836364</td>\n",
       "      <td> 0.539489</td>\n",
       "    </tr>\n",
       "    <tr>\n",
       "      <th>Animal House (1978)</th>\n",
       "      <td> 3.628906</td>\n",
       "      <td> 4.167192</td>\n",
       "      <td> 0.538286</td>\n",
       "    </tr>\n",
       "    <tr>\n",
       "      <th>Exorcist, The (1973)</th>\n",
       "      <td> 3.537634</td>\n",
       "      <td> 4.067239</td>\n",
       "      <td> 0.529605</td>\n",
       "    </tr>\n",
       "    <tr>\n",
       "      <th>Fright Night (1985)</th>\n",
       "      <td> 2.973684</td>\n",
       "      <td> 3.500000</td>\n",
       "      <td> 0.526316</td>\n",
       "    </tr>\n",
       "    <tr>\n",
       "      <th>Barb Wire (1996)</th>\n",
       "      <td> 1.585366</td>\n",
       "      <td> 2.100386</td>\n",
       "      <td> 0.515020</td>\n",
       "    </tr>\n",
       "  </tbody>\n",
       "</table>\n",
       "</div>"
      ],
      "text/plain": [
       "gender                                         F         M      diff\n",
       "title                                                               \n",
       "Good, The Bad and The Ugly, The (1966)  3.494949  4.221300  0.726351\n",
       "Kentucky Fried Movie, The (1977)        2.878788  3.555147  0.676359\n",
       "Dumb & Dumber (1994)                    2.697987  3.336595  0.638608\n",
       "Longest Day, The (1962)                 3.411765  4.031447  0.619682\n",
       "Cable Guy, The (1996)                   2.250000  2.863787  0.613787\n",
       "Evil Dead II (Dead By Dawn) (1987)      3.297297  3.909283  0.611985\n",
       "Hidden, The (1987)                      3.137931  3.745098  0.607167\n",
       "Rocky III (1982)                        2.361702  2.943503  0.581801\n",
       "Caddyshack (1980)                       3.396135  3.969737  0.573602\n",
       "For a Few Dollars More (1965)           3.409091  3.953795  0.544704\n",
       "Porky's (1981)                          2.296875  2.836364  0.539489\n",
       "Animal House (1978)                     3.628906  4.167192  0.538286\n",
       "Exorcist, The (1973)                    3.537634  4.067239  0.529605\n",
       "Fright Night (1985)                     2.973684  3.500000  0.526316\n",
       "Barb Wire (1996)                        1.585366  2.100386  0.515020"
      ]
     },
     "execution_count": 111,
     "metadata": {},
     "output_type": "execute_result"
    }
   ],
   "source": [
    "# Reverse order of rows, take first 15 rows\n",
    "sorted_by_diff[::-1][:15]"
   ]
  },
  {
   "cell_type": "code",
   "execution_count": 113,
   "metadata": {
    "collapsed": false
   },
   "outputs": [
    {
     "data": {
      "text/plain": [
       "title\n",
       "Dumb & Dumber (1994)                     1.321333\n",
       "Blair Witch Project, The (1999)          1.316368\n",
       "Natural Born Killers (1994)              1.307198\n",
       "Tank Girl (1995)                         1.277695\n",
       "Rocky Horror Picture Show, The (1975)    1.260177\n",
       "Eyes Wide Shut (1999)                    1.259624\n",
       "Evita (1996)                             1.253631\n",
       "Billy Madison (1995)                     1.249970\n",
       "Fear and Loathing in Las Vegas (1998)    1.246408\n",
       "Bicentennial Man (1999)                  1.245533\n",
       "Name: rating, dtype: float64"
      ]
     },
     "execution_count": 113,
     "metadata": {},
     "output_type": "execute_result"
    }
   ],
   "source": [
    "# Standard deviation of rating grouped by title\n",
    "rating_std_by_title = data.groupby('title')['rating'].std()\n",
    "# Filter down to active_titles\n",
    "rating_std_by_title = rating_std_by_title.ix[active_titles]\n",
    "# Order Series by value in descending order\n",
    "rating_std_by_title.order(ascending=False)[:10]"
   ]
  },
  {
   "cell_type": "markdown",
   "metadata": {},
   "source": [
    "### US Baby Names 1880-2010"
   ]
  },
  {
   "cell_type": "code",
   "execution_count": 36,
   "metadata": {
    "collapsed": false
   },
   "outputs": [
    {
     "data": {
      "text/plain": [
       "'C:\\\\Users\\\\MRossol\\\\Dropbox\\\\Python\\\\pydata-book'"
      ]
     },
     "execution_count": 36,
     "metadata": {},
     "output_type": "execute_result"
    }
   ],
   "source": [
    "%matplotlib inline\n",
    "from __future__ import division\n",
    "from numpy.random import randn\n",
    "import numpy as np\n",
    "import matplotlib.pyplot as plt\n",
    "plt.rc('figure', figsize=(12, 5))\n",
    "np.set_printoptions(precision=4)\n",
    "%pwd"
   ]
  },
  {
   "cell_type": "markdown",
   "metadata": {},
   "source": [
    "http://www.ssa.gov/oact/babynames/limits.html"
   ]
  },
  {
   "cell_type": "code",
   "execution_count": 13,
   "metadata": {
    "collapsed": false
   },
   "outputs": [
    {
     "name": "stdout",
     "output_type": "stream",
     "text": [
      "Mary,F,7065\n",
      "Anna,F,2604\n",
      "Emma,F,2003\n",
      "Elizabeth,F,1939\n",
      "Minnie,F,1746\n",
      "Margaret,F,1578\n",
      "Ida,F,1472\n",
      "Alice,F,1414\n",
      "Bertha,F,1320\n",
      "Sarah,F,1288\n"
     ]
    }
   ],
   "source": [
    "!head -n 10 ch02/names/yob1880.txt"
   ]
  },
  {
   "cell_type": "code",
   "execution_count": 15,
   "metadata": {
    "collapsed": false
   },
   "outputs": [
    {
     "data": {
      "text/html": [
       "<div style=\"max-height:1000px;max-width:1500px;overflow:auto;\">\n",
       "<table border=\"1\" class=\"dataframe\">\n",
       "  <thead>\n",
       "    <tr style=\"text-align: right;\">\n",
       "      <th></th>\n",
       "      <th>name</th>\n",
       "      <th>sex</th>\n",
       "      <th>births</th>\n",
       "    </tr>\n",
       "  </thead>\n",
       "  <tbody>\n",
       "    <tr>\n",
       "      <th>0</th>\n",
       "      <td>      Mary</td>\n",
       "      <td> F</td>\n",
       "      <td> 7065</td>\n",
       "    </tr>\n",
       "    <tr>\n",
       "      <th>1</th>\n",
       "      <td>      Anna</td>\n",
       "      <td> F</td>\n",
       "      <td> 2604</td>\n",
       "    </tr>\n",
       "    <tr>\n",
       "      <th>2</th>\n",
       "      <td>      Emma</td>\n",
       "      <td> F</td>\n",
       "      <td> 2003</td>\n",
       "    </tr>\n",
       "    <tr>\n",
       "      <th>3</th>\n",
       "      <td> Elizabeth</td>\n",
       "      <td> F</td>\n",
       "      <td> 1939</td>\n",
       "    </tr>\n",
       "    <tr>\n",
       "      <th>4</th>\n",
       "      <td>    Minnie</td>\n",
       "      <td> F</td>\n",
       "      <td> 1746</td>\n",
       "    </tr>\n",
       "  </tbody>\n",
       "</table>\n",
       "</div>"
      ],
      "text/plain": [
       "        name sex  births\n",
       "0       Mary   F    7065\n",
       "1       Anna   F    2604\n",
       "2       Emma   F    2003\n",
       "3  Elizabeth   F    1939\n",
       "4     Minnie   F    1746"
      ]
     },
     "execution_count": 15,
     "metadata": {},
     "output_type": "execute_result"
    }
   ],
   "source": [
    "import pandas as pd\n",
    "names1880 = pd.read_csv('ch02/names/yob1880.txt', names=['name', 'sex', 'births'])\n",
    "names1880[:5]"
   ]
  },
  {
   "cell_type": "code",
   "execution_count": 16,
   "metadata": {
    "collapsed": false
   },
   "outputs": [
    {
     "data": {
      "text/plain": [
       "sex\n",
       "F       90993\n",
       "M      110493\n",
       "Name: births, dtype: int64"
      ]
     },
     "execution_count": 16,
     "metadata": {},
     "output_type": "execute_result"
    }
   ],
   "source": [
    "names1880.groupby('sex').births.sum()"
   ]
  },
  {
   "cell_type": "code",
   "execution_count": 42,
   "metadata": {
    "collapsed": false
   },
   "outputs": [],
   "source": [
    "# 2010 is the last available year right now\n",
    "years = range(1880, 2011)\n",
    "\n",
    "pieces = []\n",
    "columns = ['name', 'sex', 'births']\n",
    "\n",
    "for year in years:\n",
    "    path = 'ch02/names/yob%d.txt' % year\n",
    "    frame = pd.read_csv(path, names=columns)\n",
    "\n",
    "    frame['year'] = year\n",
    "    pieces.append(frame)\n",
    "\n",
    "# Concatenate everything into a single DataFrame\n",
    "names = pd.concat(pieces, ignore_index=True)"
   ]
  },
  {
   "cell_type": "code",
   "execution_count": 32,
   "metadata": {
    "collapsed": false
   },
   "outputs": [
    {
     "data": {
      "text/html": [
       "<div style=\"max-height:1000px;max-width:1500px;overflow:auto;\">\n",
       "<table border=\"1\" class=\"dataframe\">\n",
       "  <thead>\n",
       "    <tr style=\"text-align: right;\">\n",
       "      <th></th>\n",
       "      <th>name</th>\n",
       "      <th>sex</th>\n",
       "      <th>births</th>\n",
       "      <th>year</th>\n",
       "    </tr>\n",
       "  </thead>\n",
       "  <tbody>\n",
       "    <tr>\n",
       "      <th>0</th>\n",
       "      <td>      Mary</td>\n",
       "      <td> F</td>\n",
       "      <td> 7065</td>\n",
       "      <td> 1880</td>\n",
       "    </tr>\n",
       "    <tr>\n",
       "      <th>1</th>\n",
       "      <td>      Anna</td>\n",
       "      <td> F</td>\n",
       "      <td> 2604</td>\n",
       "      <td> 1880</td>\n",
       "    </tr>\n",
       "    <tr>\n",
       "      <th>2</th>\n",
       "      <td>      Emma</td>\n",
       "      <td> F</td>\n",
       "      <td> 2003</td>\n",
       "      <td> 1880</td>\n",
       "    </tr>\n",
       "    <tr>\n",
       "      <th>3</th>\n",
       "      <td> Elizabeth</td>\n",
       "      <td> F</td>\n",
       "      <td> 1939</td>\n",
       "      <td> 1880</td>\n",
       "    </tr>\n",
       "    <tr>\n",
       "      <th>4</th>\n",
       "      <td>    Minnie</td>\n",
       "      <td> F</td>\n",
       "      <td> 1746</td>\n",
       "      <td> 1880</td>\n",
       "    </tr>\n",
       "  </tbody>\n",
       "</table>\n",
       "</div>"
      ],
      "text/plain": [
       "        name sex  births  year\n",
       "0       Mary   F    7065  1880\n",
       "1       Anna   F    2604  1880\n",
       "2       Emma   F    2003  1880\n",
       "3  Elizabeth   F    1939  1880\n",
       "4     Minnie   F    1746  1880"
      ]
     },
     "execution_count": 32,
     "metadata": {},
     "output_type": "execute_result"
    }
   ],
   "source": [
    "names[:5]"
   ]
  },
  {
   "cell_type": "code",
   "execution_count": 30,
   "metadata": {
    "collapsed": false
   },
   "outputs": [
    {
     "data": {
      "text/html": [
       "<div style=\"max-height:1000px;max-width:1500px;overflow:auto;\">\n",
       "<table border=\"1\" class=\"dataframe\">\n",
       "  <thead>\n",
       "    <tr style=\"text-align: right;\">\n",
       "      <th>sex</th>\n",
       "      <th>F</th>\n",
       "      <th>M</th>\n",
       "    </tr>\n",
       "    <tr>\n",
       "      <th>year</th>\n",
       "      <th></th>\n",
       "      <th></th>\n",
       "    </tr>\n",
       "  </thead>\n",
       "  <tbody>\n",
       "    <tr>\n",
       "      <th>1880</th>\n",
       "      <td>  90993</td>\n",
       "      <td> 110493</td>\n",
       "    </tr>\n",
       "    <tr>\n",
       "      <th>1881</th>\n",
       "      <td>  91955</td>\n",
       "      <td> 100748</td>\n",
       "    </tr>\n",
       "    <tr>\n",
       "      <th>1882</th>\n",
       "      <td> 107851</td>\n",
       "      <td> 113687</td>\n",
       "    </tr>\n",
       "    <tr>\n",
       "      <th>1883</th>\n",
       "      <td> 112322</td>\n",
       "      <td> 104632</td>\n",
       "    </tr>\n",
       "    <tr>\n",
       "      <th>1884</th>\n",
       "      <td> 129021</td>\n",
       "      <td> 114445</td>\n",
       "    </tr>\n",
       "  </tbody>\n",
       "</table>\n",
       "</div>"
      ],
      "text/plain": [
       "sex        F       M\n",
       "year                \n",
       "1880   90993  110493\n",
       "1881   91955  100748\n",
       "1882  107851  113687\n",
       "1883  112322  104632\n",
       "1884  129021  114445"
      ]
     },
     "execution_count": 30,
     "metadata": {},
     "output_type": "execute_result"
    }
   ],
   "source": [
    "total_births = names.pivot_table('births', index='year',\n",
    "                                 columns='sex', aggfunc=sum)\n",
    "total_births[:5]"
   ]
  },
  {
   "cell_type": "code",
   "execution_count": 33,
   "metadata": {
    "collapsed": false
   },
   "outputs": [
    {
     "data": {
      "text/html": [
       "<div style=\"max-height:1000px;max-width:1500px;overflow:auto;\">\n",
       "<table border=\"1\" class=\"dataframe\">\n",
       "  <thead>\n",
       "    <tr style=\"text-align: right;\">\n",
       "      <th>sex</th>\n",
       "      <th>F</th>\n",
       "      <th>M</th>\n",
       "    </tr>\n",
       "    <tr>\n",
       "      <th>year</th>\n",
       "      <th></th>\n",
       "      <th></th>\n",
       "    </tr>\n",
       "  </thead>\n",
       "  <tbody>\n",
       "    <tr>\n",
       "      <th>2006</th>\n",
       "      <td> 1896468</td>\n",
       "      <td> 2050234</td>\n",
       "    </tr>\n",
       "    <tr>\n",
       "      <th>2007</th>\n",
       "      <td> 1916888</td>\n",
       "      <td> 2069242</td>\n",
       "    </tr>\n",
       "    <tr>\n",
       "      <th>2008</th>\n",
       "      <td> 1883645</td>\n",
       "      <td> 2032310</td>\n",
       "    </tr>\n",
       "    <tr>\n",
       "      <th>2009</th>\n",
       "      <td> 1827643</td>\n",
       "      <td> 1973359</td>\n",
       "    </tr>\n",
       "    <tr>\n",
       "      <th>2010</th>\n",
       "      <td> 1759010</td>\n",
       "      <td> 1898382</td>\n",
       "    </tr>\n",
       "  </tbody>\n",
       "</table>\n",
       "</div>"
      ],
      "text/plain": [
       "sex         F        M\n",
       "year                  \n",
       "2006  1896468  2050234\n",
       "2007  1916888  2069242\n",
       "2008  1883645  2032310\n",
       "2009  1827643  1973359\n",
       "2010  1759010  1898382"
      ]
     },
     "execution_count": 33,
     "metadata": {},
     "output_type": "execute_result"
    }
   ],
   "source": [
    "total_births.tail()"
   ]
  },
  {
   "cell_type": "code",
   "execution_count": 37,
   "metadata": {
    "collapsed": false
   },
   "outputs": [
    {
     "data": {
      "text/plain": [
       "<matplotlib.axes._subplots.AxesSubplot at 0x29430358>"
      ]
     },
     "execution_count": 37,
     "metadata": {},
     "output_type": "execute_result"
    },
    {
     "data": {
      "text/plain": [
       "<matplotlib.figure.Figure at 0x290fea58>"
      ]
     },
     "metadata": {},
     "output_type": "display_data"
    },
    {
     "data": {
      "image/png": "[encoded data removed]",
      "text/plain": [
       "<matplotlib.figure.Figure at 0x2943c588>"
      ]
     },
     "metadata": {},
     "output_type": "display_data"
    }
   ],
   "source": [
    "plt.figure()\n",
    "total_births.plot(title='Total births by sex and year')"
   ]
  },
  {
   "cell_type": "code",
   "execution_count": 52,
   "metadata": {
    "collapsed": false
   },
   "outputs": [],
   "source": [
    "def add_prop(group):\n",
    "    # Integer division floors\n",
    "    births = group.births.astype(float)\n",
    "\n",
    "    group['prop'] = births / births.sum()\n",
    "    return group\n",
    "names = names.groupby(['year', 'sex']).apply(add_prop)"
   ]
  },
  {
   "cell_type": "code",
   "execution_count": 53,
   "metadata": {
    "collapsed": false
   },
   "outputs": [
    {
     "data": {
      "text/html": [
       "<div style=\"max-height:1000px;max-width:1500px;overflow:auto;\">\n",
       "<table border=\"1\" class=\"dataframe\">\n",
       "  <thead>\n",
       "    <tr style=\"text-align: right;\">\n",
       "      <th></th>\n",
       "      <th>name</th>\n",
       "      <th>sex</th>\n",
       "      <th>births</th>\n",
       "      <th>year</th>\n",
       "      <th>prop</th>\n",
       "    </tr>\n",
       "  </thead>\n",
       "  <tbody>\n",
       "    <tr>\n",
       "      <th>0</th>\n",
       "      <td>      Mary</td>\n",
       "      <td> F</td>\n",
       "      <td> 7065</td>\n",
       "      <td> 1880</td>\n",
       "      <td> 0.077643</td>\n",
       "    </tr>\n",
       "    <tr>\n",
       "      <th>1</th>\n",
       "      <td>      Anna</td>\n",
       "      <td> F</td>\n",
       "      <td> 2604</td>\n",
       "      <td> 1880</td>\n",
       "      <td> 0.028618</td>\n",
       "    </tr>\n",
       "    <tr>\n",
       "      <th>2</th>\n",
       "      <td>      Emma</td>\n",
       "      <td> F</td>\n",
       "      <td> 2003</td>\n",
       "      <td> 1880</td>\n",
       "      <td> 0.022013</td>\n",
       "    </tr>\n",
       "    <tr>\n",
       "      <th>3</th>\n",
       "      <td> Elizabeth</td>\n",
       "      <td> F</td>\n",
       "      <td> 1939</td>\n",
       "      <td> 1880</td>\n",
       "      <td> 0.021309</td>\n",
       "    </tr>\n",
       "    <tr>\n",
       "      <th>4</th>\n",
       "      <td>    Minnie</td>\n",
       "      <td> F</td>\n",
       "      <td> 1746</td>\n",
       "      <td> 1880</td>\n",
       "      <td> 0.019188</td>\n",
       "    </tr>\n",
       "  </tbody>\n",
       "</table>\n",
       "</div>"
      ],
      "text/plain": [
       "        name sex  births  year      prop\n",
       "0       Mary   F    7065  1880  0.077643\n",
       "1       Anna   F    2604  1880  0.028618\n",
       "2       Emma   F    2003  1880  0.022013\n",
       "3  Elizabeth   F    1939  1880  0.021309\n",
       "4     Minnie   F    1746  1880  0.019188"
      ]
     },
     "execution_count": 53,
     "metadata": {},
     "output_type": "execute_result"
    }
   ],
   "source": [
    "names[:5]"
   ]
  },
  {
   "cell_type": "code",
   "execution_count": 54,
   "metadata": {
    "collapsed": false
   },
   "outputs": [
    {
     "data": {
      "text/plain": [
       "True"
      ]
     },
     "execution_count": 54,
     "metadata": {},
     "output_type": "execute_result"
    }
   ],
   "source": [
    "np.allclose(names.groupby(['year', 'sex']).prop.sum(), 1)"
   ]
  },
  {
   "cell_type": "code",
   "execution_count": 95,
   "metadata": {
    "collapsed": false
   },
   "outputs": [
    {
     "data": {
      "text/html": [
       "<div style=\"max-height:1000px;max-width:1500px;overflow:auto;\">\n",
       "<table border=\"1\" class=\"dataframe\">\n",
       "  <thead>\n",
       "    <tr style=\"text-align: right;\">\n",
       "      <th></th>\n",
       "      <th></th>\n",
       "      <th></th>\n",
       "      <th>name</th>\n",
       "      <th>sex</th>\n",
       "      <th>births</th>\n",
       "      <th>year</th>\n",
       "      <th>prop</th>\n",
       "    </tr>\n",
       "    <tr>\n",
       "      <th>year</th>\n",
       "      <th>sex</th>\n",
       "      <th></th>\n",
       "      <th></th>\n",
       "      <th></th>\n",
       "      <th></th>\n",
       "      <th></th>\n",
       "      <th></th>\n",
       "    </tr>\n",
       "  </thead>\n",
       "  <tbody>\n",
       "    <tr>\n",
       "      <th rowspan=\"5\" valign=\"top\">1880</th>\n",
       "      <th rowspan=\"5\" valign=\"top\">F</th>\n",
       "      <th>0</th>\n",
       "      <td>      Mary</td>\n",
       "      <td> F</td>\n",
       "      <td> 7065</td>\n",
       "      <td> 1880</td>\n",
       "      <td> 0.077643</td>\n",
       "    </tr>\n",
       "    <tr>\n",
       "      <th>1</th>\n",
       "      <td>      Anna</td>\n",
       "      <td> F</td>\n",
       "      <td> 2604</td>\n",
       "      <td> 1880</td>\n",
       "      <td> 0.028618</td>\n",
       "    </tr>\n",
       "    <tr>\n",
       "      <th>2</th>\n",
       "      <td>      Emma</td>\n",
       "      <td> F</td>\n",
       "      <td> 2003</td>\n",
       "      <td> 1880</td>\n",
       "      <td> 0.022013</td>\n",
       "    </tr>\n",
       "    <tr>\n",
       "      <th>3</th>\n",
       "      <td> Elizabeth</td>\n",
       "      <td> F</td>\n",
       "      <td> 1939</td>\n",
       "      <td> 1880</td>\n",
       "      <td> 0.021309</td>\n",
       "    </tr>\n",
       "    <tr>\n",
       "      <th>4</th>\n",
       "      <td>    Minnie</td>\n",
       "      <td> F</td>\n",
       "      <td> 1746</td>\n",
       "      <td> 1880</td>\n",
       "      <td> 0.019188</td>\n",
       "    </tr>\n",
       "  </tbody>\n",
       "</table>\n",
       "</div>"
      ],
      "text/plain": [
       "                 name sex  births  year      prop\n",
       "year sex                                         \n",
       "1880 F   0       Mary   F    7065  1880  0.077643\n",
       "         1       Anna   F    2604  1880  0.028618\n",
       "         2       Emma   F    2003  1880  0.022013\n",
       "         3  Elizabeth   F    1939  1880  0.021309\n",
       "         4     Minnie   F    1746  1880  0.019188"
      ]
     },
     "execution_count": 95,
     "metadata": {},
     "output_type": "execute_result"
    }
   ],
   "source": [
    "def get_top1000(group):\n",
    "    return group.sort_index(by='births', ascending=False)[:1000]\n",
    "grouped = names.groupby(['year', 'sex'])\n",
    "top1000 = grouped.apply(get_top1000)\n",
    "top1000[:5]"
   ]
  },
  {
   "cell_type": "code",
   "execution_count": 96,
   "metadata": {
    "collapsed": false
   },
   "outputs": [
    {
     "data": {
      "text/html": [
       "<div style=\"max-height:1000px;max-width:1500px;overflow:auto;\">\n",
       "<table border=\"1\" class=\"dataframe\">\n",
       "  <thead>\n",
       "    <tr style=\"text-align: right;\">\n",
       "      <th></th>\n",
       "      <th>name</th>\n",
       "      <th>sex</th>\n",
       "      <th>births</th>\n",
       "      <th>year</th>\n",
       "      <th>prop</th>\n",
       "    </tr>\n",
       "  </thead>\n",
       "  <tbody>\n",
       "    <tr>\n",
       "      <th>0</th>\n",
       "      <td>      Mary</td>\n",
       "      <td> F</td>\n",
       "      <td> 7065</td>\n",
       "      <td> 1880</td>\n",
       "      <td> 0.077643</td>\n",
       "    </tr>\n",
       "    <tr>\n",
       "      <th>1</th>\n",
       "      <td>      Anna</td>\n",
       "      <td> F</td>\n",
       "      <td> 2604</td>\n",
       "      <td> 1880</td>\n",
       "      <td> 0.028618</td>\n",
       "    </tr>\n",
       "    <tr>\n",
       "      <th>2</th>\n",
       "      <td>      Emma</td>\n",
       "      <td> F</td>\n",
       "      <td> 2003</td>\n",
       "      <td> 1880</td>\n",
       "      <td> 0.022013</td>\n",
       "    </tr>\n",
       "    <tr>\n",
       "      <th>3</th>\n",
       "      <td> Elizabeth</td>\n",
       "      <td> F</td>\n",
       "      <td> 1939</td>\n",
       "      <td> 1880</td>\n",
       "      <td> 0.021309</td>\n",
       "    </tr>\n",
       "    <tr>\n",
       "      <th>4</th>\n",
       "      <td>    Minnie</td>\n",
       "      <td> F</td>\n",
       "      <td> 1746</td>\n",
       "      <td> 1880</td>\n",
       "      <td> 0.019188</td>\n",
       "    </tr>\n",
       "  </tbody>\n",
       "</table>\n",
       "</div>"
      ],
      "text/plain": [
       "        name sex  births  year      prop\n",
       "0       Mary   F    7065  1880  0.077643\n",
       "1       Anna   F    2604  1880  0.028618\n",
       "2       Emma   F    2003  1880  0.022013\n",
       "3  Elizabeth   F    1939  1880  0.021309\n",
       "4     Minnie   F    1746  1880  0.019188"
      ]
     },
     "execution_count": 96,
     "metadata": {},
     "output_type": "execute_result"
    }
   ],
   "source": [
    "pieces = []\n",
    "for year, group in names.groupby(['year', 'sex']):\n",
    "    pieces.append(group.sort_index(by='births', ascending=False)[:1000])\n",
    "top1000 = pd.concat(pieces, ignore_index=True)\n",
    "top1000[:5]"
   ]
  },
  {
   "cell_type": "code",
   "execution_count": 97,
   "metadata": {
    "collapsed": false
   },
   "outputs": [
    {
     "data": {
      "text/html": [
       "<div style=\"max-height:1000px;max-width:1500px;overflow:auto;\">\n",
       "<table border=\"1\" class=\"dataframe\">\n",
       "  <thead>\n",
       "    <tr style=\"text-align: right;\">\n",
       "      <th></th>\n",
       "      <th>name</th>\n",
       "      <th>sex</th>\n",
       "      <th>births</th>\n",
       "      <th>year</th>\n",
       "      <th>prop</th>\n",
       "    </tr>\n",
       "  </thead>\n",
       "  <tbody>\n",
       "    <tr>\n",
       "      <th>0</th>\n",
       "      <td>      Mary</td>\n",
       "      <td> F</td>\n",
       "      <td> 7065</td>\n",
       "      <td> 1880</td>\n",
       "      <td> 0.077643</td>\n",
       "    </tr>\n",
       "    <tr>\n",
       "      <th>1</th>\n",
       "      <td>      Anna</td>\n",
       "      <td> F</td>\n",
       "      <td> 2604</td>\n",
       "      <td> 1880</td>\n",
       "      <td> 0.028618</td>\n",
       "    </tr>\n",
       "    <tr>\n",
       "      <th>2</th>\n",
       "      <td>      Emma</td>\n",
       "      <td> F</td>\n",
       "      <td> 2003</td>\n",
       "      <td> 1880</td>\n",
       "      <td> 0.022013</td>\n",
       "    </tr>\n",
       "    <tr>\n",
       "      <th>3</th>\n",
       "      <td> Elizabeth</td>\n",
       "      <td> F</td>\n",
       "      <td> 1939</td>\n",
       "      <td> 1880</td>\n",
       "      <td> 0.021309</td>\n",
       "    </tr>\n",
       "    <tr>\n",
       "      <th>4</th>\n",
       "      <td>    Minnie</td>\n",
       "      <td> F</td>\n",
       "      <td> 1746</td>\n",
       "      <td> 1880</td>\n",
       "      <td> 0.019188</td>\n",
       "    </tr>\n",
       "  </tbody>\n",
       "</table>\n",
       "</div>"
      ],
      "text/plain": [
       "        name sex  births  year      prop\n",
       "0       Mary   F    7065  1880  0.077643\n",
       "1       Anna   F    2604  1880  0.028618\n",
       "2       Emma   F    2003  1880  0.022013\n",
       "3  Elizabeth   F    1939  1880  0.021309\n",
       "4     Minnie   F    1746  1880  0.019188"
      ]
     },
     "execution_count": 97,
     "metadata": {},
     "output_type": "execute_result"
    }
   ],
   "source": [
    "top1000.index = np.arange(len(top1000))\n",
    "top1000[:5]"
   ]
  },
  {
   "cell_type": "markdown",
   "metadata": {},
   "source": [
    "### Analyzing naming trends"
   ]
  },
  {
   "cell_type": "code",
   "execution_count": 98,
   "metadata": {
    "collapsed": false
   },
   "outputs": [],
   "source": [
    "boys = top1000[top1000.sex == 'M']\n",
    "girls = top1000[top1000.sex == 'F']"
   ]
  },
  {
   "cell_type": "code",
   "execution_count": 99,
   "metadata": {
    "collapsed": false
   },
   "outputs": [
    {
     "data": {
      "text/html": [
       "<div style=\"max-height:1000px;max-width:1500px;overflow:auto;\">\n",
       "<table border=\"1\" class=\"dataframe\">\n",
       "  <thead>\n",
       "    <tr style=\"text-align: right;\">\n",
       "      <th>name</th>\n",
       "      <th>Aaden</th>\n",
       "      <th>Aaliyah</th>\n",
       "      <th>Aarav</th>\n",
       "      <th>Aaron</th>\n",
       "      <th>Aarush</th>\n",
       "      <th>Ab</th>\n",
       "      <th>Abagail</th>\n",
       "      <th>Abb</th>\n",
       "      <th>Abbey</th>\n",
       "      <th>Abbie</th>\n",
       "      <th>...</th>\n",
       "      <th>Zoa</th>\n",
       "      <th>Zoe</th>\n",
       "      <th>Zoey</th>\n",
       "      <th>Zoie</th>\n",
       "      <th>Zola</th>\n",
       "      <th>Zollie</th>\n",
       "      <th>Zona</th>\n",
       "      <th>Zora</th>\n",
       "      <th>Zula</th>\n",
       "      <th>Zuri</th>\n",
       "    </tr>\n",
       "    <tr>\n",
       "      <th>year</th>\n",
       "      <th></th>\n",
       "      <th></th>\n",
       "      <th></th>\n",
       "      <th></th>\n",
       "      <th></th>\n",
       "      <th></th>\n",
       "      <th></th>\n",
       "      <th></th>\n",
       "      <th></th>\n",
       "      <th></th>\n",
       "      <th></th>\n",
       "      <th></th>\n",
       "      <th></th>\n",
       "      <th></th>\n",
       "      <th></th>\n",
       "      <th></th>\n",
       "      <th></th>\n",
       "      <th></th>\n",
       "      <th></th>\n",
       "      <th></th>\n",
       "      <th></th>\n",
       "    </tr>\n",
       "  </thead>\n",
       "  <tbody>\n",
       "    <tr>\n",
       "      <th>1880</th>\n",
       "      <td>NaN</td>\n",
       "      <td>NaN</td>\n",
       "      <td>NaN</td>\n",
       "      <td> 102</td>\n",
       "      <td>NaN</td>\n",
       "      <td>NaN</td>\n",
       "      <td>NaN</td>\n",
       "      <td>NaN</td>\n",
       "      <td>NaN</td>\n",
       "      <td> 71</td>\n",
       "      <td>...</td>\n",
       "      <td>  8</td>\n",
       "      <td> 23</td>\n",
       "      <td>NaN</td>\n",
       "      <td>NaN</td>\n",
       "      <td>  7</td>\n",
       "      <td>NaN</td>\n",
       "      <td>  8</td>\n",
       "      <td> 28</td>\n",
       "      <td> 27</td>\n",
       "      <td>NaN</td>\n",
       "    </tr>\n",
       "    <tr>\n",
       "      <th>1881</th>\n",
       "      <td>NaN</td>\n",
       "      <td>NaN</td>\n",
       "      <td>NaN</td>\n",
       "      <td>  94</td>\n",
       "      <td>NaN</td>\n",
       "      <td>NaN</td>\n",
       "      <td>NaN</td>\n",
       "      <td>NaN</td>\n",
       "      <td>NaN</td>\n",
       "      <td> 81</td>\n",
       "      <td>...</td>\n",
       "      <td>NaN</td>\n",
       "      <td> 22</td>\n",
       "      <td>NaN</td>\n",
       "      <td>NaN</td>\n",
       "      <td> 10</td>\n",
       "      <td>NaN</td>\n",
       "      <td>  9</td>\n",
       "      <td> 21</td>\n",
       "      <td> 27</td>\n",
       "      <td>NaN</td>\n",
       "    </tr>\n",
       "    <tr>\n",
       "      <th>1882</th>\n",
       "      <td>NaN</td>\n",
       "      <td>NaN</td>\n",
       "      <td>NaN</td>\n",
       "      <td>  85</td>\n",
       "      <td>NaN</td>\n",
       "      <td>NaN</td>\n",
       "      <td>NaN</td>\n",
       "      <td>NaN</td>\n",
       "      <td>NaN</td>\n",
       "      <td> 80</td>\n",
       "      <td>...</td>\n",
       "      <td>  8</td>\n",
       "      <td> 25</td>\n",
       "      <td>NaN</td>\n",
       "      <td>NaN</td>\n",
       "      <td>  9</td>\n",
       "      <td>NaN</td>\n",
       "      <td> 17</td>\n",
       "      <td> 32</td>\n",
       "      <td> 21</td>\n",
       "      <td>NaN</td>\n",
       "    </tr>\n",
       "    <tr>\n",
       "      <th>1883</th>\n",
       "      <td>NaN</td>\n",
       "      <td>NaN</td>\n",
       "      <td>NaN</td>\n",
       "      <td> 105</td>\n",
       "      <td>NaN</td>\n",
       "      <td>NaN</td>\n",
       "      <td>NaN</td>\n",
       "      <td>NaN</td>\n",
       "      <td>NaN</td>\n",
       "      <td> 79</td>\n",
       "      <td>...</td>\n",
       "      <td>NaN</td>\n",
       "      <td> 23</td>\n",
       "      <td>NaN</td>\n",
       "      <td>NaN</td>\n",
       "      <td> 10</td>\n",
       "      <td>NaN</td>\n",
       "      <td> 11</td>\n",
       "      <td> 35</td>\n",
       "      <td> 25</td>\n",
       "      <td>NaN</td>\n",
       "    </tr>\n",
       "    <tr>\n",
       "      <th>1884</th>\n",
       "      <td>NaN</td>\n",
       "      <td>NaN</td>\n",
       "      <td>NaN</td>\n",
       "      <td>  97</td>\n",
       "      <td>NaN</td>\n",
       "      <td>NaN</td>\n",
       "      <td>NaN</td>\n",
       "      <td>NaN</td>\n",
       "      <td>NaN</td>\n",
       "      <td> 98</td>\n",
       "      <td>...</td>\n",
       "      <td> 13</td>\n",
       "      <td> 31</td>\n",
       "      <td>NaN</td>\n",
       "      <td>NaN</td>\n",
       "      <td> 14</td>\n",
       "      <td>  6</td>\n",
       "      <td>  8</td>\n",
       "      <td> 58</td>\n",
       "      <td> 27</td>\n",
       "      <td>NaN</td>\n",
       "    </tr>\n",
       "  </tbody>\n",
       "</table>\n",
       "<p>5 rows × 6868 columns</p>\n",
       "</div>"
      ],
      "text/plain": [
       "name  Aaden  Aaliyah  Aarav  Aaron  Aarush  Ab  Abagail  Abb  Abbey  Abbie  \\\n",
       "year                                                                         \n",
       "1880    NaN      NaN    NaN    102     NaN NaN      NaN  NaN    NaN     71   \n",
       "1881    NaN      NaN    NaN     94     NaN NaN      NaN  NaN    NaN     81   \n",
       "1882    NaN      NaN    NaN     85     NaN NaN      NaN  NaN    NaN     80   \n",
       "1883    NaN      NaN    NaN    105     NaN NaN      NaN  NaN    NaN     79   \n",
       "1884    NaN      NaN    NaN     97     NaN NaN      NaN  NaN    NaN     98   \n",
       "\n",
       "name  ...   Zoa  Zoe  Zoey  Zoie  Zola  Zollie  Zona  Zora  Zula  Zuri  \n",
       "year  ...                                                               \n",
       "1880  ...     8   23   NaN   NaN     7     NaN     8    28    27   NaN  \n",
       "1881  ...   NaN   22   NaN   NaN    10     NaN     9    21    27   NaN  \n",
       "1882  ...     8   25   NaN   NaN     9     NaN    17    32    21   NaN  \n",
       "1883  ...   NaN   23   NaN   NaN    10     NaN    11    35    25   NaN  \n",
       "1884  ...    13   31   NaN   NaN    14       6     8    58    27   NaN  \n",
       "\n",
       "[5 rows x 6868 columns]"
      ]
     },
     "execution_count": 99,
     "metadata": {},
     "output_type": "execute_result"
    }
   ],
   "source": [
    "total_births = top1000.pivot_table('births', index='year', columns='name',\n",
    "                                   aggfunc=sum)\n",
    "total_births[:5]"
   ]
  },
  {
   "cell_type": "code",
   "execution_count": 100,
   "metadata": {
    "collapsed": false
   },
   "outputs": [
    {
     "data": {
      "text/plain": [
       "array([<matplotlib.axes._subplots.AxesSubplot object at 0x0000000051DE9BA8>,\n",
       "       <matplotlib.axes._subplots.AxesSubplot object at 0x0000000053250EB8>,\n",
       "       <matplotlib.axes._subplots.AxesSubplot object at 0x0000000052BBF2B0>,\n",
       "       <matplotlib.axes._subplots.AxesSubplot object at 0x000000005323F908>], dtype=object)"
      ]
     },
     "execution_count": 100,
     "metadata": {},
     "output_type": "execute_result"
    },
    {
     "data": {
      "image/png": "[encoded data removed]",
      "text/plain": [
       "<matplotlib.figure.Figure at 0x51de99e8>"
      ]
     },
     "metadata": {},
     "output_type": "display_data"
    }
   ],
   "source": [
    "plt.figure()\n",
    "subset = total_births[['John', 'Harry', 'Mary', 'Marilyn']]\n",
    "subset.plot(subplots=True, figsize=(12, 10), grid=False,\n",
    "            title=\"Number of births per year\")"
   ]
  },
  {
   "cell_type": "markdown",
   "metadata": {},
   "source": [
    "#### Measuring the increase in naming diversity"
   ]
  },
  {
   "cell_type": "code",
   "execution_count": 102,
   "metadata": {
    "collapsed": false
   },
   "outputs": [
    {
     "data": {
      "text/plain": [
       "<matplotlib.axes._subplots.AxesSubplot at 0x5323fb70>"
      ]
     },
     "execution_count": 102,
     "metadata": {},
     "output_type": "execute_result"
    },
    {
     "data": {
      "text/plain": [
       "<matplotlib.figure.Figure at 0x5323cc18>"
      ]
     },
     "metadata": {},
     "output_type": "display_data"
    },
    {
     "data": {
      "image/png": "[encoded data removed]",
      "text/plain": [
       "<matplotlib.figure.Figure at 0x53349550>"
      ]
     },
     "metadata": {},
     "output_type": "display_data"
    }
   ],
   "source": [
    "table = top1000.pivot_table('prop', index='year',\n",
    "                            columns='sex', aggfunc=sum)\n",
    "\n",
    "plt.figure()\n",
    "table.plot(title='Sum of table1000.prop by year and sex',\n",
    "           yticks=np.linspace(0, 1.2, 13), xticks=range(1880, 2020, 10))"
   ]
  },
  {
   "cell_type": "code",
   "execution_count": 105,
   "metadata": {
    "collapsed": false
   },
   "outputs": [
    {
     "data": {
      "text/html": [
       "<div style=\"max-height:1000px;max-width:1500px;overflow:auto;\">\n",
       "<table border=\"1\" class=\"dataframe\">\n",
       "  <thead>\n",
       "    <tr style=\"text-align: right;\">\n",
       "      <th></th>\n",
       "      <th>name</th>\n",
       "      <th>sex</th>\n",
       "      <th>births</th>\n",
       "      <th>year</th>\n",
       "      <th>prop</th>\n",
       "    </tr>\n",
       "  </thead>\n",
       "  <tbody>\n",
       "    <tr>\n",
       "      <th>260877</th>\n",
       "      <td>   Jacob</td>\n",
       "      <td> M</td>\n",
       "      <td> 21875</td>\n",
       "      <td> 2010</td>\n",
       "      <td> 0.011523</td>\n",
       "    </tr>\n",
       "    <tr>\n",
       "      <th>260878</th>\n",
       "      <td>   Ethan</td>\n",
       "      <td> M</td>\n",
       "      <td> 17866</td>\n",
       "      <td> 2010</td>\n",
       "      <td> 0.009411</td>\n",
       "    </tr>\n",
       "    <tr>\n",
       "      <th>260879</th>\n",
       "      <td> Michael</td>\n",
       "      <td> M</td>\n",
       "      <td> 17133</td>\n",
       "      <td> 2010</td>\n",
       "      <td> 0.009025</td>\n",
       "    </tr>\n",
       "    <tr>\n",
       "      <th>260880</th>\n",
       "      <td>  Jayden</td>\n",
       "      <td> M</td>\n",
       "      <td> 17030</td>\n",
       "      <td> 2010</td>\n",
       "      <td> 0.008971</td>\n",
       "    </tr>\n",
       "    <tr>\n",
       "      <th>260881</th>\n",
       "      <td> William</td>\n",
       "      <td> M</td>\n",
       "      <td> 16870</td>\n",
       "      <td> 2010</td>\n",
       "      <td> 0.008887</td>\n",
       "    </tr>\n",
       "  </tbody>\n",
       "</table>\n",
       "</div>"
      ],
      "text/plain": [
       "           name sex  births  year      prop\n",
       "260877    Jacob   M   21875  2010  0.011523\n",
       "260878    Ethan   M   17866  2010  0.009411\n",
       "260879  Michael   M   17133  2010  0.009025\n",
       "260880   Jayden   M   17030  2010  0.008971\n",
       "260881  William   M   16870  2010  0.008887"
      ]
     },
     "execution_count": 105,
     "metadata": {},
     "output_type": "execute_result"
    }
   ],
   "source": [
    "df = boys[boys.year == 2010]\n",
    "df[:5]"
   ]
  },
  {
   "cell_type": "code",
   "execution_count": 107,
   "metadata": {
    "collapsed": false
   },
   "outputs": [
    {
     "data": {
      "text/plain": [
       "260877    0.011523\n",
       "260878    0.020934\n",
       "260879    0.029959\n",
       "260880    0.038930\n",
       "260881    0.047817\n",
       "260882    0.056579\n",
       "260883    0.065155\n",
       "260884    0.073414\n",
       "260885    0.081528\n",
       "260886    0.089621\n",
       "Name: prop, dtype: float64"
      ]
     },
     "execution_count": 107,
     "metadata": {},
     "output_type": "execute_result"
    }
   ],
   "source": [
    "prop_cumsum = df.sort_index(by='prop', ascending=False).prop.cumsum()\n",
    "prop_cumsum[:10]"
   ]
  },
  {
   "cell_type": "code",
   "execution_count": 109,
   "metadata": {
    "collapsed": false
   },
   "outputs": [
    {
     "data": {
      "text/plain": [
       "116"
      ]
     },
     "execution_count": 109,
     "metadata": {},
     "output_type": "execute_result"
    }
   ],
   "source": [
    "prop_cumsum.values.searchsorted(0.5)+1 # Number of names in the top 50% of popularity"
   ]
  },
  {
   "cell_type": "code",
   "execution_count": 110,
   "metadata": {
    "collapsed": false
   },
   "outputs": [
    {
     "data": {
      "text/plain": [
       "25"
      ]
     },
     "execution_count": 110,
     "metadata": {},
     "output_type": "execute_result"
    }
   ],
   "source": [
    "df = boys[boys.year == 1900]\n",
    "in1900 = df.sort_index(by='prop', ascending=False).prop.cumsum()\n",
    "in1900.values.searchsorted(0.5) + 1"
   ]
  },
  {
   "cell_type": "code",
   "execution_count": 123,
   "metadata": {
    "collapsed": false
   },
   "outputs": [
    {
     "data": {
      "text/html": [
       "<div style=\"max-height:1000px;max-width:1500px;overflow:auto;\">\n",
       "<table border=\"1\" class=\"dataframe\">\n",
       "  <thead>\n",
       "    <tr style=\"text-align: right;\">\n",
       "      <th>sex</th>\n",
       "      <th>F</th>\n",
       "      <th>M</th>\n",
       "    </tr>\n",
       "    <tr>\n",
       "      <th>year</th>\n",
       "      <th></th>\n",
       "      <th></th>\n",
       "    </tr>\n",
       "  </thead>\n",
       "  <tbody>\n",
       "    <tr>\n",
       "      <th>1880</th>\n",
       "      <td> 38</td>\n",
       "      <td> 14</td>\n",
       "    </tr>\n",
       "    <tr>\n",
       "      <th>1881</th>\n",
       "      <td> 38</td>\n",
       "      <td> 14</td>\n",
       "    </tr>\n",
       "    <tr>\n",
       "      <th>1882</th>\n",
       "      <td> 38</td>\n",
       "      <td> 15</td>\n",
       "    </tr>\n",
       "    <tr>\n",
       "      <th>1883</th>\n",
       "      <td> 39</td>\n",
       "      <td> 15</td>\n",
       "    </tr>\n",
       "    <tr>\n",
       "      <th>1884</th>\n",
       "      <td> 39</td>\n",
       "      <td> 16</td>\n",
       "    </tr>\n",
       "  </tbody>\n",
       "</table>\n",
       "</div>"
      ],
      "text/plain": [
       "sex    F   M\n",
       "year        \n",
       "1880  38  14\n",
       "1881  38  14\n",
       "1882  38  15\n",
       "1883  39  15\n",
       "1884  39  16"
      ]
     },
     "execution_count": 123,
     "metadata": {},
     "output_type": "execute_result"
    }
   ],
   "source": [
    "def get_quantile_count(group, q=0.5):\n",
    "    group = group.sort_index(by='prop', ascending=False)\n",
    "    return group.prop.cumsum().values.searchsorted(q) + 1\n",
    "diversity = top1000.groupby(['year', 'sex']).apply(get_quantile_count)\n",
    "diversity = diversity.unstack('sex')\n",
    "diversity.head()"
   ]
  },
  {
   "cell_type": "code",
   "execution_count": 124,
   "metadata": {
    "collapsed": false
   },
   "outputs": [
    {
     "data": {
      "text/plain": [
       "<matplotlib.axes._subplots.AxesSubplot at 0x53214e80>"
      ]
     },
     "execution_count": 124,
     "metadata": {},
     "output_type": "execute_result"
    },
    {
     "data": {
      "image/png": "[encoded data removed]",
      "text/plain": [
       "<matplotlib.figure.Figure at 0x5723e160>"
      ]
     },
     "metadata": {},
     "output_type": "display_data"
    }
   ],
   "source": [
    "diversity.plot(title=\"Number of popular names in top 50%\")"
   ]
  },
  {
   "cell_type": "markdown",
   "metadata": {},
   "source": [
    "#### The \"Last letter\" Revolution"
   ]
  },
  {
   "cell_type": "code",
   "execution_count": 129,
   "metadata": {
    "collapsed": false
   },
   "outputs": [
    {
     "data": {
      "text/html": [
       "<div style=\"max-height:1000px;max-width:1500px;overflow:auto;\">\n",
       "<table border=\"1\" class=\"dataframe\">\n",
       "  <thead>\n",
       "    <tr>\n",
       "      <th>sex</th>\n",
       "      <th colspan=\"10\" halign=\"left\">F</th>\n",
       "      <th>...</th>\n",
       "      <th colspan=\"10\" halign=\"left\">M</th>\n",
       "    </tr>\n",
       "    <tr>\n",
       "      <th>year</th>\n",
       "      <th>1880</th>\n",
       "      <th>1881</th>\n",
       "      <th>1882</th>\n",
       "      <th>1883</th>\n",
       "      <th>1884</th>\n",
       "      <th>1885</th>\n",
       "      <th>1886</th>\n",
       "      <th>1887</th>\n",
       "      <th>1888</th>\n",
       "      <th>1889</th>\n",
       "      <th>...</th>\n",
       "      <th>2001</th>\n",
       "      <th>2002</th>\n",
       "      <th>2003</th>\n",
       "      <th>2004</th>\n",
       "      <th>2005</th>\n",
       "      <th>2006</th>\n",
       "      <th>2007</th>\n",
       "      <th>2008</th>\n",
       "      <th>2009</th>\n",
       "      <th>2010</th>\n",
       "    </tr>\n",
       "    <tr>\n",
       "      <th>last_letter</th>\n",
       "      <th></th>\n",
       "      <th></th>\n",
       "      <th></th>\n",
       "      <th></th>\n",
       "      <th></th>\n",
       "      <th></th>\n",
       "      <th></th>\n",
       "      <th></th>\n",
       "      <th></th>\n",
       "      <th></th>\n",
       "      <th></th>\n",
       "      <th></th>\n",
       "      <th></th>\n",
       "      <th></th>\n",
       "      <th></th>\n",
       "      <th></th>\n",
       "      <th></th>\n",
       "      <th></th>\n",
       "      <th></th>\n",
       "      <th></th>\n",
       "      <th></th>\n",
       "    </tr>\n",
       "  </thead>\n",
       "  <tbody>\n",
       "    <tr>\n",
       "      <th>a</th>\n",
       "      <td> 31446</td>\n",
       "      <td> 31581</td>\n",
       "      <td> 36536</td>\n",
       "      <td> 38330</td>\n",
       "      <td> 43680</td>\n",
       "      <td> 45408</td>\n",
       "      <td> 49100</td>\n",
       "      <td> 48942</td>\n",
       "      <td> 59442</td>\n",
       "      <td> 58631</td>\n",
       "      <td>...</td>\n",
       "      <td>  39124</td>\n",
       "      <td>  38815</td>\n",
       "      <td>  37825</td>\n",
       "      <td>  38650</td>\n",
       "      <td>  36838</td>\n",
       "      <td>  36156</td>\n",
       "      <td>  34654</td>\n",
       "      <td>  32901</td>\n",
       "      <td>  31430</td>\n",
       "      <td>  28438</td>\n",
       "    </tr>\n",
       "    <tr>\n",
       "      <th>b</th>\n",
       "      <td>   NaN</td>\n",
       "      <td>   NaN</td>\n",
       "      <td>   NaN</td>\n",
       "      <td>   NaN</td>\n",
       "      <td>   NaN</td>\n",
       "      <td>   NaN</td>\n",
       "      <td>   NaN</td>\n",
       "      <td>   NaN</td>\n",
       "      <td>   NaN</td>\n",
       "      <td>   NaN</td>\n",
       "      <td>...</td>\n",
       "      <td>  50950</td>\n",
       "      <td>  49284</td>\n",
       "      <td>  48065</td>\n",
       "      <td>  45914</td>\n",
       "      <td>  43144</td>\n",
       "      <td>  42600</td>\n",
       "      <td>  42123</td>\n",
       "      <td>  39945</td>\n",
       "      <td>  38862</td>\n",
       "      <td>  38859</td>\n",
       "    </tr>\n",
       "    <tr>\n",
       "      <th>c</th>\n",
       "      <td>   NaN</td>\n",
       "      <td>   NaN</td>\n",
       "      <td>     5</td>\n",
       "      <td>     5</td>\n",
       "      <td>   NaN</td>\n",
       "      <td>   NaN</td>\n",
       "      <td>   NaN</td>\n",
       "      <td>   NaN</td>\n",
       "      <td>   NaN</td>\n",
       "      <td>   NaN</td>\n",
       "      <td>...</td>\n",
       "      <td>  27113</td>\n",
       "      <td>  27238</td>\n",
       "      <td>  27697</td>\n",
       "      <td>  26778</td>\n",
       "      <td>  26078</td>\n",
       "      <td>  26635</td>\n",
       "      <td>  26864</td>\n",
       "      <td>  25318</td>\n",
       "      <td>  24048</td>\n",
       "      <td>  23125</td>\n",
       "    </tr>\n",
       "    <tr>\n",
       "      <th>d</th>\n",
       "      <td>   609</td>\n",
       "      <td>   607</td>\n",
       "      <td>   734</td>\n",
       "      <td>   810</td>\n",
       "      <td>   916</td>\n",
       "      <td>   862</td>\n",
       "      <td>  1007</td>\n",
       "      <td>  1027</td>\n",
       "      <td>  1298</td>\n",
       "      <td>  1374</td>\n",
       "      <td>...</td>\n",
       "      <td>  60838</td>\n",
       "      <td>  55829</td>\n",
       "      <td>  53391</td>\n",
       "      <td>  51754</td>\n",
       "      <td>  50670</td>\n",
       "      <td>  51410</td>\n",
       "      <td>  50595</td>\n",
       "      <td>  47910</td>\n",
       "      <td>  46172</td>\n",
       "      <td>  44398</td>\n",
       "    </tr>\n",
       "    <tr>\n",
       "      <th>e</th>\n",
       "      <td> 33378</td>\n",
       "      <td> 34080</td>\n",
       "      <td> 40399</td>\n",
       "      <td> 41914</td>\n",
       "      <td> 48089</td>\n",
       "      <td> 49616</td>\n",
       "      <td> 53884</td>\n",
       "      <td> 54353</td>\n",
       "      <td> 66750</td>\n",
       "      <td> 66663</td>\n",
       "      <td>...</td>\n",
       "      <td> 145395</td>\n",
       "      <td> 144651</td>\n",
       "      <td> 144769</td>\n",
       "      <td> 142098</td>\n",
       "      <td> 141123</td>\n",
       "      <td> 142999</td>\n",
       "      <td> 143698</td>\n",
       "      <td> 140966</td>\n",
       "      <td> 135496</td>\n",
       "      <td> 129012</td>\n",
       "    </tr>\n",
       "  </tbody>\n",
       "</table>\n",
       "<p>5 rows × 262 columns</p>\n",
       "</div>"
      ],
      "text/plain": [
       "sex              F                                                          \\\n",
       "year          1880   1881   1882   1883   1884   1885   1886   1887   1888   \n",
       "last_letter                                                                  \n",
       "a            31446  31581  36536  38330  43680  45408  49100  48942  59442   \n",
       "b              NaN    NaN    NaN    NaN    NaN    NaN    NaN    NaN    NaN   \n",
       "c              NaN    NaN      5      5    NaN    NaN    NaN    NaN    NaN   \n",
       "d              609    607    734    810    916    862   1007   1027   1298   \n",
       "e            33378  34080  40399  41914  48089  49616  53884  54353  66750   \n",
       "\n",
       "sex                  ...         M                                          \\\n",
       "year          1889   ...      2001    2002    2003    2004    2005    2006   \n",
       "last_letter          ...                                                     \n",
       "a            58631   ...     39124   38815   37825   38650   36838   36156   \n",
       "b              NaN   ...     50950   49284   48065   45914   43144   42600   \n",
       "c              NaN   ...     27113   27238   27697   26778   26078   26635   \n",
       "d             1374   ...     60838   55829   53391   51754   50670   51410   \n",
       "e            66663   ...    145395  144651  144769  142098  141123  142999   \n",
       "\n",
       "sex                                          \n",
       "year           2007    2008    2009    2010  \n",
       "last_letter                                  \n",
       "a             34654   32901   31430   28438  \n",
       "b             42123   39945   38862   38859  \n",
       "c             26864   25318   24048   23125  \n",
       "d             50595   47910   46172   44398  \n",
       "e            143698  140966  135496  129012  \n",
       "\n",
       "[5 rows x 262 columns]"
      ]
     },
     "execution_count": 129,
     "metadata": {},
     "output_type": "execute_result"
    }
   ],
   "source": [
    "# extract last letter from name column\n",
    "get_last_letter = lambda x: x[-1]\n",
    "last_letters = names.name.map(get_last_letter)\n",
    "last_letters.name = 'last_letter'\n",
    "\n",
    "table = names.pivot_table('births', index=last_letters,\n",
    "                          columns=['sex', 'year'], aggfunc=sum)\n",
    "table[:5]"
   ]
  },
  {
   "cell_type": "code",
   "execution_count": 130,
   "metadata": {
    "collapsed": false
   },
   "outputs": [
    {
     "data": {
      "text/html": [
       "<div style=\"max-height:1000px;max-width:1500px;overflow:auto;\">\n",
       "<table border=\"1\" class=\"dataframe\">\n",
       "  <thead>\n",
       "    <tr>\n",
       "      <th>sex</th>\n",
       "      <th colspan=\"3\" halign=\"left\">F</th>\n",
       "      <th colspan=\"3\" halign=\"left\">M</th>\n",
       "    </tr>\n",
       "    <tr>\n",
       "      <th>year</th>\n",
       "      <th>1910</th>\n",
       "      <th>1960</th>\n",
       "      <th>2010</th>\n",
       "      <th>1910</th>\n",
       "      <th>1960</th>\n",
       "      <th>2010</th>\n",
       "    </tr>\n",
       "    <tr>\n",
       "      <th>last_letter</th>\n",
       "      <th></th>\n",
       "      <th></th>\n",
       "      <th></th>\n",
       "      <th></th>\n",
       "      <th></th>\n",
       "      <th></th>\n",
       "    </tr>\n",
       "  </thead>\n",
       "  <tbody>\n",
       "    <tr>\n",
       "      <th>a</th>\n",
       "      <td> 108376</td>\n",
       "      <td> 691247</td>\n",
       "      <td> 670605</td>\n",
       "      <td>   977</td>\n",
       "      <td>   5204</td>\n",
       "      <td>  28438</td>\n",
       "    </tr>\n",
       "    <tr>\n",
       "      <th>b</th>\n",
       "      <td>    NaN</td>\n",
       "      <td>    694</td>\n",
       "      <td>    450</td>\n",
       "      <td>   411</td>\n",
       "      <td>   3912</td>\n",
       "      <td>  38859</td>\n",
       "    </tr>\n",
       "    <tr>\n",
       "      <th>c</th>\n",
       "      <td>      5</td>\n",
       "      <td>     49</td>\n",
       "      <td>    946</td>\n",
       "      <td>   482</td>\n",
       "      <td>  15476</td>\n",
       "      <td>  23125</td>\n",
       "    </tr>\n",
       "    <tr>\n",
       "      <th>d</th>\n",
       "      <td>   6750</td>\n",
       "      <td>   3729</td>\n",
       "      <td>   2607</td>\n",
       "      <td> 22111</td>\n",
       "      <td> 262112</td>\n",
       "      <td>  44398</td>\n",
       "    </tr>\n",
       "    <tr>\n",
       "      <th>e</th>\n",
       "      <td> 133569</td>\n",
       "      <td> 435013</td>\n",
       "      <td> 313833</td>\n",
       "      <td> 28655</td>\n",
       "      <td> 178823</td>\n",
       "      <td> 129012</td>\n",
       "    </tr>\n",
       "  </tbody>\n",
       "</table>\n",
       "</div>"
      ],
      "text/plain": [
       "sex               F                      M                \n",
       "year           1910    1960    2010   1910    1960    2010\n",
       "last_letter                                               \n",
       "a            108376  691247  670605    977    5204   28438\n",
       "b               NaN     694     450    411    3912   38859\n",
       "c                 5      49     946    482   15476   23125\n",
       "d              6750    3729    2607  22111  262112   44398\n",
       "e            133569  435013  313833  28655  178823  129012"
      ]
     },
     "execution_count": 130,
     "metadata": {},
     "output_type": "execute_result"
    }
   ],
   "source": [
    "subtable = table.reindex(columns=[1910, 1960, 2010], level='year')\n",
    "subtable.head()"
   ]
  },
  {
   "cell_type": "code",
   "execution_count": 131,
   "metadata": {
    "collapsed": false
   },
   "outputs": [
    {
     "data": {
      "text/plain": [
       "sex  year\n",
       "F    1910     396416\n",
       "     1960    2022062\n",
       "     2010    1759010\n",
       "M    1910     194198\n",
       "     1960    2132588\n",
       "     2010    1898382\n",
       "dtype: float64"
      ]
     },
     "execution_count": 131,
     "metadata": {},
     "output_type": "execute_result"
    }
   ],
   "source": [
    "subtable.sum()"
   ]
  },
  {
   "cell_type": "code",
   "execution_count": 134,
   "metadata": {
    "collapsed": false
   },
   "outputs": [
    {
     "data": {
      "text/html": [
       "<div style=\"max-height:1000px;max-width:1500px;overflow:auto;\">\n",
       "<table border=\"1\" class=\"dataframe\">\n",
       "  <thead>\n",
       "    <tr>\n",
       "      <th>sex</th>\n",
       "      <th colspan=\"3\" halign=\"left\">F</th>\n",
       "      <th colspan=\"3\" halign=\"left\">M</th>\n",
       "    </tr>\n",
       "    <tr>\n",
       "      <th>year</th>\n",
       "      <th>1910</th>\n",
       "      <th>1960</th>\n",
       "      <th>2010</th>\n",
       "      <th>1910</th>\n",
       "      <th>1960</th>\n",
       "      <th>2010</th>\n",
       "    </tr>\n",
       "    <tr>\n",
       "      <th>last_letter</th>\n",
       "      <th></th>\n",
       "      <th></th>\n",
       "      <th></th>\n",
       "      <th></th>\n",
       "      <th></th>\n",
       "      <th></th>\n",
       "    </tr>\n",
       "  </thead>\n",
       "  <tbody>\n",
       "    <tr>\n",
       "      <th>a</th>\n",
       "      <td> 0.273390</td>\n",
       "      <td> 0.341853</td>\n",
       "      <td> 0.381240</td>\n",
       "      <td> 0.005031</td>\n",
       "      <td> 0.002440</td>\n",
       "      <td> 0.014980</td>\n",
       "    </tr>\n",
       "    <tr>\n",
       "      <th>b</th>\n",
       "      <td>      NaN</td>\n",
       "      <td> 0.000343</td>\n",
       "      <td> 0.000256</td>\n",
       "      <td> 0.002116</td>\n",
       "      <td> 0.001834</td>\n",
       "      <td> 0.020470</td>\n",
       "    </tr>\n",
       "    <tr>\n",
       "      <th>c</th>\n",
       "      <td> 0.000013</td>\n",
       "      <td> 0.000024</td>\n",
       "      <td> 0.000538</td>\n",
       "      <td> 0.002482</td>\n",
       "      <td> 0.007257</td>\n",
       "      <td> 0.012181</td>\n",
       "    </tr>\n",
       "    <tr>\n",
       "      <th>d</th>\n",
       "      <td> 0.017028</td>\n",
       "      <td> 0.001844</td>\n",
       "      <td> 0.001482</td>\n",
       "      <td> 0.113858</td>\n",
       "      <td> 0.122908</td>\n",
       "      <td> 0.023387</td>\n",
       "    </tr>\n",
       "    <tr>\n",
       "      <th>e</th>\n",
       "      <td> 0.336941</td>\n",
       "      <td> 0.215133</td>\n",
       "      <td> 0.178415</td>\n",
       "      <td> 0.147556</td>\n",
       "      <td> 0.083853</td>\n",
       "      <td> 0.067959</td>\n",
       "    </tr>\n",
       "  </tbody>\n",
       "</table>\n",
       "</div>"
      ],
      "text/plain": [
       "sex                 F                             M                    \n",
       "year             1910      1960      2010      1910      1960      2010\n",
       "last_letter                                                            \n",
       "a            0.273390  0.341853  0.381240  0.005031  0.002440  0.014980\n",
       "b                 NaN  0.000343  0.000256  0.002116  0.001834  0.020470\n",
       "c            0.000013  0.000024  0.000538  0.002482  0.007257  0.012181\n",
       "d            0.017028  0.001844  0.001482  0.113858  0.122908  0.023387\n",
       "e            0.336941  0.215133  0.178415  0.147556  0.083853  0.067959"
      ]
     },
     "execution_count": 134,
     "metadata": {},
     "output_type": "execute_result"
    }
   ],
   "source": [
    "letter_prop = subtable / subtable.sum().astype(float)\n",
    "letter_prop[:5]"
   ]
  },
  {
   "cell_type": "code",
   "execution_count": 136,
   "metadata": {
    "collapsed": false
   },
   "outputs": [
    {
     "data": {
      "text/plain": [
       "<matplotlib.axes._subplots.AxesSubplot at 0x6473be0>"
      ]
     },
     "execution_count": 136,
     "metadata": {},
     "output_type": "execute_result"
    },
    {
     "data": {
      "image/png": "[encoded data removed]",
      "text/plain": [
       "<matplotlib.figure.Figure at 0x68c905f8>"
      ]
     },
     "metadata": {},
     "output_type": "display_data"
    }
   ],
   "source": [
    "% matplotlib inline\n",
    "import matplotlib.pyplot as plt\n",
    "\n",
    "fig, axes = plt.subplots(2, 1, figsize=(10, 8))\n",
    "plt.subplots_adjust(hspace=0.25)\n",
    "letter_prop['M'].plot(kind='bar', rot=0, ax=axes[0], title='Male')\n",
    "letter_prop['F'].plot(kind='bar', rot=0, ax=axes[1], title='Female',\n",
    "                      legend=False)"
   ]
  },
  {
   "cell_type": "code",
   "execution_count": 137,
   "metadata": {
    "collapsed": false
   },
   "outputs": [
    {
     "data": {
      "text/html": [
       "<div style=\"max-height:1000px;max-width:1500px;overflow:auto;\">\n",
       "<table border=\"1\" class=\"dataframe\">\n",
       "  <thead>\n",
       "    <tr style=\"text-align: right;\">\n",
       "      <th>last_letter</th>\n",
       "      <th>d</th>\n",
       "      <th>n</th>\n",
       "      <th>y</th>\n",
       "    </tr>\n",
       "    <tr>\n",
       "      <th>year</th>\n",
       "      <th></th>\n",
       "      <th></th>\n",
       "      <th></th>\n",
       "    </tr>\n",
       "  </thead>\n",
       "  <tbody>\n",
       "    <tr>\n",
       "      <th>1880</th>\n",
       "      <td> 0.083055</td>\n",
       "      <td> 0.153213</td>\n",
       "      <td> 0.075760</td>\n",
       "    </tr>\n",
       "    <tr>\n",
       "      <th>1881</th>\n",
       "      <td> 0.083247</td>\n",
       "      <td> 0.153214</td>\n",
       "      <td> 0.077451</td>\n",
       "    </tr>\n",
       "    <tr>\n",
       "      <th>1882</th>\n",
       "      <td> 0.085340</td>\n",
       "      <td> 0.149560</td>\n",
       "      <td> 0.077537</td>\n",
       "    </tr>\n",
       "    <tr>\n",
       "      <th>1883</th>\n",
       "      <td> 0.084066</td>\n",
       "      <td> 0.151646</td>\n",
       "      <td> 0.079144</td>\n",
       "    </tr>\n",
       "    <tr>\n",
       "      <th>1884</th>\n",
       "      <td> 0.086120</td>\n",
       "      <td> 0.149915</td>\n",
       "      <td> 0.080405</td>\n",
       "    </tr>\n",
       "  </tbody>\n",
       "</table>\n",
       "</div>"
      ],
      "text/plain": [
       "last_letter         d         n         y\n",
       "year                                     \n",
       "1880         0.083055  0.153213  0.075760\n",
       "1881         0.083247  0.153214  0.077451\n",
       "1882         0.085340  0.149560  0.077537\n",
       "1883         0.084066  0.151646  0.079144\n",
       "1884         0.086120  0.149915  0.080405"
      ]
     },
     "execution_count": 137,
     "metadata": {},
     "output_type": "execute_result"
    }
   ],
   "source": [
    "letter_prop = table / table.sum().astype(float)\n",
    "\n",
    "dny_ts = letter_prop.ix[['d', 'n', 'y'], 'M'].T\n",
    "dny_ts.head()"
   ]
  },
  {
   "cell_type": "code",
   "execution_count": 138,
   "metadata": {
    "collapsed": false
   },
   "outputs": [],
   "source": [
    "plt.close('all')"
   ]
  },
  {
   "cell_type": "code",
   "execution_count": 139,
   "metadata": {
    "collapsed": false
   },
   "outputs": [
    {
     "data": {
      "text/plain": [
       "<matplotlib.axes._subplots.AxesSubplot at 0x68c71c88>"
      ]
     },
     "execution_count": 139,
     "metadata": {},
     "output_type": "execute_result"
    },
    {
     "data": {
      "image/png": "[encoded data removed]",
      "text/plain": [
       "<matplotlib.figure.Figure at 0x53214ac8>"
      ]
     },
     "metadata": {},
     "output_type": "display_data"
    }
   ],
   "source": [
    "dny_ts.plot()"
   ]
  },
  {
   "cell_type": "markdown",
   "metadata": {},
   "source": [
    "#### Boy names that became girl names (and vice versa)"
   ]
  },
  {
   "cell_type": "code",
   "execution_count": 140,
   "metadata": {
    "collapsed": false
   },
   "outputs": [
    {
     "data": {
      "text/plain": [
       "array(['Leslie', 'Lesley', 'Leslee', 'Lesli', 'Lesly'], dtype=object)"
      ]
     },
     "execution_count": 140,
     "metadata": {},
     "output_type": "execute_result"
    }
   ],
   "source": [
    "all_names = top1000.name.unique()\n",
    "mask = np.array(['lesl' in x.lower() for x in all_names])\n",
    "lesley_like = all_names[mask]\n",
    "lesley_like"
   ]
  },
  {
   "cell_type": "code",
   "execution_count": 148,
   "metadata": {
    "collapsed": false
   },
   "outputs": [
    {
     "data": {
      "text/html": [
       "<div style=\"max-height:1000px;max-width:1500px;overflow:auto;\">\n",
       "<table border=\"1\" class=\"dataframe\">\n",
       "  <thead>\n",
       "    <tr style=\"text-align: right;\">\n",
       "      <th></th>\n",
       "      <th>name</th>\n",
       "      <th>sex</th>\n",
       "      <th>births</th>\n",
       "      <th>year</th>\n",
       "      <th>prop</th>\n",
       "    </tr>\n",
       "  </thead>\n",
       "  <tbody>\n",
       "    <tr>\n",
       "      <th>632 </th>\n",
       "      <td> Leslie</td>\n",
       "      <td> F</td>\n",
       "      <td>  8</td>\n",
       "      <td> 1880</td>\n",
       "      <td> 0.000088</td>\n",
       "    </tr>\n",
       "    <tr>\n",
       "      <th>1108</th>\n",
       "      <td> Leslie</td>\n",
       "      <td> M</td>\n",
       "      <td> 79</td>\n",
       "      <td> 1880</td>\n",
       "      <td> 0.000715</td>\n",
       "    </tr>\n",
       "    <tr>\n",
       "      <th>2462</th>\n",
       "      <td> Leslie</td>\n",
       "      <td> F</td>\n",
       "      <td> 11</td>\n",
       "      <td> 1881</td>\n",
       "      <td> 0.000120</td>\n",
       "    </tr>\n",
       "    <tr>\n",
       "      <th>3014</th>\n",
       "      <td> Leslie</td>\n",
       "      <td> M</td>\n",
       "      <td> 92</td>\n",
       "      <td> 1881</td>\n",
       "      <td> 0.000913</td>\n",
       "    </tr>\n",
       "    <tr>\n",
       "      <th>4512</th>\n",
       "      <td> Leslie</td>\n",
       "      <td> F</td>\n",
       "      <td>  9</td>\n",
       "      <td> 1882</td>\n",
       "      <td> 0.000083</td>\n",
       "    </tr>\n",
       "  </tbody>\n",
       "</table>\n",
       "</div>"
      ],
      "text/plain": [
       "        name sex  births  year      prop\n",
       "632   Leslie   F       8  1880  0.000088\n",
       "1108  Leslie   M      79  1880  0.000715\n",
       "2462  Leslie   F      11  1881  0.000120\n",
       "3014  Leslie   M      92  1881  0.000913\n",
       "4512  Leslie   F       9  1882  0.000083"
      ]
     },
     "execution_count": 148,
     "metadata": {},
     "output_type": "execute_result"
    }
   ],
   "source": [
    "filtered = top1000[top1000.name.isin(lesley_like)]\n",
    "filtered[:5]"
   ]
  },
  {
   "cell_type": "code",
   "execution_count": 147,
   "metadata": {
    "collapsed": false
   },
   "outputs": [
    {
     "data": {
      "text/plain": [
       "name\n",
       "Leslee      1082\n",
       "Lesley     35022\n",
       "Lesli        929\n",
       "Leslie    370429\n",
       "Lesly      10067\n",
       "Name: births, dtype: int64"
      ]
     },
     "execution_count": 147,
     "metadata": {},
     "output_type": "execute_result"
    }
   ],
   "source": [
    "filtered.groupby('name').births.sum()"
   ]
  },
  {
   "cell_type": "code",
   "execution_count": 143,
   "metadata": {
    "collapsed": false
   },
   "outputs": [
    {
     "data": {
      "text/html": [
       "<div style=\"max-height:1000px;max-width:1500px;overflow:auto;\">\n",
       "<table border=\"1\" class=\"dataframe\">\n",
       "  <thead>\n",
       "    <tr style=\"text-align: right;\">\n",
       "      <th>sex</th>\n",
       "      <th>F</th>\n",
       "      <th>M</th>\n",
       "    </tr>\n",
       "    <tr>\n",
       "      <th>year</th>\n",
       "      <th></th>\n",
       "      <th></th>\n",
       "    </tr>\n",
       "  </thead>\n",
       "  <tbody>\n",
       "    <tr>\n",
       "      <th>2006</th>\n",
       "      <td> 1</td>\n",
       "      <td>NaN</td>\n",
       "    </tr>\n",
       "    <tr>\n",
       "      <th>2007</th>\n",
       "      <td> 1</td>\n",
       "      <td>NaN</td>\n",
       "    </tr>\n",
       "    <tr>\n",
       "      <th>2008</th>\n",
       "      <td> 1</td>\n",
       "      <td>NaN</td>\n",
       "    </tr>\n",
       "    <tr>\n",
       "      <th>2009</th>\n",
       "      <td> 1</td>\n",
       "      <td>NaN</td>\n",
       "    </tr>\n",
       "    <tr>\n",
       "      <th>2010</th>\n",
       "      <td> 1</td>\n",
       "      <td>NaN</td>\n",
       "    </tr>\n",
       "  </tbody>\n",
       "</table>\n",
       "</div>"
      ],
      "text/plain": [
       "sex   F   M\n",
       "year       \n",
       "2006  1 NaN\n",
       "2007  1 NaN\n",
       "2008  1 NaN\n",
       "2009  1 NaN\n",
       "2010  1 NaN"
      ]
     },
     "execution_count": 143,
     "metadata": {},
     "output_type": "execute_result"
    }
   ],
   "source": [
    "table = filtered.pivot_table('births', index='year',\n",
    "                             columns='sex', aggfunc='sum')\n",
    "table = table.div(table.sum(1), axis=0)\n",
    "table.tail()"
   ]
  },
  {
   "cell_type": "code",
   "execution_count": 144,
   "metadata": {
    "collapsed": false
   },
   "outputs": [],
   "source": [
    "plt.close('all')"
   ]
  },
  {
   "cell_type": "code",
   "execution_count": 145,
   "metadata": {
    "collapsed": false
   },
   "outputs": [
    {
     "data": {
      "text/plain": [
       "<matplotlib.axes._subplots.AxesSubplot at 0x3ce35358>"
      ]
     },
     "execution_count": 145,
     "metadata": {},
     "output_type": "execute_result"
    },
    {
     "data": {
      "image/png": "[encoded data removed]",
      "text/plain": [
       "<matplotlib.figure.Figure at 0x3ce409e8>"
      ]
     },
     "metadata": {},
     "output_type": "display_data"
    }
   ],
   "source": [
    "table.plot(style={'M': 'k-', 'F': 'k--'})"
   ]
  },
  {
   "cell_type": "code",
   "execution_count": null,
   "metadata": {
    "collapsed": true
   },
   "outputs": [],
   "source": []
  }
 ],
 "metadata": {
  "kernelspec": {
   "display_name": "Python 3",
   "language": "python",
   "name": "python3"
  },
  "language_info": {
   "codemirror_mode": {
    "name": "ipython",
    "version": 3
   },
   "file_extension": ".py",
   "mimetype": "text/x-python",
   "name": "python",
   "nbconvert_exporter": "python",
   "pygments_lexer": "ipython3",
   "version": "3.4.3"
  }
 },
 "nbformat": 4,
 "nbformat_minor": 0
}
